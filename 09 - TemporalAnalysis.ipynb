{
 "cells": [
  {
   "cell_type": "markdown",
   "id": "78b3e388-fb83-4205-b79f-94918dc89b99",
   "metadata": {},
   "source": [
    "This part of the pipeline estimates the genomic divergence rate of each rRNA lineage using Panstripe."
   ]
  },
  {
   "cell_type": "markdown",
   "id": "aa1aa1c2-6a81-4284-8a7d-51e56e66327a",
   "metadata": {},
   "source": [
    "### Paths and parameters"
   ]
  },
  {
   "cell_type": "markdown",
   "id": "fc3cd86b-2abb-477c-8a10-dc893e6c7ad1",
   "metadata": {},
   "source": [
    "#### Pipeline input folders"
   ]
  },
  {
   "cell_type": "code",
   "execution_count": null,
   "id": "9de9216b-f253-46aa-adc2-4ecb433701ff",
   "metadata": {},
   "outputs": [],
   "source": [
    "pa.1.file = \"./05-pangenomes/group1/gene_presence_absence.Rtab\"\n",
    "pa.4.file = \"./05-pangenomes/group4/gene_presence_absence.Rtab\"\n",
    "pa.14a.file = \"./05-pangenomes/group14a/gene_presence_absence.Rtab\"\n",
    "pa.14b.file = \"./05-pangenomes/group14b/gene_presence_absence.Rtab\"\n",
    "pa.m.file = \"./05-pangenomes/merge/gene_presence_absence.Rtab\"\n",
    "\n",
    "tree.1.file = \"./08-core-phylogeny/subtrees/group1.contree\"\n",
    "tree.4.file = \"./08-core-phylogeny/subtrees/group4.contree\"\n",
    "tree.14a.file = \"./08-core-phylogeny/subtrees/group14a.contree\"\n",
    "tree.14b.file = \"./08-core-phylogeny/subtrees/group14b.contree\"\n",
    "tree.m.file = \"./08-core-phylogeny/subtrees/merge.contree\"\n",
    "\n",
    "metadata = \"./genomes_metadata\""
   ]
  },
  {
   "cell_type": "markdown",
   "id": "442e37c7-5cb7-4512-a3ab-d18f7be1925f",
   "metadata": {},
   "source": [
    "#### Pipeline output folders"
   ]
  },
  {
   "cell_type": "code",
   "execution_count": null,
   "id": "1c81a4b2-fba5-47aa-8de0-c7db81f8f895",
   "metadata": {},
   "outputs": [],
   "source": [
    "task_root = \"09-temporalAnalysis\"\n",
    "system(paste0('mkdir -p ', task_root), intern = TRUE)"
   ]
  },
  {
   "cell_type": "markdown",
   "id": "b9730d05-0039-44f2-8335-865cfaf481fd",
   "metadata": {},
   "source": [
    "#### Tool pointers and parameters"
   ]
  },
  {
   "cell_type": "code",
   "execution_count": null,
   "id": "68525210-3eb0-4c2e-b4cf-533a25904717",
   "metadata": {},
   "outputs": [],
   "source": [
    "set.seed(127)"
   ]
  },
  {
   "cell_type": "code",
   "execution_count": null,
   "id": "86d7af21-94a6-4abe-9632-b63d9ddf0ab4",
   "metadata": {},
   "outputs": [],
   "source": [
    "library(panstripe)\n",
    "library(ape)\n",
    "library(ggplot2)"
   ]
  },
  {
   "cell_type": "markdown",
   "id": "b8bd35a5-b0e9-4035-b184-b1b9b9ca4191",
   "metadata": {},
   "source": [
    "### Load files and metadata"
   ]
  },
  {
   "cell_type": "markdown",
   "id": "f6cf850b-7551-457b-bf96-91e6a19dc5ef",
   "metadata": {},
   "source": [
    "#### Cluster annotation"
   ]
  },
  {
   "cell_type": "code",
   "execution_count": null,
   "id": "44430757-d1ae-4b90-9399-ea52f5079bf4",
   "metadata": {},
   "outputs": [],
   "source": [
    "clusters = read.table(metadata, sep=\"\\t\", header=TRUE)\n",
    "clusters = subset(clusters, select = c('Genome_accession', 'Taxonomic_cluster'))\n",
    "clusters"
   ]
  },
  {
   "cell_type": "markdown",
   "id": "50aaf6d7-bc59-4f4c-8f86-d564a73ac2da",
   "metadata": {},
   "source": [
    "#### Presence/absence files"
   ]
  },
  {
   "cell_type": "code",
   "execution_count": null,
   "id": "d9b2470e-a316-40ca-9a28-8db69de6eaa3",
   "metadata": {},
   "outputs": [],
   "source": [
    "pa.1 = read_rtab(pa.1.file)\n",
    "pa.4 = read_rtab(pa.4.file)\n",
    "pa.14a = read_rtab(pa.14a.file)\n",
    "pa.14b = read_rtab(pa.14b.file)\n",
    "pa.m = read_rtab(pa.m.file)"
   ]
  },
  {
   "cell_type": "code",
   "execution_count": null,
   "id": "e4ae5f11-e628-4e1f-b803-8c76040f6785",
   "metadata": {},
   "outputs": [],
   "source": [
    "nrow(pa.1)\n",
    "nrow(pa.4)\n",
    "nrow(pa.14a)\n",
    "nrow(pa.14b)\n",
    "nrow(pa.m)"
   ]
  },
  {
   "cell_type": "markdown",
   "id": "295ce81f-6c7a-474c-89ac-2ddd6e46a7fe",
   "metadata": {},
   "source": [
    "#### Cluster annotation for rRNA clusters"
   ]
  },
  {
   "cell_type": "code",
   "execution_count": null,
   "id": "40ce4eec-0c69-4480-bb45-320a6f81bacf",
   "metadata": {},
   "outputs": [],
   "source": [
    "clusters_fac = as.factor(clusters[match(rownames(pa.m), clusters$Genome_accession),]$Taxonomic_cluster)\n",
    "clusters_fac"
   ]
  },
  {
   "cell_type": "markdown",
   "id": "5033fdfb-be7f-4ab8-9dcc-caa8c9e9aab5",
   "metadata": {},
   "source": [
    "#### Phylogenies"
   ]
  },
  {
   "cell_type": "code",
   "execution_count": null,
   "id": "f9c45afb-ada7-435c-818e-bd97e2266526",
   "metadata": {},
   "outputs": [],
   "source": [
    "tree.m = read.tree(tree.m.file)\n",
    "tree.1 = read.tree(tree.1.file)\n",
    "tree.4 = read.tree(tree.4.file)\n",
    "tree.14a = read.tree(tree.14a.file)\n",
    "tree.14b = read.tree(tree.14b.file)"
   ]
  },
  {
   "cell_type": "markdown",
   "id": "35e0abb1-13e3-4cb0-8c94-10c659e3cbc0",
   "metadata": {},
   "source": [
    "### Fitting genomic divergence models"
   ]
  },
  {
   "cell_type": "markdown",
   "id": "643c01dd-43b9-4d81-9363-ca7022ca633a",
   "metadata": {},
   "source": [
    "using Gaussian GLMs for robustness and ease of convergence"
   ]
  },
  {
   "cell_type": "code",
   "execution_count": null,
   "id": "9c87c921-6084-4bb7-a29b-6a9bca66af6b",
   "metadata": {},
   "outputs": [],
   "source": [
    "fit.1 = panstripe(pa.1, tree.1, family='gaussian')\n",
    "fit.4 = panstripe(pa.4, tree.4, family='gaussian')\n",
    "fit.14a = panstripe(pa.14a, tree.14a, family='gaussian')\n",
    "fit.14b = panstripe(pa.14b, tree.14b, family='gaussian')\n",
    "fit.m = panstripe(pa.m, tree.m, family='gaussian')"
   ]
  },
  {
   "cell_type": "code",
   "execution_count": null,
   "id": "9aa23ac6-04cf-4897-89cc-5c287d16bd98",
   "metadata": {},
   "outputs": [],
   "source": [
    "plot_residuals(fit.1)"
   ]
  },
  {
   "cell_type": "code",
   "execution_count": null,
   "id": "ae947d9f-e8dc-4033-889a-4bda095acd13",
   "metadata": {},
   "outputs": [],
   "source": [
    "plot_residuals(fit.4)"
   ]
  },
  {
   "cell_type": "code",
   "execution_count": null,
   "id": "57334d7b-a188-45c2-af61-eceac79969c0",
   "metadata": {},
   "outputs": [],
   "source": [
    "plot_residuals(fit.14a)"
   ]
  },
  {
   "cell_type": "code",
   "execution_count": null,
   "id": "5cc751d8-5f29-4c66-8987-e86159076835",
   "metadata": {},
   "outputs": [],
   "source": [
    "plot_residuals(fit.14b)"
   ]
  },
  {
   "cell_type": "code",
   "execution_count": null,
   "id": "e8f770d2-169c-4644-9b3a-e3a3849ec4f8",
   "metadata": {},
   "outputs": [],
   "source": [
    "plot_residuals(fit.m)"
   ]
  },
  {
   "cell_type": "code",
   "execution_count": null,
   "id": "98a9005d-818c-46dd-bb59-3870ae3f2699",
   "metadata": {},
   "outputs": [],
   "source": [
    "fit.1$summary"
   ]
  },
  {
   "cell_type": "code",
   "execution_count": null,
   "id": "b7e5d534-264f-48c4-9a0c-a11dcc9e983f",
   "metadata": {},
   "outputs": [],
   "source": [
    "fit.4$summary"
   ]
  },
  {
   "cell_type": "code",
   "execution_count": null,
   "id": "796cdac2-10d4-4ba8-be08-9740b6e627a6",
   "metadata": {},
   "outputs": [],
   "source": [
    "fit.14a$summary"
   ]
  },
  {
   "cell_type": "code",
   "execution_count": null,
   "id": "583f0669-ebdd-41ad-bc91-f32a21a9ade6",
   "metadata": {},
   "outputs": [],
   "source": [
    "fit.14b$summary"
   ]
  },
  {
   "cell_type": "code",
   "execution_count": null,
   "id": "f7146d38-50dc-498c-8507-70724a5d1948",
   "metadata": {},
   "outputs": [],
   "source": [
    "fit.m$summary"
   ]
  },
  {
   "cell_type": "code",
   "execution_count": null,
   "id": "6a4a9456-01a6-4d4c-87d8-19ab9ecf9d55",
   "metadata": {},
   "outputs": [],
   "source": [
    "svg(paste(task_root, 'panstripe_cumulative_pangenome.svg', sep = \"/\"))\n",
    "plot_pangenome_cumulative(list(cluster_I = fit.1, cluster_IV = fit.4, cluster_XIVa = fit.14a, cluster_XIVb = fit.14b))\n",
    "dev.off()"
   ]
  },
  {
   "cell_type": "markdown",
   "id": "d62bdf94-d04e-48e5-8433-0756cde080c9",
   "metadata": {},
   "source": [
    "#### Statistically comparing the model fits"
   ]
  },
  {
   "cell_type": "code",
   "execution_count": null,
   "id": "1679dbca-c4e8-44eb-a9ea-6ceeb197a394",
   "metadata": {},
   "outputs": [],
   "source": [
    "compare_pangenomes(fit.1, fit.4, family = \"gaussian\")"
   ]
  },
  {
   "cell_type": "code",
   "execution_count": null,
   "id": "4f4db54a-334b-4a24-9869-e28c5df0c355",
   "metadata": {},
   "outputs": [],
   "source": [
    "compare_pangenomes(fit.14a, fit.4, family = \"gaussian\")"
   ]
  },
  {
   "cell_type": "code",
   "execution_count": null,
   "id": "46118565-c02f-426a-adec-783ebef1d47c",
   "metadata": {},
   "outputs": [],
   "source": [
    "compare_pangenomes(fit.1, fit.14a, family = \"gaussian\")"
   ]
  },
  {
   "cell_type": "code",
   "execution_count": null,
   "id": "e908aa2c-ae95-495e-87ca-f7f6b00057a3",
   "metadata": {},
   "outputs": [],
   "source": [
    "compare_pangenomes(fit.1, fit.14b, family = \"gaussian\")"
   ]
  },
  {
   "cell_type": "code",
   "execution_count": null,
   "id": "5f5ec5fd-0d84-4a05-8422-79b4e38c1798",
   "metadata": {},
   "outputs": [],
   "source": [
    "compare_pangenomes(fit.4, fit.14b, family = \"gaussian\")"
   ]
  },
  {
   "cell_type": "code",
   "execution_count": null,
   "id": "9b2cf16c-f2d1-4885-8cb7-4e7c7d1da1f3",
   "metadata": {},
   "outputs": [],
   "source": [
    "compare_pangenomes(fit.14a, fit.14b, family = \"gaussian\")"
   ]
  },
  {
   "cell_type": "markdown",
   "id": "8b2a3a45-e79a-43bd-a83d-8240dca325ec",
   "metadata": {},
   "source": [
    "#### Gene gain/loss fits from the Panstripe models"
   ]
  },
  {
   "cell_type": "code",
   "execution_count": null,
   "id": "26778858-8492-4ccb-b088-e71d826f0466",
   "metadata": {},
   "outputs": [],
   "source": [
    "svg(paste(task_root, 'panstripe_gain_loss_clust14a.svg', sep = \"/\"))\n",
    "plot_gain_loss(fit.14a, tip_label=FALSE)\n",
    "dev.off()"
   ]
  },
  {
   "cell_type": "code",
   "execution_count": null,
   "id": "2c0838bb-72cd-48b0-b130-c5dcfabf243e",
   "metadata": {},
   "outputs": [],
   "source": [
    "svg(paste(task_root, 'panstripe_gain_loss_clust14b.svg', sep = \"/\"))\n",
    "plot_gain_loss(fit.14b, tip_label=FALSE)\n",
    "dev.off()"
   ]
  },
  {
   "cell_type": "code",
   "execution_count": null,
   "id": "183e17e3-0f96-4895-9898-d3f73ff8bb12",
   "metadata": {},
   "outputs": [],
   "source": [
    "svg(paste(task_root, 'panstripe_gain_loss_clust1.svg', sep = \"/\"))\n",
    "plot_gain_loss(fit.1, tip_label=FALSE)\n",
    "dev.off()"
   ]
  },
  {
   "cell_type": "code",
   "execution_count": null,
   "id": "ed41d838-08f7-49b7-ae7e-4bca1857fdc6",
   "metadata": {},
   "outputs": [],
   "source": [
    "svg(paste(task_root, 'panstripe_gain_loss_clust4.svg', sep = \"/\"))\n",
    "plot_gain_loss(fit.4, tip_label=FALSE)\n",
    "dev.off()"
   ]
  },
  {
   "cell_type": "code",
   "execution_count": null,
   "id": "edd68dff-36d7-413d-aff9-2a267202827d",
   "metadata": {},
   "outputs": [],
   "source": [
    "svg(paste(task_root, 'panstripe_gain_loss_merge.svg', sep = \"/\"))\n",
    "plot_gain_loss(fit.m, tip_label=FALSE)\n",
    "dev.off()"
   ]
  },
  {
   "cell_type": "code",
   "execution_count": null,
   "id": "e4120112-73f8-4aad-a741-5b70b61cfa84",
   "metadata": {},
   "outputs": [],
   "source": [
    "save.image(file = paste(task_root, \"environment.RData\", sep = \"/\"))"
   ]
  },
  {
   "cell_type": "code",
   "execution_count": 2,
   "id": "d8bf82c9-2667-4e77-98f0-bd45c34db6da",
   "metadata": {},
   "outputs": [
    {
     "data": {
      "text/plain": [
       "R version 4.1.2 (2021-11-01)\n",
       "Platform: x86_64-pc-linux-gnu (64-bit)\n",
       "Running under: Linux Mint 21.2\n",
       "\n",
       "Matrix products: default\n",
       "BLAS:   /usr/lib/x86_64-linux-gnu/openblas-pthread/libblas.so.3\n",
       "LAPACK: /usr/lib/x86_64-linux-gnu/openblas-pthread/libopenblasp-r0.3.20.so\n",
       "\n",
       "locale:\n",
       " [1] LC_CTYPE=en_US.UTF-8       LC_NUMERIC=C              \n",
       " [3] LC_TIME=en_US.UTF-8        LC_COLLATE=en_US.UTF-8    \n",
       " [5] LC_MONETARY=nl_BE.UTF-8    LC_MESSAGES=en_US.UTF-8   \n",
       " [7] LC_PAPER=nl_BE.UTF-8       LC_NAME=C                 \n",
       " [9] LC_ADDRESS=C               LC_TELEPHONE=C            \n",
       "[11] LC_MEASUREMENT=nl_BE.UTF-8 LC_IDENTIFICATION=C       \n",
       "\n",
       "attached base packages:\n",
       "[1] stats     graphics  grDevices utils     datasets  methods   base     \n",
       "\n",
       "other attached packages:\n",
       "[1] ggplot2_3.5.1   ape_5.8         panstripe_0.2.0\n",
       "\n",
       "loaded via a namespace (and not attached):\n",
       " [1] Rcpp_1.0.12       pillar_1.9.0      compiler_4.1.2    base64enc_0.1-3  \n",
       " [5] tools_4.1.2       digest_0.6.35     uuid_1.2-0        jsonlite_1.8.8   \n",
       " [9] evaluate_0.23     lifecycle_1.0.4   tibble_3.2.1      nlme_3.1-155     \n",
       "[13] gtable_0.3.4      lattice_0.22-5    pkgconfig_2.0.3   rlang_1.1.3      \n",
       "[17] IRdisplay_1.1     cli_3.6.2         IRkernel_1.3.2    parallel_4.1.2   \n",
       "[21] fastmap_1.1.1     withr_3.0.0       dplyr_1.1.4       repr_1.1.7       \n",
       "[25] generics_0.1.3    vctrs_0.6.5       tidyselect_1.2.0  grid_4.1.2       \n",
       "[29] glue_1.7.0        R6_2.5.1          fansi_1.0.6       pbdZMQ_0.3-11    \n",
       "[33] magrittr_2.0.3    scales_1.3.0      htmltools_0.5.8.1 colorspace_2.1-0 \n",
       "[37] utf8_1.2.4        munsell_0.5.0     crayon_1.5.2     "
      ]
     },
     "metadata": {},
     "output_type": "display_data"
    }
   ],
   "source": [
    "sessionInfo()"
   ]
  },
  {
   "cell_type": "code",
   "execution_count": null,
   "id": "157a7dc3-ec19-4680-a85f-005d9664d036",
   "metadata": {},
   "outputs": [],
   "source": []
  }
 ],
 "metadata": {
  "kernelspec": {
   "display_name": "R",
   "language": "R",
   "name": "ir"
  },
  "language_info": {
   "codemirror_mode": "r",
   "file_extension": ".r",
   "mimetype": "text/x-r-source",
   "name": "R",
   "pygments_lexer": "r",
   "version": "4.1.2"
  }
 },
 "nbformat": 4,
 "nbformat_minor": 5
}
