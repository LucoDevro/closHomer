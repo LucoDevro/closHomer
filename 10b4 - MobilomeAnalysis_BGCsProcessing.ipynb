{
 "cells": [
  {
   "cell_type": "markdown",
   "id": "3f925c06-b2b7-4c23-a5ed-e89486f58c68",
   "metadata": {},
   "source": [
    "This part of the pipeline processes the raw antiSMASH output and statistically compares the normalised BGC counts by rRNA cluster."
   ]
  },
  {
   "cell_type": "markdown",
   "id": "98ab3630-2b16-4d9a-b1b2-c9c915234388",
   "metadata": {},
   "source": [
    "### Paths and parameters"
   ]
  },
  {
   "cell_type": "markdown",
   "id": "e3384b0b-6159-4427-a952-97aa57be55fa",
   "metadata": {},
   "source": [
    "#### Pipeline input folders"
   ]
  },
  {
   "cell_type": "code",
   "execution_count": null,
   "id": "0e05ac07-8173-48a1-996b-f9940f602086",
   "metadata": {},
   "outputs": [],
   "source": [
    "metadata = \"./genomes_metadata\""
   ]
  },
  {
   "cell_type": "markdown",
   "id": "85823672-8596-4f5c-8a13-63c4ae46dee2",
   "metadata": {},
   "source": [
    "#### Pipeline output folders"
   ]
  },
  {
   "cell_type": "code",
   "execution_count": null,
   "id": "a77a5438-3ecd-4e52-8e20-0e44da09bb72",
   "metadata": {},
   "outputs": [],
   "source": [
    "task_root = \"./10-MGEs/BGCs\"\n",
    "output_folder = task_root+\"/output\"\n",
    "results_folder = task_root+\"/processed_output\""
   ]
  },
  {
   "cell_type": "markdown",
   "id": "3591aa2d-9f27-4113-ab2e-26bb74656a2b",
   "metadata": {},
   "source": [
    "#### Tool pointers and parameters"
   ]
  },
  {
   "cell_type": "code",
   "execution_count": null,
   "id": "2219d3a4-2e39-4a94-a6d7-eab0430c2134",
   "metadata": {},
   "outputs": [],
   "source": []
  },
  {
   "cell_type": "markdown",
   "id": "23b0e5e0-b1a7-46f8-85cc-330d461b474d",
   "metadata": {},
   "source": [
    "#### Libraries and other setups"
   ]
  },
  {
   "cell_type": "code",
   "execution_count": null,
   "id": "2daa2c12-847c-4409-a8a0-334fce44375b",
   "metadata": {},
   "outputs": [],
   "source": [
    "from Bio import SeqIO\n",
    "import os\n",
    "import pandas as pd\n",
    "import matplotlib.pyplot as plt\n",
    "import seaborn as sns\n",
    "import itertools as it\n",
    "import scipy.stats as sts\n",
    "import numpy as np\n",
    "from statannotations.Annotator import Annotator"
   ]
  },
  {
   "cell_type": "code",
   "execution_count": null,
   "id": "32457569-edf8-44a0-997a-fd8e62c97506",
   "metadata": {},
   "outputs": [],
   "source": [
    "custom_palette = sns.husl_palette()\n",
    "custom_palette = [custom_palette[0], custom_palette[2], custom_palette[4], custom_palette[5]]\n",
    "custom_palette"
   ]
  },
  {
   "cell_type": "code",
   "execution_count": null,
   "id": "e5cd509f-5750-40eb-8915-418256a1dbd3",
   "metadata": {},
   "outputs": [],
   "source": [
    "os.makedirs(results_folder, exist_ok=True)"
   ]
  },
  {
   "cell_type": "markdown",
   "id": "72878221-9ce9-4c25-8dd0-4ec23f282d77",
   "metadata": {},
   "source": [
    "## Reading input files"
   ]
  },
  {
   "cell_type": "markdown",
   "id": "9eb49800-ba94-4fb6-8098-7c338222fab1",
   "metadata": {},
   "source": [
    "### Parsing the output"
   ]
  },
  {
   "cell_type": "markdown",
   "id": "55db9fb2-ac26-46b0-8770-3dae899679d5",
   "metadata": {},
   "source": [
    "This parser will assign all hits to a certain BGC type so that we can differentiate these downstream, but this causes hybrid regions to be included multiple times, so we'll have to deduplicate these in the general count plots later on."
   ]
  },
  {
   "cell_type": "code",
   "execution_count": null,
   "id": "fd260869-e6d9-4179-b29e-3a8fce0a1770",
   "metadata": {},
   "outputs": [],
   "source": [
    "os.makedirs(results_folder, exist_ok=True)\n",
    "result_dirs = os.listdir(output_folder)\n",
    "hits_hybrids = []\n",
    "# Take a look into the result directory of each screened assembly\n",
    "for dir in result_dirs:\n",
    "    dir_conts = os.listdir(output_folder + '/' + dir)\n",
    "    genbank_files = [f for f in dir_conts if '.region' in f]\n",
    "    # Take a look into each GenBank region file\n",
    "    for gbf in genbank_files:\n",
    "        with open(output_folder + '/' + dir + '/' + gbf, \"r\") as handle:\n",
    "            seq = list(SeqIO.parse(handle, 'genbank'))[0]\n",
    "        # Get all product region tags in this file\n",
    "        region_tags = [f for f in seq.features if f.type == \"region\"][0]\n",
    "        types = region_tags.qualifiers['product']\n",
    "        hybrid = len(types) != 1\n",
    "        # Create a hit record for each BGC type in this region\n",
    "        for type in types:\n",
    "            length = int(region_tags.location.end)\n",
    "            contig = seq.id\n",
    "            region = int(region_tags.qualifiers['region_number'][0])\n",
    "            record = {'assembly_ID': dir, 'contig_ID': contig, 'region': region, 'type': type, 'hybrid': hybrid, 'length': length}\n",
    "            hits_hybrids.append(record)\n",
    "hits_hybrids = pd.DataFrame(hits_hybrids)\n",
    "hits_hybrids"
   ]
  },
  {
   "cell_type": "code",
   "execution_count": null,
   "id": "bb68ea22-31cf-4a87-90c7-bc3c93966d2c",
   "metadata": {},
   "outputs": [],
   "source": [
    "hits_hybrids.to_csv(results_folder + \"/all_hits\", sep = '\\t', index = False)"
   ]
  },
  {
   "cell_type": "markdown",
   "id": "ec9ce335-5f9d-4113-b53b-adb2e986977c",
   "metadata": {},
   "source": [
    "### Loading the cluster annotations"
   ]
  },
  {
   "cell_type": "code",
   "execution_count": null,
   "id": "8cdffc50-8f6c-4053-b795-e960dabc721f",
   "metadata": {
    "scrolled": true
   },
   "outputs": [],
   "source": [
    "cluster_annotations_0 = pd.read_table(metadata, sep = '\\t', usecols = [1,2])\n",
    "cluster_annotations_0.columns = ['assemblyID', 'cluster']\n",
    "cluster_annotations = cluster_annotations_0.to_dict(orient = 'list')\n",
    "cluster_annotations = dict(zip(*cluster_annotations.values()))\n",
    "cluster_annotations"
   ]
  },
  {
   "cell_type": "markdown",
   "id": "00918461-e96e-4af7-8aa4-98c26234ce98",
   "metadata": {},
   "source": [
    "### Reading the genome sizes"
   ]
  },
  {
   "cell_type": "markdown",
   "id": "7e20b596-7ae4-4972-94b0-2f9f4041ad83",
   "metadata": {},
   "source": [
    "Necessary for normalising the general BGC counts"
   ]
  },
  {
   "cell_type": "code",
   "execution_count": null,
   "id": "950e2891-5cd2-41ae-84b4-854a8c8249a3",
   "metadata": {},
   "outputs": [],
   "source": [
    "genome_sizes_0 = pd.read_table(metadata, sep = '\\t', usecols = [1,4])\n",
    "genome_sizes_0.columns = ['assemblyID', 'size']"
   ]
  },
  {
   "cell_type": "code",
   "execution_count": null,
   "id": "cf46e3b7-70da-495e-8018-54d5a7a45385",
   "metadata": {},
   "outputs": [],
   "source": [
    "genome_sizes = genome_sizes_0.to_dict(orient = 'list')\n",
    "genome_sizes = dict(zip(*genome_sizes.values()))\n",
    "genome_sizes"
   ]
  },
  {
   "cell_type": "markdown",
   "id": "d29c4785-9e11-49fe-9310-98d059631ab7",
   "metadata": {},
   "source": [
    "### Adding metadata"
   ]
  },
  {
   "cell_type": "code",
   "execution_count": null,
   "id": "0540ddc8-e38b-4fbc-ae7d-2adedf0636eb",
   "metadata": {},
   "outputs": [],
   "source": [
    "hits_hybrids['cluster'] = hits_hybrids['assembly_ID'].apply(lambda x: cluster_annotations[x])\n",
    "hits_hybrids['size'] = hits_hybrids['assembly_ID'].apply(lambda x: genome_sizes[x])\n",
    "hits_hybrids"
   ]
  },
  {
   "cell_type": "markdown",
   "id": "ca13489a-d32b-491e-ad7e-6d9712c2375f",
   "metadata": {},
   "source": [
    "### General count plots"
   ]
  },
  {
   "cell_type": "markdown",
   "id": "5130a23a-7412-480e-bcb6-77ef1d218b18",
   "metadata": {},
   "source": [
    "Let's now deduplicate the records of the hybrid regions after omitting the `hybrid` and `type` columns."
   ]
  },
  {
   "cell_type": "code",
   "execution_count": null,
   "id": "b12426b0-04ca-415e-af7a-4dc2a0b8502a",
   "metadata": {},
   "outputs": [],
   "source": [
    "hits = hits_hybrids.drop(columns = ['hybrid', 'type']).drop_duplicates()"
   ]
  },
  {
   "cell_type": "markdown",
   "id": "e484a2ba-c597-44e8-873a-175ae7d61292",
   "metadata": {},
   "source": [
    "Add metadata columns and normalise the general counts by genome size"
   ]
  },
  {
   "cell_type": "code",
   "execution_count": null,
   "id": "bb645c32-da52-486d-a16d-fb8c60f95557",
   "metadata": {},
   "outputs": [],
   "source": [
    "cluster_counts = pd.DataFrame(hits.groupby('assembly_ID')['contig_ID'].count()\n",
    "                             ).reset_index().rename(columns = {'contig_ID': 'No. BGCs'})\n",
    "cluster_counts['cluster'] = cluster_counts['assembly_ID'].apply(lambda x: cluster_annotations[x])\n",
    "cluster_counts['size'] = cluster_counts['assembly_ID'].apply(lambda x: genome_sizes[x])\n",
    "cluster_counts['Norm. no. BGCs'] = cluster_counts['No. BGCs']/cluster_counts['size']*1000000\n",
    "cluster_counts"
   ]
  },
  {
   "cell_type": "markdown",
   "id": "b67291af-529d-4be6-9a84-1e67b657833c",
   "metadata": {},
   "source": [
    "#### Barplot"
   ]
  },
  {
   "cell_type": "code",
   "execution_count": null,
   "id": "20d358d1-089d-457b-80e5-3fbb5d3fc195",
   "metadata": {},
   "outputs": [],
   "source": [
    "fig, ax = plt.subplots(figsize = (5,2))\n",
    "ax = sns.barplot(ax = ax, data = cluster_counts, estimator = \"mean\", errorbar = \"se\",\n",
    "                 x = \"Norm. no. BGCs\", y = \"cluster\", palette = custom_palette,\n",
    "                 width = 0.9, orient = \"h\")\n",
    "plt.xlabel('Avg. norm. no. BGCs')\n",
    "plt.ylabel('rRNA cluster')\n",
    "plt.title('BGCs')\n",
    "plt.savefig(results_folder + \"/\" + \"av_counts_BGCcluster_bar.svg\")\n",
    "plt.show()"
   ]
  },
  {
   "cell_type": "markdown",
   "id": "b53312df-6830-4ece-a551-0d97410495b1",
   "metadata": {},
   "source": [
    "#### Violinplot"
   ]
  },
  {
   "cell_type": "code",
   "execution_count": null,
   "id": "54c42f82-e903-4c46-9507-73e2ffd9087c",
   "metadata": {},
   "outputs": [],
   "source": [
    "fig, ax = plt.subplots(figsize = (5,3))\n",
    "ax = sns.violinplot(ax = ax, data = cluster_counts, x = 'Norm. no. BGCs', y = 'cluster',\n",
    "                    palette = custom_palette, orient = 'h', cut = 0)\n",
    "plt.xlabel('Norm. no. BGCs')\n",
    "plt.ylabel('rRNA cluster')\n",
    "plt.title('BGCs')\n",
    "\n",
    "# Adding statistical significance marks\n",
    "pairs = list(it.combinations(cluster_counts['cluster'].unique(), 2))\n",
    "annotator = Annotator(ax = ax, pairs = pairs, data = cluster_counts, x = 'Norm. no. BGCs', y = 'cluster', orient = 'h', cut = 0)\n",
    "annotator.configure(test = 'Mann-Whitney', text_format = 'star', loc = 'inside')\n",
    "annotator.apply_and_annotate()\n",
    "\n",
    "plt.savefig(results_folder + \"/\" + 'counts_BGCcluster_violin.svg')\n",
    "plt.show()"
   ]
  },
  {
   "cell_type": "markdown",
   "id": "9b37d269-528a-41a1-ae39-1bcfe9d479eb",
   "metadata": {},
   "source": [
    "#### Exact stats"
   ]
  },
  {
   "cell_type": "markdown",
   "id": "3b017ec1-2aa5-4bb1-81c9-d3cbd60d0253",
   "metadata": {},
   "source": [
    "Getting all counts grouped by rRNA cluster"
   ]
  },
  {
   "cell_type": "code",
   "execution_count": null,
   "id": "c3b8839a-1e7e-41f8-a820-102fad05e62c",
   "metadata": {
    "scrolled": true
   },
   "outputs": [],
   "source": [
    "cluster_counts_stats = cluster_counts[['Norm. no. BGCs', 'cluster']].to_dict(orient = 'list')\n",
    "cluster_counts_stats = list(zip(*cluster_counts_stats.values()))\n",
    "counts_stats = {}\n",
    "for record in cluster_counts_stats:\n",
    "    try:\n",
    "        counts_stats[record[1]].append(record[0])\n",
    "    except KeyError:\n",
    "        counts_stats[record[1]] = [record[0]]\n",
    "counts_stats"
   ]
  },
  {
   "cell_type": "code",
   "execution_count": null,
   "id": "b4efa986-5b63-439b-9339-e4c82e07575c",
   "metadata": {},
   "outputs": [],
   "source": [
    "[(i, [np.mean(j), np.std(j)]) for i,j in counts_stats.items()]"
   ]
  },
  {
   "cell_type": "code",
   "execution_count": null,
   "id": "08663ba4-843e-42e3-9748-d1025766a1b2",
   "metadata": {},
   "outputs": [],
   "source": [
    "tests = it.combinations(counts_stats.keys(), 2)\n",
    "for comb in tests:\n",
    "    print(str(comb) + ': ' + \n",
    "          str(sts.mannwhitneyu(counts_stats[comb[0]], \n",
    "                           counts_stats[comb[1]])\n",
    "              [1])\n",
    "         )"
   ]
  },
  {
   "cell_type": "markdown",
   "id": "edd9be51-db08-494c-8f3b-6bd46936de5b",
   "metadata": {},
   "source": [
    "### BGC types per cluster"
   ]
  },
  {
   "cell_type": "markdown",
   "id": "ce7d2b33-5cfe-4cf0-a4f2-f9a948d8cd2c",
   "metadata": {},
   "source": [
    "Count by BGC type. Hybrids count for each region they're a hybrid of."
   ]
  },
  {
   "cell_type": "code",
   "execution_count": null,
   "id": "610ca4cc-db85-4e4d-a7a3-26629153de12",
   "metadata": {},
   "outputs": [],
   "source": [
    "type_counts = pd.DataFrame(hits_hybrids.groupby(['assembly_ID', 'type'])['contig_ID'].count()\n",
    "                               ).reset_index().rename(columns = {'contig_ID': 'No. BGCs'})\n",
    "type_counts"
   ]
  },
  {
   "cell_type": "markdown",
   "id": "46e6aa68-ebd5-48c0-b810-361bb8d31741",
   "metadata": {},
   "source": [
    "Readd rRNA cluster annotation and melt the dataframe by cluster annotation"
   ]
  },
  {
   "cell_type": "code",
   "execution_count": null,
   "id": "f38f1802-35f3-44e9-8458-1b809bce8273",
   "metadata": {},
   "outputs": [],
   "source": [
    "type_counts_pivot = type_counts.pivot(columns = \"type\", index = \"assembly_ID\", values = \"No. BGCs\").fillna(0).astype(int)\n",
    "type_counts_pivot['cluster'] = type_counts_pivot.index.to_series().apply(lambda x: cluster_annotations[x])\n",
    "type_counts_pivot = type_counts_pivot.melt(id_vars = 'cluster').rename(columns = {'value': 'No. BGCs'})\n",
    "type_counts_pivot"
   ]
  },
  {
   "cell_type": "code",
   "execution_count": null,
   "id": "5ed7c706-046f-4f4b-8c98-476d167facda",
   "metadata": {},
   "outputs": [],
   "source": [
    "fig, ax = plt.subplots(figsize = (6,8))\n",
    "ax = sns.barplot(ax = ax, data = type_counts_pivot, estimator = \"mean\", errorbar = \"se\",\n",
    "                 x = \"No. BGCs\", y = \"type\", hue = \"cluster\", order = sorted(type_counts['type'].unique()),\n",
    "                 palette = custom_palette, width = 0.9, orient = \"h\")\n",
    "plt.xlabel('Avg. no. BGCs')\n",
    "plt.ylabel('BGC class')\n",
    "plt.savefig(results_folder + \"/\" + \"av_counts_BGCtype.svg\")\n",
    "plt.show()"
   ]
  },
  {
   "cell_type": "code",
   "execution_count": null,
   "id": "867a8df2-6f59-4927-8d74-b08a2ccf17ec",
   "metadata": {},
   "outputs": [],
   "source": []
  }
 ],
 "metadata": {
  "kernelspec": {
   "display_name": "Python 3 (ipykernel)",
   "language": "python",
   "name": "python3"
  },
  "language_info": {
   "codemirror_mode": {
    "name": "ipython",
    "version": 3
   },
   "file_extension": ".py",
   "mimetype": "text/x-python",
   "name": "python",
   "nbconvert_exporter": "python",
   "pygments_lexer": "ipython3",
   "version": "3.10.12"
  }
 },
 "nbformat": 4,
 "nbformat_minor": 5
}
