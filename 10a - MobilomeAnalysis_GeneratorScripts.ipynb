{
 "cells": [
  {
   "cell_type": "markdown",
   "id": "e7dec965-c015-4515-88e1-17dfb1cf1e6b",
   "metadata": {},
   "source": [
    "This part of the pipeline runs several scanner tools that screen genomes specificly for one MGE type. This notebook generates the raw output that will be processed later downstream."
   ]
  },
  {
   "cell_type": "markdown",
   "id": "41c11187-58cd-4a2b-9fb6-9854fa660954",
   "metadata": {},
   "source": [
    "**Make sure your Docker engine is active!**"
   ]
  },
  {
   "cell_type": "markdown",
   "id": "1a93cefa-31ff-4843-8a7b-9763e30f386e",
   "metadata": {},
   "source": [
    "### Paths and parameters"
   ]
  },
  {
   "cell_type": "markdown",
   "id": "ae10ee36-562f-429b-a74c-439092cd2d4b",
   "metadata": {},
   "source": [
    "#### Pipeline input folders"
   ]
  },
  {
   "cell_type": "code",
   "execution_count": null,
   "id": "5f8e01cc-aec0-426f-abe4-76bb2dd5c143",
   "metadata": {},
   "outputs": [],
   "source": [
    "genomes=\"./02-QC/data/genomes\"\n",
    "proteomes_gbk=\"./02-QC/data/proteomes_gbk\""
   ]
  },
  {
   "cell_type": "markdown",
   "id": "5f088f47-a2ac-4e12-804a-94025b7e9421",
   "metadata": {},
   "source": [
    "#### Pipeline output folders"
   ]
  },
  {
   "cell_type": "code",
   "execution_count": null,
   "id": "2276b673-4c7d-4e95-a035-c4301236c133",
   "metadata": {},
   "outputs": [],
   "source": [
    "task_root=\"./10-MGEs\"\n",
    "ises=\"$task_root/ISEs\"\n",
    "ises_output=\"$ises/output\"\n",
    "pseudos=\"$task_root/pseudogenes\"\n",
    "pseudos_output=\"$pseudos/output\"\n",
    "prophages=\"$task_root/prophages\"\n",
    "prophages_output=\"$prophages/output\"\n",
    "bgcs=\"$task_root/BGCs\"\n",
    "bgcs_output=\"$bgcs/output\"\n",
    "bgcs_logs=\"$bgcs/logs\"\n",
    "genome_sizes=\"$task_root/genome_sizes\"\n",
    "\n",
    "mkdir -p $task_root $ises $ises_output $pseudos $pseudos_output $prophages $prophages_output $bgcs $bgcs_logs $bgcs_output $genome_sizes"
   ]
  },
  {
   "cell_type": "markdown",
   "id": "f4282921-3453-4359-a8ea-cd7566abb90c",
   "metadata": {},
   "source": [
    "#### Tool pointers and parameters"
   ]
  },
  {
   "cell_type": "code",
   "execution_count": null,
   "id": "6d0497df-d90b-468f-8bfa-d851e65d48ef",
   "metadata": {},
   "outputs": [],
   "source": [
    "pseudofinder_db=\"/mnt/STORAGE/databases/blast_databases/Clostridia_nr\"\n",
    "pseudofinder=\"$HOME/bin/pseudofinder/pseudofinder.py\"\n",
    "\n",
    "phastest_docker_home=\"/mnt/STORAGE/databases/phastest/slurm-docker-cluster\"\n",
    "phastest_docker_input_folder=\"$phastest_docker_home/phastest_inputs\"\n",
    "phastest_docker_results_folder=\"$phastest_docker_home/phastest-app-docker/JOBS\""
   ]
  },
  {
   "cell_type": "code",
   "execution_count": null,
   "id": "6387263b-289a-47ab-ad83-001b29cdb7f5",
   "metadata": {},
   "outputs": [],
   "source": [
    "n_cores=20\n",
    "n_pipes=5\n",
    "n_cores_per_pipe=$(( n_cores / n_pipes ))"
   ]
  },
  {
   "cell_type": "markdown",
   "id": "dc0035de-f0e3-4a64-a21c-05c97fbc08e6",
   "metadata": {},
   "source": [
    "### Testing dependencies"
   ]
  },
  {
   "cell_type": "code",
   "execution_count": null,
   "id": "16dba519-5956-41e7-8bd1-a9cd8c885791",
   "metadata": {},
   "outputs": [],
   "source": [
    "conda activate isescan\n",
    "isescan.py --version\n",
    "conda deactivate"
   ]
  },
  {
   "cell_type": "code",
   "execution_count": null,
   "id": "f01ed548-76c1-4d79-8b6d-baec65c72e41",
   "metadata": {},
   "outputs": [],
   "source": [
    "conda activate pseudofinder\n",
    "$pseudofinder version\n",
    "conda deactivate"
   ]
  },
  {
   "cell_type": "code",
   "execution_count": null,
   "id": "661a0823-3b39-4391-a4d7-373f775dad13",
   "metadata": {},
   "outputs": [],
   "source": [
    "conda activate antismash\n",
    "antismash --version\n",
    "conda deactivate"
   ]
  },
  {
   "cell_type": "markdown",
   "id": "2a7fb93e-6434-4cc3-9c1c-86789cd0d30f",
   "metadata": {},
   "source": [
    "### ISEs"
   ]
  },
  {
   "cell_type": "code",
   "execution_count": null,
   "id": "8c640974-b3fe-4255-9c52-a2aac73daaf3",
   "metadata": {},
   "outputs": [],
   "source": [
    "conda activate isescan\n",
    "dir -1 $genomes | parallel --eta -j $n_pipes -I % isescan.py --seqfile $genomes/% --output $ises_output/% --nthread $n_cores_per_pipe \\\n",
    "| tee $ises/run.log\n",
    "conda deactivate"
   ]
  },
  {
   "cell_type": "markdown",
   "id": "e8bd1ec2-5800-4033-9b29-ae45fdb235b8",
   "metadata": {},
   "source": [
    "### Pseudogenes"
   ]
  },
  {
   "cell_type": "code",
   "execution_count": null,
   "id": "e3af9863-0346-4d23-a530-a770aba17417",
   "metadata": {},
   "outputs": [],
   "source": [
    "conda activate pseudofinder\n",
    "dir -1 $genomes | xargs basename -s .fna | xargs -I % $pseudofinder annotate --genome $proteomes_gbk/%.gbff \\\n",
    "--outprefix $pseudos_output/% --database $pseudofinder_db --threads $n_cores --diamond | tee $pseudos/run.log\n",
    "conda deactivate"
   ]
  },
  {
   "cell_type": "code",
   "execution_count": null,
   "id": "7e73f795-0bd0-4b9e-bd7f-b891468024ce",
   "metadata": {},
   "outputs": [],
   "source": [
    "dir -1 $genomes | xargs basename -s .fna | xargs -I % bash -c \"\n",
    "mkdir -p $pseudos_output/%\n",
    "dir -1 $pseudos_output | grep % | grep -Ev '[0-9]$' | xargs -I {} mv $pseudos_output/{} $pseudos_output/%/{}\n",
    "\""
   ]
  },
  {
   "cell_type": "markdown",
   "id": "cc9d6c62-1bc0-4fa6-aef9-667c470d72ca",
   "metadata": {},
   "source": [
    "### BGCs"
   ]
  },
  {
   "cell_type": "markdown",
   "id": "42d99732-56e9-4f7b-b481-2c611681d788",
   "metadata": {},
   "source": [
    "webserver defaults"
   ]
  },
  {
   "cell_type": "code",
   "execution_count": null,
   "id": "395c48a6-b16b-4dce-9acf-3298cdca3648",
   "metadata": {},
   "outputs": [],
   "source": [
    "conda activate antismash\n",
    "dir -1 $genomes | xargs basename -s .fna | parallel --eta -j $n_pipes -I % antismash --cpus $(( n_cores_per_pipe + 1 )) --taxon bacteria \\\n",
    "--output-dir $bgcs_output/% --output-basename % --logfile $bgcs_logs/%.log \\\n",
    "--cb-knownclusters --cb-subclusters --asf --rre --tfbs --genefinding-tool prodigal \\\n",
    "$genomes/%.fna\n",
    "conda deactivate"
   ]
  },
  {
   "cell_type": "markdown",
   "id": "a454cbd0-fee9-4485-9565-570a2be7123c",
   "metadata": {},
   "source": [
    "### Prophages"
   ]
  },
  {
   "cell_type": "markdown",
   "id": "1d89c890-e09c-412d-9207-5097d1c25629",
   "metadata": {},
   "source": [
    "`Phastest` has its own work folder structure we have to adhere to, so let's reproduce it here."
   ]
  },
  {
   "cell_type": "code",
   "execution_count": null,
   "id": "fe96fa7b-1486-4ab7-8769-c49fca1f1e96",
   "metadata": {},
   "outputs": [],
   "source": [
    "cp -u $genomes/* $phastest_docker_input_folder/"
   ]
  },
  {
   "cell_type": "code",
   "execution_count": null,
   "id": "5d2fed22-2129-483f-a04b-d973f059a832",
   "metadata": {},
   "outputs": [],
   "source": [
    "root=$(pwd)\n",
    "cd $phastest_docker_home"
   ]
  },
  {
   "cell_type": "markdown",
   "id": "4c52d743-e315-4e7a-91d7-d4f8f41f7ba9",
   "metadata": {},
   "source": [
    "`xargs -t` flag to print which run is being executed\n",
    "\n",
    "`docker run -T` flag to accept `xargs` argument piping into `docker`\n",
    "\n",
    "`phastest --single-diamond` flag to run only one `diamond` process at a time to avoid file access clashing"
   ]
  },
  {
   "cell_type": "code",
   "execution_count": null,
   "id": "47907a91-7cc5-4df9-a1c5-e04f3ca18040",
   "metadata": {},
   "outputs": [],
   "source": [
    "dir -1 phastest_inputs/ | xargs -t -I % docker compose run -T --rm phastest -i contig -m lite -s % --yes --phage-only --single-diamond"
   ]
  },
  {
   "cell_type": "code",
   "execution_count": null,
   "id": "81a0f8a4-f1f4-49bf-8aaf-2dff667e62bd",
   "metadata": {},
   "outputs": [],
   "source": [
    "cd $root"
   ]
  },
  {
   "cell_type": "code",
   "execution_count": null,
   "id": "76356879-6527-4ebc-86ba-e81dd6484284",
   "metadata": {},
   "outputs": [],
   "source": [
    "mv $phastest_docker_results_folder/* $prophages_output/\n",
    "rm -f $phastest_docker_input_folder/*"
   ]
  },
  {
   "cell_type": "code",
   "execution_count": null,
   "id": "f2c83b77-6452-4549-b8b1-3cff9256ef8c",
   "metadata": {},
   "outputs": [],
   "source": []
  }
 ],
 "metadata": {
  "kernelspec": {
   "display_name": "Bash",
   "language": "bash",
   "name": "bash"
  },
  "language_info": {
   "codemirror_mode": "shell",
   "file_extension": ".sh",
   "mimetype": "text/x-sh",
   "name": "bash"
  }
 },
 "nbformat": 4,
 "nbformat_minor": 5
}
