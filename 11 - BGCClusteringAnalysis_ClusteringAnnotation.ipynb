{
 "cells": [
  {
   "cell_type": "markdown",
   "id": "028d3281-89a7-426f-bc69-8df8382fa469",
   "metadata": {},
   "source": [
    "This part of the pipeline clusters all BGCs found for this entire genome dataset using BiG-SCAPE."
   ]
  },
  {
   "cell_type": "markdown",
   "id": "638d03ba-4272-4176-9cc4-00baa294d05b",
   "metadata": {},
   "source": [
    "### Paths and parameters"
   ]
  },
  {
   "cell_type": "markdown",
   "id": "7f69ca72-bf86-4d53-8c4e-fa891cd83c10",
   "metadata": {},
   "source": [
    "#### Pipeline input folders"
   ]
  },
  {
   "cell_type": "code",
   "execution_count": null,
   "id": "c50e123f-c3fe-4aae-b37c-f7e21b25bceb",
   "metadata": {},
   "outputs": [],
   "source": [
    "antismash_output=\"./10-MGEs/BGCs/output\"\n",
    "metadata=\"./genomes_metadata\""
   ]
  },
  {
   "cell_type": "markdown",
   "id": "d26be4f1-aeb7-43ab-b075-ef01aa0fd80a",
   "metadata": {},
   "source": [
    "#### Pipeline output folders"
   ]
  },
  {
   "cell_type": "code",
   "execution_count": null,
   "id": "639fa56e-e766-47b0-85ab-14c684c1777e",
   "metadata": {},
   "outputs": [],
   "source": [
    "task_root=\"./11-BGCClustering\"\n",
    "bigscape_input=\"$task_root/input\"\n",
    "bigscape_output=\"$task_root/output\"\n",
    "network_folder=\"$bigscape_output/network_files/*/mix\"\n",
    "\n",
    "mkdir -p $task_root $bigscape_input $bigscape_output"
   ]
  },
  {
   "cell_type": "markdown",
   "id": "32c11072-bdc1-4ae6-a76d-d0adcd9f0ebc",
   "metadata": {},
   "source": [
    "#### Tool pointers and parameters"
   ]
  },
  {
   "cell_type": "code",
   "execution_count": null,
   "id": "61a831fe-b41a-451a-a525-85c96421a3f8",
   "metadata": {},
   "outputs": [],
   "source": [
    "pfam_db=\"/mnt/STORAGE/databases/PFAM\"\n",
    "n_cores=22\n",
    "cutoff=0.50\n",
    "\n",
    "annotate_network=\"./utils/annotate_bigscape_network.py\""
   ]
  },
  {
   "cell_type": "markdown",
   "id": "ad8af855-6f2c-4054-b6bc-226eb4197f92",
   "metadata": {},
   "source": [
    "### Checking dependencies"
   ]
  },
  {
   "cell_type": "code",
   "execution_count": null,
   "id": "b8523a0e-1665-41fd-b576-154a79bd69a5",
   "metadata": {},
   "outputs": [],
   "source": [
    "conda activate bigscape\n",
    "bigscape --version\n",
    "conda deactivate"
   ]
  },
  {
   "cell_type": "markdown",
   "id": "f1146ead-8738-4282-8401-b7fc663e7b47",
   "metadata": {},
   "source": [
    "### Gathering all antiSMASH region genbank files"
   ]
  },
  {
   "cell_type": "markdown",
   "id": "9d4a9d3a-7591-4ea1-9982-ae4d1dbdeeed",
   "metadata": {},
   "source": [
    "Copy the antiSMASH region GenBank file directory structure into the BiG-SCAPE input folder, and then collapse it by pulling all GenBanks out of their folder."
   ]
  },
  {
   "cell_type": "code",
   "execution_count": null,
   "id": "8d59e97c-19ce-45bd-a38f-4fb3fb756195",
   "metadata": {},
   "outputs": [],
   "source": [
    "dir -1 $antismash_output | xargs -I % bash -c \"\n",
    "mkdir -p $bigscape_input/%\n",
    "dir -1 $antismash_output/% | grep -E '.+\\.region[0-9]{3}\\.gbk' | xargs -I {} cp -u $antismash_output/%/{} $bigscape_input/%/{}\n",
    "dir -1 $bigscape_input/% | xargs -I {} mv $bigscape_input/%/{} $bigscape_input/%.{}\n",
    "dir -1 $bigscape_input | grep -v .gbk | xargs -I {} rm -rf $bigscape_input/{}\""
   ]
  },
  {
   "cell_type": "markdown",
   "id": "b2b615b8-1fb5-401e-a838-3e99f181cbf5",
   "metadata": {},
   "source": [
    "Finally, rename the files to the format `%assembly_accession_ID.%region#`."
   ]
  },
  {
   "cell_type": "code",
   "execution_count": null,
   "id": "ad7742bd-19a8-4fa4-86fa-0b26bc065bc4",
   "metadata": {},
   "outputs": [],
   "source": [
    "root=$(pwd)\n",
    "cd $bigscape_input\n",
    "paste <(dir -1) <(dir -1 | cut -d '.' -f 3-) > ../new.filenames\n",
    "while read old new\n",
    "do\n",
    "mv $old $new\n",
    "done < ../new.filenames\n",
    "rm ../new.filenames\n",
    "cd $root"
   ]
  },
  {
   "cell_type": "markdown",
   "id": "326b9b63-a2dd-4686-bfc5-a2e00ccc223f",
   "metadata": {},
   "source": [
    "### Running BiG-SCAPE"
   ]
  },
  {
   "cell_type": "code",
   "execution_count": null,
   "id": "3f48cb0d-4051-4ee0-aa09-4b9c5f84ab05",
   "metadata": {},
   "outputs": [],
   "source": [
    "conda activate bigscape"
   ]
  },
  {
   "cell_type": "code",
   "execution_count": null,
   "id": "fc297633-8166-4efd-8101-c101e7752d2a",
   "metadata": {},
   "outputs": [],
   "source": [
    "bigscape -i $bigscape_input -o $bigscape_output --pfam_dir $pfam_db -c $n_cores --include_singletons --cutoffs $cutoff --mix --mibig"
   ]
  },
  {
   "cell_type": "code",
   "execution_count": null,
   "id": "1cdc4218-4966-4e1b-abe3-eb34c3c1f9bd",
   "metadata": {},
   "outputs": [],
   "source": [
    "conda deactivate"
   ]
  },
  {
   "cell_type": "markdown",
   "id": "fb52dde4-3380-4175-b4b6-b6af8b36aef4",
   "metadata": {},
   "source": [
    "### Annotate network files"
   ]
  },
  {
   "cell_type": "markdown",
   "id": "5cad8f25-5ee4-4f12-827f-c57679d58966",
   "metadata": {},
   "source": [
    "Add rRNA cluster metadata and duplicate the links so that the network can be easily imported into CytoScape."
   ]
  },
  {
   "cell_type": "code",
   "execution_count": null,
   "id": "6aa9dcb8-4357-4ccd-b6dd-e9c7fb754c5b",
   "metadata": {},
   "outputs": [],
   "source": [
    "network_file=$(dir -1 $network_folder | grep -E \"$cutoff.network$\")\n",
    "python $annotate_network $network_folder/$network_file $metadata $antismash_output $task_root/c$cutoff.annotated.network"
   ]
  },
  {
   "cell_type": "markdown",
   "id": "393919e8-dd31-4eaf-b679-84c0c4f7ebba",
   "metadata": {},
   "source": [
    "**Ready for visualisation in CytoScape!**"
   ]
  },
  {
   "cell_type": "code",
   "execution_count": null,
   "id": "3bb55525-dc36-4219-854d-a9cdc67e2ea0",
   "metadata": {},
   "outputs": [],
   "source": []
  }
 ],
 "metadata": {
  "kernelspec": {
   "display_name": "Bash",
   "language": "bash",
   "name": "bash"
  },
  "language_info": {
   "codemirror_mode": "shell",
   "file_extension": ".sh",
   "mimetype": "text/x-sh",
   "name": "bash"
  }
 },
 "nbformat": 4,
 "nbformat_minor": 5
}
