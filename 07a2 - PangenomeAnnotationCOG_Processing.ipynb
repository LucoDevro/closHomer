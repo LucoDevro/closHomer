{
 "cells": [
  {
   "cell_type": "markdown",
   "id": "197084a0-b518-4187-ad10-db88aa1f5725",
   "metadata": {},
   "source": [
    "This part of the pipeline processes the raw COG annotation tables and produces count and frequency tables of COG annotations."
   ]
  },
  {
   "cell_type": "markdown",
   "id": "3f2676f0-11d3-4e89-bc5e-1b5ef86f9e94",
   "metadata": {},
   "source": [
    "### Importing the packages"
   ]
  },
  {
   "cell_type": "code",
   "execution_count": null,
   "id": "ba90a252-6cf1-499c-a472-f0174e007af8",
   "metadata": {},
   "outputs": [],
   "source": [
    "import pandas as pd\n",
    "import matplotlib.pyplot as plt\n",
    "import seaborn as sns\n",
    "import itertools as it\n",
    "from bidict import bidict\n",
    "from collections import Counter\n",
    "import os"
   ]
  },
  {
   "cell_type": "markdown",
   "id": "b15840af-d52f-4140-9ecd-0c23180ef6cf",
   "metadata": {},
   "source": [
    "### Paths and parameters"
   ]
  },
  {
   "cell_type": "markdown",
   "id": "5c30ab29-7893-4ac4-9946-4eb6ee379b1d",
   "metadata": {},
   "source": [
    "#### Pipeline input folders"
   ]
  },
  {
   "cell_type": "code",
   "execution_count": null,
   "id": "9566e20c-0264-43ed-a847-5a070d539877",
   "metadata": {},
   "outputs": [],
   "source": [
    "pangenomes = \"./05-pangenomes\"\n",
    "eggnog_mapper = \"./07-PangenomeAnnotation/COG/mapper\"\n",
    "COG_cats = \"./utils/COG_cats.tsv\"\n",
    "indices = \"02-QC/indices\""
   ]
  },
  {
   "cell_type": "markdown",
   "id": "9d939497-6b98-46d5-81cd-310321145486",
   "metadata": {},
   "source": [
    "#### Pipeline output folders"
   ]
  },
  {
   "cell_type": "code",
   "execution_count": null,
   "id": "212e4f18-9016-4118-b6f2-a248a775647f",
   "metadata": {},
   "outputs": [],
   "source": [
    "task_root = \"./07-PangenomeAnnotation/COG\"\n",
    "processed_output = task_root+\"/processed_output\"\n",
    "parent = \"./07-PangenomeAnnotation\"\n",
    "\n",
    "!mkdir -p $task_root $processed_output"
   ]
  },
  {
   "cell_type": "markdown",
   "id": "6763fe5b-dff0-4f88-af6e-1eed49d11c09",
   "metadata": {},
   "source": [
    "#### Tool pointers and parameters"
   ]
  },
  {
   "cell_type": "code",
   "execution_count": null,
   "id": "ed3e7085-5ef4-4c48-b4b8-cce2574b8cba",
   "metadata": {},
   "outputs": [],
   "source": [
    "core_acc_threshold = 99\n",
    "acc_unique_threshold = 15\n",
    "\n",
    "# Determine which eggNOG-mapper outputs there are\n",
    "files = list(filter(lambda x: '.list' in x, os.listdir(indices)))\n",
    "set_sizes = {file.split('.')[0]: pd.read_table(indices + \"/\" + file, usecols = [0], header = None).shape[0] for file in files}\n",
    "sets = list(set_sizes.keys())\n",
    "\n",
    "# Collect their paths and index by genome set\n",
    "pangenome_matrices = {set: \"./05-pangenomes/\"+set+\"/matrix.csv\" for set in sets}\n",
    "mapper_tables = {set: eggnog_mapper + \"/all_protein_families_\" + set + \".emapper.annotations\" for set in sets}"
   ]
  },
  {
   "cell_type": "code",
   "execution_count": null,
   "id": "5b21430c-1860-4e9e-ac88-361aa4ba6a9a",
   "metadata": {},
   "outputs": [],
   "source": [
    "# Setting the naming conventions for both taxonomic clusters and pangenome partitions\n",
    "cluster_labels = ['Merged', 'I', 'IV', 'XIVa', 'XIVb']\n",
    "n_clusters = len(cluster_labels)\n",
    "\n",
    "pangenome_partition_labels = [\"core\", \"accessory\", \"unique\"]\n",
    "n_partitions = len(pangenome_partition_labels)"
   ]
  },
  {
   "cell_type": "markdown",
   "id": "4f1cbc05-a8c5-482a-83db-0ee66414a1b8",
   "metadata": {},
   "source": [
    "### Importing the metadata"
   ]
  },
  {
   "cell_type": "code",
   "execution_count": null,
   "id": "58d7f4c5-23da-4418-935d-64a23fc9e884",
   "metadata": {},
   "outputs": [],
   "source": [
    "# COG category index\n",
    "cog_cats = pd.read_table(COG_cats, sep='\\t', header = None)\n",
    "cog_cats = bidict(dict(zip(cog_cats[0], cog_cats[1])))"
   ]
  },
  {
   "cell_type": "markdown",
   "id": "2c24fed5-3ac8-4d2a-9e29-c2d96c673b3a",
   "metadata": {},
   "source": [
    "### Defining the pangenome partitions"
   ]
  },
  {
   "cell_type": "markdown",
   "id": "7581c78e-e575-4389-ac8e-7eaefeb6ad8f",
   "metadata": {},
   "source": [
    "#### Auxiliary functions"
   ]
  },
  {
   "cell_type": "code",
   "execution_count": null,
   "id": "e89d303b-6be8-4702-a36f-a545870770d6",
   "metadata": {},
   "outputs": [],
   "source": [
    "## Reads the presence/absence matrix and splits it out into pangenome partitions\n",
    "##\n",
    "## PARAMS\n",
    "## path           file path to the presence/absence matrix\n",
    "## ca_threshold   core-accessory threshold (default: 99%)\n",
    "## au_threshold   accessory-unique threshold (default: 15%)\n",
    "## print_size     flag to print the size of the genome partitions (default: false)\n",
    "##\n",
    "## OUTPUT\n",
    "## a list of dataframe slices by partition containing the gene family ID, the absolute and relative presence of that family in the pangenome\n",
    "##\n",
    "def split_pangenome(path, ca_threshold = 99, au_threshold = 15, print_size = False):\n",
    "    header = pd.read_table(path, sep = \",\", nrows = 1)\n",
    "    n_strains = header.shape[1] - 14 # There are 14 columns with metrics preceding the P/A matrix\n",
    "    clusters = pd.read_table(path, sep = \",\", usecols=[0,3])\n",
    "    \n",
    "    # Define the presence ratio as the percentage in which this gene family is present\n",
    "    clusters[\"Presence_ratio\"] = clusters[\"No. isolates\"].apply(lambda x: int(x) / n_strains * 100)\n",
    "\n",
    "    # Thresholding to define the pangenome partitions\n",
    "    core = clusters[clusters[\"Presence_ratio\"] >= ca_threshold].rename(columns = {'Gene': 'ID'})\n",
    "    acc = clusters[(clusters[\"Presence_ratio\"] >= au_threshold) & (clusters[\"Presence_ratio\"] < ca_threshold)].rename(columns = {'Gene': 'ID'})\n",
    "    unique = clusters[clusters[\"Presence_ratio\"] < au_threshold].rename(columns = {'Gene': 'ID'})\n",
    "\n",
    "    if print_size:\n",
    "        print(\"Core:\\t\" + str(core.shape))\n",
    "        print(\"Accessory:\\t\" + str(acc.shape))\n",
    "        print(\"Unique:\\t\" + str(unique.shape))\n",
    "\n",
    "    return [core, acc, unique]"
   ]
  },
  {
   "cell_type": "code",
   "execution_count": null,
   "id": "c533656f-c101-4765-8aa4-8b472a43e74d",
   "metadata": {},
   "outputs": [],
   "source": [
    "## Reads the COG annotation from a raw eggNOG output file\n",
    "##\n",
    "## PARAMS\n",
    "## path       filepath of the raw output file\n",
    "##\n",
    "## OUTPUT\n",
    "## a dataframe with as columns the gene family ID and the associated COG category\n",
    "##\n",
    "def read_eggnog_annotations(path):\n",
    "    eggnog_annots = pd.read_table(path, sep = \"\\t\", usecols = [0,6], skiprows = 4, skipfooter = 3, header = 0)\n",
    "    eggnog_annots.columns = ['ID', 'COG']\n",
    "    return eggnog_annots"
   ]
  },
  {
   "cell_type": "code",
   "execution_count": null,
   "id": "2841dd04-46cb-4404-9215-398dbee00f04",
   "metadata": {},
   "outputs": [],
   "source": [
    "## Splits by pangenome partitioning and returns COG category count tables for each partition\n",
    "##\n",
    "## PARAMS\n",
    "## annots        the full eggNOG annotation table for this genome set\n",
    "## distr         the set of gene family IDs split out by pangenome partition using split_pangenome()\n",
    "##\n",
    "## OUTPUT\n",
    "## a list of COG category count tables by pangenome partition\n",
    "##\n",
    "def split_eggnog_counts(annots, distr):\n",
    "    distr_annots = list(map(lambda x: pd.merge(x, annots, how = \"left\", on = \"ID\"), distr)) # Get the set of annotations for each partition\n",
    "    distr_counts = list(map(count_eggnog_annotations, distr_annots)) # Count the COG categories in each set of annotations\n",
    "    return distr_counts"
   ]
  },
  {
   "cell_type": "code",
   "execution_count": null,
   "id": "7cbbf520-49b4-4797-b96d-c2a10c0bbf77",
   "metadata": {},
   "outputs": [],
   "source": [
    "## Counts the frequencies of COG categories in the supplied annotation set and returns a count table\n",
    "##\n",
    "## PARAMS\n",
    "## full_annots     dataframe of family IDs and COG annotations for a full genome set\n",
    "## relative        flag to scale the category counts to a percentage scale (default: true)\n",
    "##\n",
    "## OUTPUT\n",
    "## a dataframe with columns a COG category and its frequency\n",
    "##\n",
    "def count_eggnog_annotations(full_annots, relative = True):\n",
    "    # gene families that were not present in the annotation table are unannotated as well\n",
    "    nas_incl = full_annots['COG'].fillna('-').to_list()\n",
    "    \n",
    "    # counting COG categories, attributing plural annotations (e.g. BE) to all categories\n",
    "    counts = dict(Counter(list(it.chain(*[list(i) for i in nas_incl]))))\n",
    "    \n",
    "    # convert into dataframe and sort the categories\n",
    "    counts = pd.DataFrame.from_dict([counts]).fillna(0).astype(int)\n",
    "    counts = counts[sorted(counts.columns)]\n",
    "    counts = counts.rename(index = {0: 'COG'}).T\n",
    "\n",
    "    # scale if requested\n",
    "    if relative:\n",
    "        counts = counts.apply(lambda x: x / sum(x))\n",
    "        \n",
    "    return counts"
   ]
  },
  {
   "cell_type": "code",
   "execution_count": null,
   "id": "4b937984-6398-4efc-9f51-0544e0bed934",
   "metadata": {},
   "outputs": [],
   "source": [
    "## Saves each annotation table contained within the partitioned pangenome array\n",
    "##\n",
    "## PARAMS\n",
    "## path       path to which the annotation tables should be saved\n",
    "## distr      list of COG category frequency tables, one for each pangenome partition\n",
    "## prefix     prefix to distinguish the counted annotation tables (e.g. clusterI)\n",
    "##\n",
    "def save_eggnog_counts(path, distr, prefix = ''):\n",
    "    out_path_template = '/'.join(path.split('/')[:-1]) + \"/\"\n",
    "    if len(prefix) > 0:\n",
    "        out_path_template = out_path_template + prefix + \"_\"\n",
    "    distr[0].to_csv(out_path_template + \"core_annot\", sep = '\\t', index_label = \"Annotation\")\n",
    "    distr[1].to_csv(out_path_template + \"acc_annot\", sep = '\\t', index_label = \"Annotation\")\n",
    "    distr[2].to_csv(out_path_template + \"unique_annot\", sep = '\\t', index_label = \"Annotation\")"
   ]
  },
  {
   "cell_type": "code",
   "execution_count": null,
   "id": "e3d81dcd-b3a2-482f-914c-5fb3f7d73567",
   "metadata": {},
   "outputs": [],
   "source": [
    "## Concatenates the COG category count tables that were separated by pangenome partition\n",
    "##\n",
    "## PARAMS\n",
    "## distr_counts    list of dataframes of COG category and frequency, one for each pangenome partition\n",
    "##\n",
    "## OUTPUT\n",
    "## a dataframe of COG category frequencies, indexed by pangenome partition\n",
    "##\n",
    "def concat_counts(distr_counts, labels):\n",
    "    concat_data = pd.concat(distr_counts, axis = 1).fillna(0).T\n",
    "    concat_data = concat_data[sorted(concat_data.columns)]\n",
    "    concat_data.index = labels\n",
    "    return concat_data"
   ]
  },
  {
   "cell_type": "code",
   "execution_count": null,
   "id": "e05ee878-04b0-4459-8e4f-391bce82492f",
   "metadata": {},
   "outputs": [],
   "source": [
    "## Returns the COG category frequencies by genome set, pangenome partition of that genome set and COG category\n",
    "## by concatenating count tables for different genome sets on a \"stitching column\" (e.g. the species cluster tied to a genome set)\n",
    "##\n",
    "## PARAMS\n",
    "## data_array       list of to be stitched concatenated count tables produced for different genome sets by concat_counts()\n",
    "## group_index      name of the stitching column\n",
    "## group_values     list of possible group labels to be used as value for the stitching column (e.g. name of genome sets),\n",
    "##                  in the same order as @data_array\n",
    "##\n",
    "## OUTPUT\n",
    "## a dataframe of COG category frequencies by genome set, pangenome partition in that genome set and COG category\n",
    "##\n",
    "def stitch_data(data_array, group_index, group_values):\n",
    "    # Add the stitching column\n",
    "    for i,val in enumerate(group_values):\n",
    "        data_array[i][group_index] = val\n",
    "    # Melt all count tables in the data array and concatenate them on the stitching column\n",
    "    concat_data = pd.concat([pd.melt(i.reset_index(names = \"Partition\"), \n",
    "                                     id_vars=[group_index, \"Partition\"], \n",
    "                                     var_name = \"Annotation\", \n",
    "                                     value_name = \"Fraction\")\n",
    "                             for i in data_array], ignore_index=True)\n",
    "    return concat_data"
   ]
  },
  {
   "cell_type": "markdown",
   "id": "63670743-73c7-4e42-807a-ab239736a46f",
   "metadata": {},
   "source": [
    "#### Partitioning the pangenomes"
   ]
  },
  {
   "cell_type": "code",
   "execution_count": null,
   "id": "1d00015a-5f97-4997-a97e-1212da5a0b1b",
   "metadata": {},
   "outputs": [],
   "source": [
    "distr_m = split_pangenome(pangenome_matrices['merge'], core_acc_threshold, acc_unique_threshold, True)\n",
    "panm_core = distr_m[0]\n",
    "panm_acc = distr_m[1]\n",
    "panm_unique = distr_m[2]"
   ]
  },
  {
   "cell_type": "code",
   "execution_count": null,
   "id": "57744cf3-46a3-468d-9549-eb557190b862",
   "metadata": {},
   "outputs": [],
   "source": [
    "distr_1 = split_pangenome(pangenome_matrices['group1'], core_acc_threshold, acc_unique_threshold, True)\n",
    "pan1_core = distr_1[0]\n",
    "pan1_acc = distr_1[1]\n",
    "pan1_unique = distr_1[2]"
   ]
  },
  {
   "cell_type": "code",
   "execution_count": null,
   "id": "afaa42fc-e4ce-414f-ae38-5d7002c62382",
   "metadata": {},
   "outputs": [],
   "source": [
    "distr_4 = split_pangenome(pangenome_matrices['group4'], core_acc_threshold, acc_unique_threshold, True)\n",
    "pan4_core = distr_4[0]\n",
    "pan4_acc = distr_4[1]\n",
    "pan4_unique = distr_4[2]"
   ]
  },
  {
   "cell_type": "code",
   "execution_count": null,
   "id": "bfe7323a-2185-4a32-a262-9a4172c980c4",
   "metadata": {},
   "outputs": [],
   "source": [
    "distr_14a = split_pangenome(pangenome_matrices['group14a'], core_acc_threshold, acc_unique_threshold, True)\n",
    "pan14a_core = distr_14a[0]\n",
    "pan14a_acc = distr_14a[1]\n",
    "pan14a_unique = distr_14a[2]"
   ]
  },
  {
   "cell_type": "code",
   "execution_count": null,
   "id": "4625bc7b-a5b5-4499-baf7-4c705b18e775",
   "metadata": {},
   "outputs": [],
   "source": [
    "distr_14b = split_pangenome(pangenome_matrices['group14b'], core_acc_threshold, acc_unique_threshold, True)\n",
    "pan14b_core = distr_14b[0]\n",
    "pan14b_acc = distr_14b[1]\n",
    "pan14b_unique = distr_14b[2]"
   ]
  },
  {
   "cell_type": "markdown",
   "id": "984fa167-c7ca-43ef-a324-7b638f023a46",
   "metadata": {},
   "source": [
    "#### Number of clusters split by taxonomic cluster and pangenome partition"
   ]
  },
  {
   "cell_type": "code",
   "execution_count": null,
   "id": "5fec438f-a50e-415b-8ee0-fdc01a7ffb17",
   "metadata": {},
   "outputs": [],
   "source": [
    "cluster_counts = pd.DataFrame({cluster_labels[i]: \n",
    "                               list(map(lambda x: x.shape[0], p)) \n",
    "                               for i,p in enumerate([distr_m, distr_1, distr_4, distr_14a, distr_14b])\n",
    "                              })\n",
    "cluster_counts.index = pangenome_partition_labels\n",
    "cluster_counts"
   ]
  },
  {
   "cell_type": "code",
   "execution_count": null,
   "id": "021f6ea5-4c6f-4c23-8123-af5eb4ed8b12",
   "metadata": {},
   "outputs": [],
   "source": [
    "cluster_counts_relative = cluster_counts.apply(lambda x: x/x.sum())\n",
    "cluster_counts_relative"
   ]
  },
  {
   "cell_type": "code",
   "execution_count": null,
   "id": "13ec1dc3-131f-4589-8702-26548260ab72",
   "metadata": {},
   "outputs": [],
   "source": [
    "cluster_counts.stack().reset_index().rename(columns = {'level_0': 'Partition', 'level_1': 'Cluster', 0: 'No genes'}\n",
    "                                           ).to_csv(parent+\"/pangenome_partition_sizes.tsv\", sep = \"\\t\")"
   ]
  },
  {
   "cell_type": "markdown",
   "id": "a2c2d1d0-980c-4f15-9981-96f8277611a7",
   "metadata": {},
   "source": [
    "#### Processing the COG assignments"
   ]
  },
  {
   "cell_type": "markdown",
   "id": "6f4e58dd-cd71-4717-846d-aa4380ca3187",
   "metadata": {},
   "source": [
    "**Full set**"
   ]
  },
  {
   "cell_type": "code",
   "execution_count": null,
   "id": "dc80d80c-b9df-4c6f-8024-405c0e65f446",
   "metadata": {},
   "outputs": [],
   "source": [
    "eggnog_annots_m = read_eggnog_annotations(mapper_tables['merge'])"
   ]
  },
  {
   "cell_type": "code",
   "execution_count": null,
   "id": "cdddca1f-fbd8-417f-9b4c-2c7fba786351",
   "metadata": {},
   "outputs": [],
   "source": [
    "eggnog_annots_m"
   ]
  },
  {
   "cell_type": "code",
   "execution_count": null,
   "id": "bbc3a439-43da-461f-b348-0aa53f78a824",
   "metadata": {},
   "outputs": [],
   "source": [
    "panm_eggnog_distr_annots_counts = split_eggnog_counts(eggnog_annots_m, distr_m)\n",
    "panm_eggnog_core_annots_counts = panm_eggnog_distr_annots_counts[0]\n",
    "panm_eggnog_acc_annots_counts = panm_eggnog_distr_annots_counts[1]\n",
    "panm_eggnog_unique_annots_counts = panm_eggnog_distr_annots_counts[2]"
   ]
  },
  {
   "cell_type": "code",
   "execution_count": null,
   "id": "1a3930e8-9ee9-4d17-b79d-3389ee4e5678",
   "metadata": {},
   "outputs": [],
   "source": [
    "save_eggnog_counts(mapper_tables['merge'], panm_eggnog_distr_annots_counts, prefix = 'merge')"
   ]
  },
  {
   "cell_type": "code",
   "execution_count": null,
   "id": "f3772530-2e60-447c-8216-8521d5521300",
   "metadata": {},
   "outputs": [],
   "source": [
    "panm_eggnog_core_annots_counts"
   ]
  },
  {
   "cell_type": "code",
   "execution_count": null,
   "id": "3e92fcfd-e3b3-431e-86ab-46770e214007",
   "metadata": {},
   "outputs": [],
   "source": [
    "panm_eggnog_acc_annots_counts"
   ]
  },
  {
   "cell_type": "code",
   "execution_count": null,
   "id": "6196bc49-7674-44f8-b799-be4db0945740",
   "metadata": {},
   "outputs": [],
   "source": [
    "panm_eggnog_unique_annots_counts"
   ]
  },
  {
   "cell_type": "markdown",
   "id": "e430d8fa-8f05-46e5-a87f-e5b85fab1eff",
   "metadata": {},
   "source": [
    "**Cluster 1**"
   ]
  },
  {
   "cell_type": "code",
   "execution_count": null,
   "id": "7823afed-526f-4737-90c2-c51af83fbde2",
   "metadata": {},
   "outputs": [],
   "source": [
    "eggnog_annots_1 = read_eggnog_annotations(mapper_tables['group1'])"
   ]
  },
  {
   "cell_type": "code",
   "execution_count": null,
   "id": "9054e009-d9e1-448e-9962-45aec7ab3480",
   "metadata": {},
   "outputs": [],
   "source": [
    "eggnog_annots_1"
   ]
  },
  {
   "cell_type": "code",
   "execution_count": null,
   "id": "2834d062-c724-4602-aa35-0a82e8cd2475",
   "metadata": {},
   "outputs": [],
   "source": [
    "pan1_eggnog_distr_annots_counts = split_eggnog_counts(eggnog_annots_1, distr_1)\n",
    "pan1_eggnog_core_annots_counts = pan1_eggnog_distr_annots_counts[0]\n",
    "pan1_eggnog_acc_annots_counts = pan1_eggnog_distr_annots_counts[1]\n",
    "pan1_eggnog_unique_annots_counts = pan1_eggnog_distr_annots_counts[2]"
   ]
  },
  {
   "cell_type": "code",
   "execution_count": null,
   "id": "156d8e2a-63d7-47bf-aeca-7c2210dca099",
   "metadata": {},
   "outputs": [],
   "source": [
    "save_eggnog_counts(mapper_tables['group1'], pan1_eggnog_distr_annots_counts, prefix = 'group1')"
   ]
  },
  {
   "cell_type": "code",
   "execution_count": null,
   "id": "3af8a9a5-2ae2-4fbf-80fe-8c1e1828e392",
   "metadata": {},
   "outputs": [],
   "source": [
    "pan1_eggnog_core_annots_counts"
   ]
  },
  {
   "cell_type": "code",
   "execution_count": null,
   "id": "f87ea2d3-e378-4d2a-9dde-2a724e27185d",
   "metadata": {},
   "outputs": [],
   "source": [
    "pan1_eggnog_acc_annots_counts"
   ]
  },
  {
   "cell_type": "code",
   "execution_count": null,
   "id": "01eb677c-ff1e-43b9-ab02-d801112f86fa",
   "metadata": {},
   "outputs": [],
   "source": [
    "pan1_eggnog_unique_annots_counts"
   ]
  },
  {
   "cell_type": "markdown",
   "id": "9a743afb-c08d-4a00-b617-faed33c46a21",
   "metadata": {},
   "source": [
    "**Cluster 4**"
   ]
  },
  {
   "cell_type": "code",
   "execution_count": null,
   "id": "879adcf6-209f-4b9a-b2c3-0dd5c1296793",
   "metadata": {},
   "outputs": [],
   "source": [
    "eggnog_annots_4 = read_eggnog_annotations(mapper_tables['group4'])"
   ]
  },
  {
   "cell_type": "code",
   "execution_count": null,
   "id": "f92dc4a2-8bf9-4a15-a741-6f39ab99e819",
   "metadata": {},
   "outputs": [],
   "source": [
    "eggnog_annots_4"
   ]
  },
  {
   "cell_type": "code",
   "execution_count": null,
   "id": "0abd3834-e157-436f-bd64-590e57bc6803",
   "metadata": {},
   "outputs": [],
   "source": [
    "pan4_eggnog_distr_annots_counts = split_eggnog_counts(eggnog_annots_4, distr_4)\n",
    "pan4_eggnog_core_annots_counts = pan4_eggnog_distr_annots_counts[0]\n",
    "pan4_eggnog_acc_annots_counts = pan4_eggnog_distr_annots_counts[1]\n",
    "pan4_eggnog_unique_annots_counts = pan4_eggnog_distr_annots_counts[2]"
   ]
  },
  {
   "cell_type": "code",
   "execution_count": null,
   "id": "ba47ba49-6d2e-4363-aef4-e0ddefd78139",
   "metadata": {},
   "outputs": [],
   "source": [
    "save_eggnog_counts(mapper_tables['group4'], pan4_eggnog_distr_annots_counts, prefix = 'group4')"
   ]
  },
  {
   "cell_type": "code",
   "execution_count": null,
   "id": "2a1488b5-5227-498d-a4e1-761006d1a0fd",
   "metadata": {},
   "outputs": [],
   "source": [
    "pan4_eggnog_core_annots_counts"
   ]
  },
  {
   "cell_type": "code",
   "execution_count": null,
   "id": "b5889683-c069-4959-942d-2288c2123859",
   "metadata": {},
   "outputs": [],
   "source": [
    "pan4_eggnog_acc_annots_counts"
   ]
  },
  {
   "cell_type": "code",
   "execution_count": null,
   "id": "a11e4555-a6fd-459e-9635-b1112da60f7a",
   "metadata": {},
   "outputs": [],
   "source": [
    "pan4_eggnog_unique_annots_counts"
   ]
  },
  {
   "cell_type": "markdown",
   "id": "d727d84d-f477-48d0-9a36-0434c46a3d7a",
   "metadata": {},
   "source": [
    "**Cluster 14a**"
   ]
  },
  {
   "cell_type": "code",
   "execution_count": null,
   "id": "f4fa2dca-8ebb-4bc0-ab68-8ced7985a7bb",
   "metadata": {},
   "outputs": [],
   "source": [
    "eggnog_annots_14a = read_eggnog_annotations(mapper_tables['group14a'])"
   ]
  },
  {
   "cell_type": "code",
   "execution_count": null,
   "id": "82bd85ea-2642-42dc-a2d0-a2b513b7b2d4",
   "metadata": {},
   "outputs": [],
   "source": [
    "eggnog_annots_14a"
   ]
  },
  {
   "cell_type": "code",
   "execution_count": null,
   "id": "dcb9b6da-815f-48ea-a34b-9ed578660447",
   "metadata": {},
   "outputs": [],
   "source": [
    "pan14a_eggnog_distr_annots_counts = split_eggnog_counts(eggnog_annots_14a, distr_14a)\n",
    "pan14a_eggnog_core_annots_counts = pan14a_eggnog_distr_annots_counts[0]\n",
    "pan14a_eggnog_acc_annots_counts = pan14a_eggnog_distr_annots_counts[1]\n",
    "pan14a_eggnog_unique_annots_counts = pan14a_eggnog_distr_annots_counts[2]"
   ]
  },
  {
   "cell_type": "code",
   "execution_count": null,
   "id": "ba837e8b-0553-4508-98d1-46de05d48e76",
   "metadata": {},
   "outputs": [],
   "source": [
    "save_eggnog_counts(mapper_tables['group14a'], pan14a_eggnog_distr_annots_counts, prefix = 'group14a')"
   ]
  },
  {
   "cell_type": "code",
   "execution_count": null,
   "id": "a9863b32-4c5a-4af1-b8a4-a2c26959f0f0",
   "metadata": {},
   "outputs": [],
   "source": [
    "pan14a_eggnog_core_annots_counts"
   ]
  },
  {
   "cell_type": "code",
   "execution_count": null,
   "id": "63933d35-17ec-4a11-a87b-47587763ba7d",
   "metadata": {},
   "outputs": [],
   "source": [
    "pan14a_eggnog_acc_annots_counts"
   ]
  },
  {
   "cell_type": "code",
   "execution_count": null,
   "id": "556fb0f2-fda5-4d33-8855-f9fe5ef082e6",
   "metadata": {},
   "outputs": [],
   "source": [
    "pan14a_eggnog_unique_annots_counts"
   ]
  },
  {
   "cell_type": "markdown",
   "id": "fd1ea392-4bca-489a-8d84-8af786917aa1",
   "metadata": {},
   "source": [
    "**Cluster 14b**"
   ]
  },
  {
   "cell_type": "code",
   "execution_count": null,
   "id": "eb1fa4ca-13f3-4f72-a55a-0bad981eae95",
   "metadata": {},
   "outputs": [],
   "source": [
    "eggnog_annots_14b = read_eggnog_annotations(mapper_tables['group14b'])"
   ]
  },
  {
   "cell_type": "code",
   "execution_count": null,
   "id": "29cb72cf-66db-442e-9d1b-0571cedde48a",
   "metadata": {},
   "outputs": [],
   "source": [
    "eggnog_annots_14b"
   ]
  },
  {
   "cell_type": "code",
   "execution_count": null,
   "id": "8d5a10d3-baf8-47b4-9c49-cfa8a48806c4",
   "metadata": {},
   "outputs": [],
   "source": [
    "pan14b_eggnog_distr_annots_counts = split_eggnog_counts(eggnog_annots_14b, distr_14b)\n",
    "pan14b_eggnog_core_annots_counts = pan14b_eggnog_distr_annots_counts[0]\n",
    "pan14b_eggnog_acc_annots_counts = pan14b_eggnog_distr_annots_counts[1]\n",
    "pan14b_eggnog_unique_annots_counts = pan14b_eggnog_distr_annots_counts[2]"
   ]
  },
  {
   "cell_type": "code",
   "execution_count": null,
   "id": "77df229a-6240-4780-9d90-30f0d5749197",
   "metadata": {},
   "outputs": [],
   "source": [
    "save_eggnog_counts(mapper_tables['group14b'], pan14b_eggnog_distr_annots_counts, prefix = 'group14b')"
   ]
  },
  {
   "cell_type": "code",
   "execution_count": null,
   "id": "37e77c63-9225-47fb-955b-438834fd6447",
   "metadata": {},
   "outputs": [],
   "source": [
    "pan14b_eggnog_core_annots_counts"
   ]
  },
  {
   "cell_type": "code",
   "execution_count": null,
   "id": "05e7e155-0644-4b5f-902a-7a8853e6bbb6",
   "metadata": {},
   "outputs": [],
   "source": [
    "pan14b_eggnog_acc_annots_counts"
   ]
  },
  {
   "cell_type": "code",
   "execution_count": null,
   "id": "e7520638-833d-4e3a-8133-91aa269906d2",
   "metadata": {},
   "outputs": [],
   "source": [
    "pan14b_eggnog_unique_annots_counts"
   ]
  },
  {
   "cell_type": "markdown",
   "id": "82a12545-d6c7-450f-9eea-ee2e53cbcfb6",
   "metadata": {},
   "source": [
    "**Data export**"
   ]
  },
  {
   "cell_type": "code",
   "execution_count": null,
   "id": "0e132af9-23f9-428c-8237-aba00319653c",
   "metadata": {},
   "outputs": [],
   "source": [
    "concat_data_m = concat_counts(panm_eggnog_distr_annots_counts, pangenome_partition_labels)*100 # converting to percentages\n",
    "concat_data_1 = concat_counts(pan1_eggnog_distr_annots_counts, pangenome_partition_labels)*100\n",
    "concat_data_4 = concat_counts(pan4_eggnog_distr_annots_counts, pangenome_partition_labels)*100\n",
    "concat_data_14a = concat_counts(pan14a_eggnog_distr_annots_counts, pangenome_partition_labels)*100\n",
    "concat_data_14b = concat_counts(pan14b_eggnog_distr_annots_counts, pangenome_partition_labels)*100"
   ]
  },
  {
   "cell_type": "code",
   "execution_count": null,
   "id": "971919a2-75ac-48e8-a8f8-527ac134b21f",
   "metadata": {},
   "outputs": [],
   "source": [
    "concat_data_m"
   ]
  },
  {
   "cell_type": "code",
   "execution_count": null,
   "id": "10f7e451-0571-4133-8efd-dd7d5f094561",
   "metadata": {},
   "outputs": [],
   "source": [
    "concat_data_1"
   ]
  },
  {
   "cell_type": "code",
   "execution_count": null,
   "id": "088a0194-f5ce-43d1-bd15-45ec1b45352b",
   "metadata": {},
   "outputs": [],
   "source": [
    "concat_data_4"
   ]
  },
  {
   "cell_type": "code",
   "execution_count": null,
   "id": "737ae469-b4d8-467c-9aca-b8826c496a11",
   "metadata": {},
   "outputs": [],
   "source": [
    "concat_data_14a"
   ]
  },
  {
   "cell_type": "code",
   "execution_count": null,
   "id": "982cbc88-f099-49a2-a7a4-114079336113",
   "metadata": {},
   "outputs": [],
   "source": [
    "concat_data_14b"
   ]
  },
  {
   "cell_type": "code",
   "execution_count": null,
   "id": "bad6f81d-4b55-45ae-84da-99653e58bb2d",
   "metadata": {},
   "outputs": [],
   "source": [
    "concat_data = stitch_data([concat_data_m, concat_data_1, concat_data_4, concat_data_14a, concat_data_14b], \n",
    "                          \"Cluster\", cluster_labels)"
   ]
  },
  {
   "cell_type": "code",
   "execution_count": null,
   "id": "6d0cf709-9e43-4aed-b1e3-5e4119dff08d",
   "metadata": {},
   "outputs": [],
   "source": [
    "concat_data.to_csv(processed_output + '/COG_fractions.tsv', sep='\\t', index = False)"
   ]
  },
  {
   "cell_type": "code",
   "execution_count": null,
   "id": "6ce07ceb-89df-4f13-881e-356de1e2252a",
   "metadata": {},
   "outputs": [],
   "source": [
    "concat_data"
   ]
  },
  {
   "cell_type": "code",
   "execution_count": null,
   "id": "ae2ddce1-4fef-4c98-9a0d-3f431d1218cc",
   "metadata": {},
   "outputs": [],
   "source": []
  }
 ],
 "metadata": {
  "kernelspec": {
   "display_name": "Python 3 (ipykernel)",
   "language": "python",
   "name": "python3"
  },
  "language_info": {
   "codemirror_mode": {
    "name": "ipython",
    "version": 3
   },
   "file_extension": ".py",
   "mimetype": "text/x-python",
   "name": "python",
   "nbconvert_exporter": "python",
   "pygments_lexer": "ipython3",
   "version": "3.10.12"
  }
 },
 "nbformat": 4,
 "nbformat_minor": 5
}
