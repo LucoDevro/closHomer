{
 "cells": [
  {
   "cell_type": "markdown",
   "id": "cfe4587d-9842-434a-bf44-2c3c93bec7bc",
   "metadata": {},
   "source": [
    "This part of the pipeline carries out a KEGG completeness analysis using the `microbeAnnotator` tool."
   ]
  },
  {
   "cell_type": "markdown",
   "id": "369dba4b-a5f4-4e76-8bd4-0914429186c4",
   "metadata": {},
   "source": [
    "### Checking dependencies"
   ]
  },
  {
   "cell_type": "code",
   "execution_count": null,
   "id": "459c117a-b83a-4a49-a5b3-13a667e8737f",
   "metadata": {},
   "outputs": [],
   "source": [
    "conda activate microbeannotator\n",
    "microbeannotator --version\n",
    "conda deactivate"
   ]
  },
  {
   "cell_type": "markdown",
   "id": "44a6b989-f3d7-4255-839f-15ef1a50368d",
   "metadata": {},
   "source": [
    "### Paths and parameters"
   ]
  },
  {
   "cell_type": "markdown",
   "id": "9d2f7629-41c5-4169-82ed-777e62bdcf41",
   "metadata": {},
   "source": [
    "#### Pipeline input folders"
   ]
  },
  {
   "cell_type": "code",
   "execution_count": null,
   "id": "2bb5b057-bfbd-478b-8fa7-8f43d514854f",
   "metadata": {},
   "outputs": [],
   "source": [
    "genomes=\"./02-QC/data/proteomes\""
   ]
  },
  {
   "cell_type": "markdown",
   "id": "fdb70a03-c516-4bd3-88fa-e7ea0da561d9",
   "metadata": {},
   "source": [
    "#### Pipeline output folders"
   ]
  },
  {
   "cell_type": "code",
   "execution_count": null,
   "id": "769fe66b-ea18-4661-8e9f-2de6272d3c1f",
   "metadata": {},
   "outputs": [],
   "source": [
    "task_root=\"./04-KEGGCompleteness\"\n",
    "raw_output=\"$task_root/output\"\n",
    "\n",
    "mkdir -p $task_root $raw_output"
   ]
  },
  {
   "cell_type": "markdown",
   "id": "e92146e9-52ab-4642-b911-7e374952f4f4",
   "metadata": {},
   "source": [
    "#### Tool pointers and parameters"
   ]
  },
  {
   "cell_type": "code",
   "execution_count": null,
   "id": "ef091d48-d0a7-4a3b-8f8f-3b4d75a6f2bc",
   "metadata": {},
   "outputs": [],
   "source": [
    "microbeAnnotator_db=\"/mnt/STORAGE/databases/microbeAnnotator\"\n",
    "\n",
    "n_pipes=3\n",
    "n_cores=22\n",
    "n_cores_per_pipe=$(( n_cores / n_pipes ))"
   ]
  },
  {
   "cell_type": "markdown",
   "id": "5ce843f8-a619-443e-896a-897bd98af5af",
   "metadata": {},
   "source": [
    "### Run KEGG Completeness analysis"
   ]
  },
  {
   "cell_type": "code",
   "execution_count": null,
   "id": "c03d32b2-bcb2-4203-b298-a5a6760b254f",
   "metadata": {},
   "outputs": [],
   "source": [
    "conda activate microbeannotator"
   ]
  },
  {
   "cell_type": "code",
   "execution_count": null,
   "id": "e65ee9d3-dbf6-4221-ad75-38f0d0fba176",
   "metadata": {},
   "outputs": [],
   "source": [
    "root=$(pwd)\n",
    "cd $genomes\n",
    "microbeannotator -i  $(dir -1) -o out -d $microbeAnnotator_db -m diamond --cluster cols -t $n_cores_per_pipe -p $n_pipes --light\n",
    "cd $root\n",
    "mv $genomes/out/* $raw_output/\n",
    "rm -rf $genomes/out"
   ]
  },
  {
   "cell_type": "code",
   "execution_count": null,
   "id": "0f341aa0-4bee-43dc-a8d3-5f994c2d6966",
   "metadata": {},
   "outputs": [],
   "source": [
    "conda deactivate"
   ]
  },
  {
   "cell_type": "code",
   "execution_count": null,
   "id": "158d4df9-2422-4adb-8884-ec3251623c09",
   "metadata": {},
   "outputs": [],
   "source": []
  }
 ],
 "metadata": {
  "kernelspec": {
   "display_name": "Bash",
   "language": "bash",
   "name": "bash"
  },
  "language_info": {
   "codemirror_mode": "shell",
   "file_extension": ".sh",
   "mimetype": "text/x-sh",
   "name": "bash"
  }
 },
 "nbformat": 4,
 "nbformat_minor": 5
}
