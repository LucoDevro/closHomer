{
 "cells": [
  {
   "cell_type": "markdown",
   "id": "73b97b1e-ed90-4c4a-8b05-c6564911ac3f",
   "metadata": {},
   "source": [
    "This part of the pipeline constructs the pangenomes of the genome sets using MMseqs2 via the interface of PPanGGolin."
   ]
  },
  {
   "cell_type": "markdown",
   "id": "6c9e9013-ccdd-4430-b86b-c881938b14a3",
   "metadata": {},
   "source": [
    "### Checking dependencies"
   ]
  },
  {
   "cell_type": "code",
   "execution_count": null,
   "id": "95f43710-5742-4b86-87dc-afe9205e371f",
   "metadata": {},
   "outputs": [],
   "source": [
    "conda activate ppanggolin\n",
    "ppanggolin --version\n",
    "conda deactivate"
   ]
  },
  {
   "cell_type": "markdown",
   "id": "20859940-75f6-4b8e-9675-390153395292",
   "metadata": {},
   "source": [
    "### Paths and parameters"
   ]
  },
  {
   "cell_type": "markdown",
   "id": "a8d21fd1-3a03-4f9f-8a69-c3b2381f548d",
   "metadata": {},
   "source": [
    "#### Pipeline input folders"
   ]
  },
  {
   "cell_type": "code",
   "execution_count": null,
   "id": "7333a33f-672b-4c65-8287-c3e0d1167606",
   "metadata": {},
   "outputs": [],
   "source": [
    "indices=\"./02-QC/indices\""
   ]
  },
  {
   "cell_type": "markdown",
   "id": "43cafe93-2872-4ea8-afa1-756fa4d0ca39",
   "metadata": {},
   "source": [
    "#### Pipeline output folders"
   ]
  },
  {
   "cell_type": "code",
   "execution_count": null,
   "id": "565e05da-0c19-4702-bbf2-049da846118e",
   "metadata": {},
   "outputs": [],
   "source": [
    "task_root=\"./05-pangenomes\"\n",
    "mkdir -p $task_root"
   ]
  },
  {
   "cell_type": "markdown",
   "id": "8dc113a2-d948-46be-910a-3a9348d5a57a",
   "metadata": {},
   "source": [
    "#### Tool pointers and parameters"
   ]
  },
  {
   "cell_type": "code",
   "execution_count": null,
   "id": "ac49df33-06ee-46e7-a825-a238237c8529",
   "metadata": {},
   "outputs": [],
   "source": [
    "no_cores=22\n",
    "identity=0.5\n",
    "coverage=0.5"
   ]
  },
  {
   "cell_type": "markdown",
   "id": "4635cecb-297f-408c-88af-6621193327aa",
   "metadata": {},
   "source": [
    "### Construct the pangenomes"
   ]
  },
  {
   "cell_type": "code",
   "execution_count": null,
   "id": "24213ee7-df2f-42a2-9902-5de06a8bba97",
   "metadata": {},
   "outputs": [],
   "source": [
    "function construct_pangenome() {\n",
    "    mkdir -p $task_root/$1\n",
    "    conda activate ppanggolin\n",
    "    ppanggolin annotate -f --anno $indices/$1.list -o $task_root/$1 -c $no_cores\n",
    "    ppanggolin cluster -f -p $task_root/$1/pangenome.h5 --identity $identity --coverage $coverage -c $no_cores\n",
    "    ppanggolin write_pangenome -f -p $task_root/$1/pangenome.h5 -o $task_root/$1 --csv --Rtab\n",
    "    ppanggolin fasta -f -p $task_root/$1/pangenome.h5 -o $task_root/$1 --prot_families all\n",
    "    conda deactivate\n",
    "}"
   ]
  },
  {
   "cell_type": "code",
   "execution_count": null,
   "id": "6d491762-d2d1-4550-98f1-d628dde67c9b",
   "metadata": {},
   "outputs": [],
   "source": [
    "construct_pangenome group1\n",
    "construct_pangenome group4\n",
    "construct_pangenome group14a\n",
    "construct_pangenome group14b\n",
    "construct_pangenome merge"
   ]
  },
  {
   "cell_type": "code",
   "execution_count": null,
   "id": "9cef7d73-7aad-4334-8d42-2e5c728c144b",
   "metadata": {},
   "outputs": [],
   "source": []
  }
 ],
 "metadata": {
  "kernelspec": {
   "display_name": "Bash",
   "language": "bash",
   "name": "bash"
  },
  "language_info": {
   "codemirror_mode": "shell",
   "file_extension": ".sh",
   "mimetype": "text/x-sh",
   "name": "bash"
  }
 },
 "nbformat": 4,
 "nbformat_minor": 5
}
