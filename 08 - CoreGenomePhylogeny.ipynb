{
 "cells": [
  {
   "cell_type": "markdown",
   "id": "fd4da04c-b4e9-4867-b700-09c06c94ab75",
   "metadata": {},
   "source": [
    "This part of the pipeline extracts the core gene sequences from the pangenome sequence collection and then employs these as marker genes to construct a bootstrapped core genome phylogeny for the entire genome set. Finally it splits this phylogeny into subtrees for each rRNA cluster."
   ]
  },
  {
   "cell_type": "markdown",
   "id": "4fe9b2ca-109c-4573-8cb2-5223c81c1c60",
   "metadata": {},
   "source": [
    "### Checking dependencies"
   ]
  },
  {
   "cell_type": "code",
   "execution_count": null,
   "id": "16920da7-7b29-4cd9-bc33-71a9c437613a",
   "metadata": {},
   "outputs": [],
   "source": [
    "conda activate phylophlan\n",
    "phylophlan --version\n",
    "conda deactivate"
   ]
  },
  {
   "cell_type": "markdown",
   "id": "a7fc95c0-aafa-42a5-aea0-0049b48c9c2b",
   "metadata": {},
   "source": [
    "### Paths and parameters"
   ]
  },
  {
   "cell_type": "markdown",
   "id": "0fbb1dae-4120-4475-b62e-fce1e45f83d0",
   "metadata": {},
   "source": [
    "#### Pipeline input folders"
   ]
  },
  {
   "cell_type": "code",
   "execution_count": null,
   "id": "e73411b5-d1d8-4dae-8b77-dba040afbeb9",
   "metadata": {},
   "outputs": [],
   "source": [
    "merged_pangenome=\"./05-pangenomes/merge\"\n",
    "matrix=\"$merged_pangenome/matrix.csv\"\n",
    "prot_fams=\"$merged_pangenome/all_protein_families.faa\"\n",
    "\n",
    "pangenomes=\"./05-pangenomes\"\n",
    "\n",
    "genomes=\"./02-QC/data/genomes\"\n",
    "\n",
    "indices=\"./02-QC/indices\"\n",
    "\n",
    "metadata=\"./genomes_metadata\""
   ]
  },
  {
   "cell_type": "markdown",
   "id": "b3a7af89-ddb4-4be4-b7f6-82b4772c31f0",
   "metadata": {},
   "source": [
    "#### Pipeline output folders"
   ]
  },
  {
   "cell_type": "code",
   "execution_count": null,
   "id": "1ba3d31b-f131-49d6-baf9-2c4a0a57ecc2",
   "metadata": {},
   "outputs": [],
   "source": [
    "task_root=\"./08-core-phylogeny\"\n",
    "markers=$task_root/core_gene_markers\n",
    "input=$task_root/input\n",
    "output=$task_root/output\n",
    "subtrees=$task_root/subtrees\n",
    "roary_plots=$task_root/roary_plots\n",
    "\n",
    "mkdir -p $task_root $markers $input $output $subtrees $roary_plots"
   ]
  },
  {
   "cell_type": "markdown",
   "id": "7bda6ea4-96ca-4fca-aaa1-e44657b94d85",
   "metadata": {},
   "source": [
    "#### Tool pointers and parameters"
   ]
  },
  {
   "cell_type": "code",
   "execution_count": null,
   "id": "6655df51-98c7-4784-9250-5e200416cc4f",
   "metadata": {},
   "outputs": [],
   "source": [
    "extract_core_genes=\"./utils/extract_core_genes.py\"\n",
    "extract_tree=\"./utils/extract_tree.R\"\n",
    "annotate_tree=\"./utils/annotateContrees.py\"\n",
    "roary_plotter=\"./utils/roary_plots.py\"\n",
    "remove_outgroup=\"./utils/remove_outgroup.R\"\n",
    "outgroup=\"./utils/Bsubtilis_outgroup.fna\"\n",
    "\n",
    "core_threshold=0.99"
   ]
  },
  {
   "cell_type": "markdown",
   "id": "1b8dc738-0f97-414c-9133-04f53310109b",
   "metadata": {},
   "source": [
    "### Extract core genes"
   ]
  },
  {
   "cell_type": "code",
   "execution_count": null,
   "id": "40e400b7-e5b5-4fa9-b4ff-b81912834b07",
   "metadata": {},
   "outputs": [],
   "source": [
    "python $extract_core_genes $core_threshold $merged_pangenome $markers"
   ]
  },
  {
   "cell_type": "markdown",
   "id": "b0a74d5f-2516-4ac7-9503-c87cf1e46aba",
   "metadata": {},
   "source": [
    "### Build the marker database"
   ]
  },
  {
   "cell_type": "code",
   "execution_count": null,
   "id": "73e4c932-e0d9-4f03-b686-a3fd1d3fe9d9",
   "metadata": {},
   "outputs": [],
   "source": [
    "conda activate phylophlan"
   ]
  },
  {
   "cell_type": "code",
   "execution_count": null,
   "id": "1dc0eabc-4ca3-4e56-b954-bd13f2641446",
   "metadata": {},
   "outputs": [],
   "source": [
    "mkdir -p $markers/core_gene_markers\n",
    "phylophlan_setup_database -i $markers/core_gene_seqs.faa -o $markers/core_gene_markers -d core_gene_markers -t a \\\n",
    "| tee $task_root/build_database.log"
   ]
  },
  {
   "cell_type": "markdown",
   "id": "4d838ff1-7abb-4ebf-be71-0fb2bd65a4e0",
   "metadata": {},
   "source": [
    "### Build the phylogeny"
   ]
  },
  {
   "cell_type": "markdown",
   "id": "4e64aceb-cd7c-4df5-ac88-7c44e0b629bc",
   "metadata": {},
   "source": [
    "#### Getting config and input files ready"
   ]
  },
  {
   "cell_type": "code",
   "execution_count": null,
   "id": "9ccafb8c-b859-44b7-a672-ff74c3b1d45f",
   "metadata": {},
   "outputs": [],
   "source": [
    "phylophlan_write_config_file -d a -o $output/config.conf --db_aa diamond --map_dna diamond --map_aa diamond \\\n",
    "--msa mafft --trim trimal --tree1 iqtree --verbose | tee $output/config.log"
   ]
  },
  {
   "cell_type": "markdown",
   "id": "7f4ff747-2136-4b17-94ff-33aa72d460bd",
   "metadata": {},
   "source": [
    "manually add the request to make 10.000 bootstraps"
   ]
  },
  {
   "cell_type": "code",
   "execution_count": null,
   "id": "15bb6d19-17b3-4c73-93c8-645e5f4089b0",
   "metadata": {},
   "outputs": [],
   "source": [
    "echo \\\n",
    "\"[tree1]\n",
    "program_name = $(which iqtree)\n",
    "params = -quiet -nt AUTO -m LG -B 10000\n",
    "input = -s\n",
    "output = -pre\n",
    "command_line = #program_name# #params# #input# #output#\n",
    "\" \\\n",
    "| cat <(cat $output/config.conf | cut -z -d '[' -f -6 | tr -d '\\0') - > $output/_config.conf\n",
    "mv $output/_config.conf $output/config.conf"
   ]
  },
  {
   "cell_type": "markdown",
   "id": "ea4197f3-4929-4411-9afa-e111e213611a",
   "metadata": {},
   "source": [
    "Copy the taxa as well as the outgroup to the input folder"
   ]
  },
  {
   "cell_type": "code",
   "execution_count": null,
   "id": "79bf8945-9222-442e-8e58-d8b8f601e43a",
   "metadata": {},
   "outputs": [],
   "source": [
    "mkdir -p $input\n",
    "cp $genomes/* $input/\n",
    "cp $outgroup $input/"
   ]
  },
  {
   "cell_type": "markdown",
   "id": "45d2c7b9-d054-45a0-8c04-7ce320aa5866",
   "metadata": {},
   "source": [
    "#### Build!"
   ]
  },
  {
   "cell_type": "code",
   "execution_count": null,
   "id": "25a6c85d-ba7f-4640-8cec-d1102483ca23",
   "metadata": {},
   "outputs": [],
   "source": [
    "phylophlan -i $input -d core_gene_markers -f $output/config.conf -t a --diversity medium \\\n",
    "-o $output --databases_folder $markers --nproc 20 --verbose \\\n",
    "| tee $output/run.log"
   ]
  },
  {
   "cell_type": "code",
   "execution_count": null,
   "id": "a8d1d06e-b65d-452b-9538-dfb2421fa31c",
   "metadata": {},
   "outputs": [],
   "source": [
    "conda deactivate"
   ]
  },
  {
   "cell_type": "code",
   "execution_count": null,
   "id": "8402f1e3-ffb6-4e5d-b245-7da76b7929ce",
   "metadata": {},
   "outputs": [],
   "source": [
    "rm -rf $output/tmp"
   ]
  },
  {
   "cell_type": "markdown",
   "id": "3b9f905b-c18d-4095-9863-ddea0a714432",
   "metadata": {},
   "source": [
    "### Remove outgroup"
   ]
  },
  {
   "cell_type": "code",
   "execution_count": null,
   "id": "f054b9b1-62ec-47ab-85b4-8525a158a924",
   "metadata": {},
   "outputs": [],
   "source": [
    "mv $output/input.tre.contree $output/input.tree\n",
    "Rscript $remove_outgroup $output/input.tree $output $(basename -s .fna $outgroup)"
   ]
  },
  {
   "cell_type": "markdown",
   "id": "5fbcbccb-5989-4f51-bd52-72dcd7ccda6b",
   "metadata": {},
   "source": [
    "### Split the tree into rRNA-based subtrees"
   ]
  },
  {
   "cell_type": "code",
   "execution_count": null,
   "id": "1baa6155-97e5-4e86-8cfe-fad861ea5cd8",
   "metadata": {},
   "outputs": [],
   "source": [
    "cp $output/merge.contree $subtrees/merge.contree\n",
    "Rscript $extract_tree $output/merge.contree \"$indices/group1\" \"$subtrees/group1.contree\"\n",
    "Rscript $extract_tree $output/merge.contree \"$indices/group4\" \"$subtrees/group4.contree\"\n",
    "Rscript $extract_tree $output/merge.contree \"$indices/group14a\" \"$subtrees/group14a.contree\"\n",
    "Rscript $extract_tree $output/merge.contree \"$indices/group14b\" \"$subtrees/group14b.contree\""
   ]
  },
  {
   "cell_type": "markdown",
   "id": "66e483f3-938e-4703-9fd3-d369712abfe0",
   "metadata": {},
   "source": [
    "### Annotate subtrees"
   ]
  },
  {
   "cell_type": "markdown",
   "id": "10735993-44de-408c-a5d1-c7a29d5859d0",
   "metadata": {},
   "source": [
    "Replacing the RefSeq accession IDs with the taxa's names."
   ]
  },
  {
   "cell_type": "code",
   "execution_count": null,
   "id": "b9389106-c6a3-479e-949a-f9c6c6df7f80",
   "metadata": {},
   "outputs": [],
   "source": [
    "dir -1 $subtrees | grep .contree | xargs -I % python $annotate_tree $subtrees/% $metadata \"contree\""
   ]
  },
  {
   "cell_type": "markdown",
   "id": "68bb15eb-51a2-4d70-af1f-b076d6e2eab0",
   "metadata": {},
   "source": [
    "### Roary plots"
   ]
  },
  {
   "cell_type": "code",
   "execution_count": null,
   "id": "4a071586-3fe0-432b-857b-0a695f643871",
   "metadata": {},
   "outputs": [],
   "source": [
    "function roary_plotting () {\n",
    "    $roary_plotter $subtrees/$1.contree $pangenomes/$1/matrix.csv\n",
    "    mkdir -p $roary_plots/$1\n",
    "    mv pangenome_*.pdf $roary_plots/$1\n",
    "}"
   ]
  },
  {
   "cell_type": "code",
   "execution_count": null,
   "id": "48051c5d-8742-4c0d-a30c-172dc4ee1c04",
   "metadata": {},
   "outputs": [],
   "source": [
    "for p in $(dir -1 $pangenomes)\n",
    "do\n",
    "roary_plotting $p\n",
    "done"
   ]
  },
  {
   "cell_type": "code",
   "execution_count": null,
   "id": "720d49da-1bfe-4420-8b61-44e1d904cb13",
   "metadata": {},
   "outputs": [],
   "source": []
  }
 ],
 "metadata": {
  "kernelspec": {
   "display_name": "Bash",
   "language": "bash",
   "name": "bash"
  },
  "language_info": {
   "codemirror_mode": "shell",
   "file_extension": ".sh",
   "mimetype": "text/x-sh",
   "name": "bash"
  }
 },
 "nbformat": 4,
 "nbformat_minor": 5
}
