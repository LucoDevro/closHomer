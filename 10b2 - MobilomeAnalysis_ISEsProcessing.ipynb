{
 "cells": [
  {
   "cell_type": "markdown",
   "id": "c3c67862-d957-48d4-a751-9f5ee5c356f6",
   "metadata": {},
   "source": [
    "This part of the pipeline processes the raw ISEscan output and statistically compares the normalised ISE counts by rRNA cluster."
   ]
  },
  {
   "cell_type": "markdown",
   "id": "d562cb6f-c899-4b45-b77b-cd7baf66449b",
   "metadata": {},
   "source": [
    "### Paths and parameters"
   ]
  },
  {
   "cell_type": "markdown",
   "id": "2e3c8009-0993-49eb-b1df-1bd95fda02f8",
   "metadata": {},
   "source": [
    "#### Pipeline input folders"
   ]
  },
  {
   "cell_type": "code",
   "execution_count": null,
   "id": "a633d275-eb81-4472-a666-43f13ca9cdcc",
   "metadata": {},
   "outputs": [],
   "source": [
    "metadata = \"./genomes_metadata\""
   ]
  },
  {
   "cell_type": "markdown",
   "id": "8899f121-eced-47d1-badf-283db8e009cb",
   "metadata": {},
   "source": [
    "#### Pipeline output folders"
   ]
  },
  {
   "cell_type": "code",
   "execution_count": null,
   "id": "9a68f8d5-6a75-4aba-b933-ca3ab561b523",
   "metadata": {},
   "outputs": [],
   "source": [
    "task_root = \"./10-MGEs/ISEs\"\n",
    "output_folder = task_root+\"/output\"\n",
    "results_folder = task_root+\"/processed_output\""
   ]
  },
  {
   "cell_type": "markdown",
   "id": "b3a1df0b-b614-4fc7-b755-807a4d143a57",
   "metadata": {},
   "source": [
    "#### Tool pointers and parameters"
   ]
  },
  {
   "cell_type": "code",
   "execution_count": null,
   "id": "dbc3fa3e-98a7-4a96-9e64-04cf894d9758",
   "metadata": {},
   "outputs": [],
   "source": []
  },
  {
   "cell_type": "markdown",
   "id": "09089b46-8073-4db9-ba2d-becde9d363e8",
   "metadata": {},
   "source": [
    "#### Libraries and other setups"
   ]
  },
  {
   "cell_type": "code",
   "execution_count": null,
   "id": "b61958f0-e7fa-4991-bd66-e12a57b673ba",
   "metadata": {},
   "outputs": [],
   "source": [
    "import os\n",
    "import pandas as pd\n",
    "import scipy.stats as sts\n",
    "import itertools as it\n",
    "import seaborn as sns\n",
    "import matplotlib.pyplot as plt\n",
    "from statannotations.Annotator import Annotator"
   ]
  },
  {
   "cell_type": "code",
   "execution_count": null,
   "id": "72729059-b323-49ab-bc8a-b46e5e285a87",
   "metadata": {},
   "outputs": [],
   "source": [
    "# custom_palette = sns.husl_palette()\n",
    "# custom_palette = [custom_palette[0], custom_palette[2], custom_palette[4], custom_palette[5]]\n",
    "custom_palette = {'1': '#ee6677',\n",
    "                  '4': '#4477aa',\n",
    "                  '14a': '#228833',\n",
    "                  '14b': '#ccbb44'}\n",
    "custom_palette"
   ]
  },
  {
   "cell_type": "code",
   "execution_count": null,
   "id": "ff9884b0-eeb4-4dcf-a944-0f949ff238fc",
   "metadata": {},
   "outputs": [],
   "source": [
    "os.makedirs(results_folder, exist_ok=True)"
   ]
  },
  {
   "cell_type": "markdown",
   "id": "872c76e8-17d3-47b4-86a0-a59f0d3f0bd5",
   "metadata": {},
   "source": [
    "## Reading input files"
   ]
  },
  {
   "cell_type": "markdown",
   "id": "bb48dd28-2732-4755-a7de-70ea3ed1ad4b",
   "metadata": {},
   "source": [
    "### Reading cluster annotations of the assembly IDs"
   ]
  },
  {
   "cell_type": "code",
   "execution_count": null,
   "id": "50d37aca-a7e4-44c0-9b01-03d30a7045d7",
   "metadata": {},
   "outputs": [],
   "source": [
    "cluster_annotations_0 = pd.read_table(metadata, sep = '\\t', usecols = [1,2])\n",
    "cluster_annotations_0.columns = ['assemblyID', 'cluster']"
   ]
  },
  {
   "cell_type": "code",
   "execution_count": null,
   "id": "4a60e5f3-a00e-4d42-a57f-bab273db48d8",
   "metadata": {
    "scrolled": true
   },
   "outputs": [],
   "source": [
    "cluster_annotations = cluster_annotations_0.to_dict(orient = 'list')\n",
    "cluster_annotations = dict(zip(*cluster_annotations.values()))\n",
    "cluster_annotations"
   ]
  },
  {
   "cell_type": "markdown",
   "id": "24f124d8-530c-4398-b09c-eced319756f4",
   "metadata": {},
   "source": [
    "### Reading genome sizes"
   ]
  },
  {
   "cell_type": "markdown",
   "id": "56d504b5-5e48-462d-85a9-7b22932c415d",
   "metadata": {},
   "source": [
    "Necessary for normalising the ISE counts"
   ]
  },
  {
   "cell_type": "code",
   "execution_count": null,
   "id": "1c505921-1c0f-4d43-8d40-e7054226d7f6",
   "metadata": {},
   "outputs": [],
   "source": [
    "genome_sizes_0 = pd.read_table(metadata, sep = '\\t', usecols = [1,4])\n",
    "genome_sizes_0.columns = ['assemblyID', 'size']"
   ]
  },
  {
   "cell_type": "code",
   "execution_count": null,
   "id": "3ddf21b5-d34e-4c21-9f60-9ecbc236e56c",
   "metadata": {
    "scrolled": true
   },
   "outputs": [],
   "source": [
    "genome_sizes = genome_sizes_0.to_dict(orient = 'list')\n",
    "genome_sizes = dict(zip(*genome_sizes.values()))\n",
    "genome_sizes"
   ]
  },
  {
   "cell_type": "markdown",
   "id": "d74a8c8a-007b-4feb-9af1-c453f12c2147",
   "metadata": {},
   "source": [
    "### Reading ISEscanner output"
   ]
  },
  {
   "cell_type": "code",
   "execution_count": null,
   "id": "55ca288e-2f6f-414a-b4c6-ecd8ae0d4a01",
   "metadata": {},
   "outputs": [],
   "source": [
    "tables = {}\n",
    "# ISE hits can just be taken over from the result tsv file\n",
    "for file in os.listdir(output_folder):\n",
    "    acc = file[:-4]\n",
    "    table = pd.read_table(output_folder + '/' + acc + \".fna/genomes/\" + acc + \".fna.tsv\", sep = \"\\t\", usecols=[0,1,5,19,21])\n",
    "    table['assemblyID'] = acc\n",
    "    table['cluster'] = cluster_annotations[acc]\n",
    "    table['size'] = genome_sizes[acc]\n",
    "    tables[acc] = table"
   ]
  },
  {
   "cell_type": "markdown",
   "id": "9a6166c3-f4b1-4df6-b002-d1fb4e581247",
   "metadata": {},
   "source": [
    "### Concatenating output by assembly ID"
   ]
  },
  {
   "cell_type": "code",
   "execution_count": null,
   "id": "0dbc33e3-07df-4135-b7d6-19f0769db98e",
   "metadata": {},
   "outputs": [],
   "source": [
    "out = pd.concat(tables, ignore_index=True)"
   ]
  },
  {
   "cell_type": "code",
   "execution_count": null,
   "id": "56b6b7e3-b347-40ae-903c-fb36f394d959",
   "metadata": {},
   "outputs": [],
   "source": [
    "out.to_csv(results_folder + \"/\" + 'full_list.tsv', sep='\\t', index = False)"
   ]
  },
  {
   "cell_type": "code",
   "execution_count": null,
   "id": "a193da73-690a-4163-bd37-2669d193bcf6",
   "metadata": {},
   "outputs": [],
   "source": [
    "out"
   ]
  },
  {
   "cell_type": "markdown",
   "id": "3af6d7f0-386a-4482-be28-a27802a602e0",
   "metadata": {},
   "source": [
    "## IS counting"
   ]
  },
  {
   "cell_type": "markdown",
   "id": "ea927035-c84d-4066-a847-f16357c2a925",
   "metadata": {},
   "source": [
    "### General count stats"
   ]
  },
  {
   "cell_type": "markdown",
   "id": "77474599-2052-47e3-b37f-74fdac3def36",
   "metadata": {},
   "source": [
    "#### Number of ISes by assembly"
   ]
  },
  {
   "cell_type": "code",
   "execution_count": null,
   "id": "fb91129e-fa1d-4afe-aede-567ba54838ad",
   "metadata": {},
   "outputs": [],
   "source": [
    "IScounts_assembly = out.groupby(by = \"assemblyID\")['seqID'].count()\n",
    "IScounts_assembly"
   ]
  },
  {
   "cell_type": "markdown",
   "id": "17500eba-da22-4379-9043-c58a033f3111",
   "metadata": {},
   "source": [
    "#### Total number of ISes by cluster"
   ]
  },
  {
   "cell_type": "code",
   "execution_count": null,
   "id": "145605d0-3343-4713-8f45-83ee88295e2a",
   "metadata": {},
   "outputs": [],
   "source": [
    "IScounts_cluster = out.groupby(by = \"cluster\")['seqID'].count()\n",
    "IScounts_cluster"
   ]
  },
  {
   "cell_type": "markdown",
   "id": "db7bacfa-18d1-4de0-80fc-d7655aaad5e9",
   "metadata": {},
   "source": [
    "#### Average number of ISes by cluster"
   ]
  },
  {
   "cell_type": "code",
   "execution_count": null,
   "id": "97342e89-2c08-4f29-83b6-1bc063a28a07",
   "metadata": {},
   "outputs": [],
   "source": [
    "out.groupby(by = [\"cluster\", \"assemblyID\"])['seqID'].count().reset_index().rename(columns = {'seqID': 'No. ISes'}\n",
    "            ).groupby(by = \"cluster\")['No. ISes'].mean().reset_index()"
   ]
  },
  {
   "cell_type": "markdown",
   "id": "0bca4a35-e9c7-4815-b57a-029c3c800339",
   "metadata": {},
   "source": [
    "#### Number of ISs by IS family"
   ]
  },
  {
   "cell_type": "code",
   "execution_count": null,
   "id": "ce402e02-48a2-4cc1-bfd9-61a5c721851d",
   "metadata": {},
   "outputs": [],
   "source": [
    "IScounts_family = pd.DataFrame(out.groupby(by = \"family\")[\"seqID\"].count()).T\n",
    "IScounts_family"
   ]
  },
  {
   "cell_type": "markdown",
   "id": "b3f008cd-f4aa-4c52-be0a-31440ba8f85b",
   "metadata": {},
   "source": [
    "### Counting by rRNA cluster"
   ]
  },
  {
   "cell_type": "markdown",
   "id": "58b4fe3c-d9c2-4333-abd1-b1c9aa695b52",
   "metadata": {},
   "source": [
    "Add annotations and genome size columns"
   ]
  },
  {
   "cell_type": "code",
   "execution_count": null,
   "id": "46b174d8-f7d6-47a3-9ebb-819893db1e68",
   "metadata": {},
   "outputs": [],
   "source": [
    "IScounts_assembly_cluster = pd.DataFrame(IScounts_assembly).merge(cluster_annotations_0, how = 'inner', on = 'assemblyID')\n",
    "IScounts_assembly_cluster = pd.DataFrame(IScounts_assembly_cluster).merge(genome_sizes_0, how = 'inner', on = 'assemblyID')\n",
    "IScounts_assembly_cluster = IScounts_assembly_cluster.rename(columns = {'seqID': 'No. ISes'})"
   ]
  },
  {
   "cell_type": "markdown",
   "id": "db364e56-d1e4-4a70-89a5-d960b1149f5f",
   "metadata": {},
   "source": [
    "Normalise by genome size"
   ]
  },
  {
   "cell_type": "code",
   "execution_count": null,
   "id": "9c94888b-3a6d-4876-ac95-3348c8001d0a",
   "metadata": {},
   "outputs": [],
   "source": [
    "IScounts_assembly_cluster['Norm. no. ISes'] = IScounts_assembly_cluster['No. ISes']/IScounts_assembly_cluster['size']*1000000\n",
    "IScounts_assembly_cluster"
   ]
  },
  {
   "cell_type": "code",
   "execution_count": null,
   "id": "324e2cf5-2d7c-4ce3-8ce5-68123ccfcd3e",
   "metadata": {},
   "outputs": [],
   "source": [
    "IScounts_assembly_cluster.to_csv(results_folder + \"/\" + 'counts_per_assembly_cluster', sep = '\\t', index = False)"
   ]
  },
  {
   "cell_type": "markdown",
   "id": "b9447d32-adcc-43ed-8f6f-700614dacf6f",
   "metadata": {},
   "source": [
    "#### Barplot"
   ]
  },
  {
   "cell_type": "code",
   "execution_count": null,
   "id": "8aabff05-c691-4240-9812-3d22e6fcb3e6",
   "metadata": {},
   "outputs": [],
   "source": [
    "fig, ax = plt.subplots(figsize = (5,2))\n",
    "ax = sns.barplot(ax = ax, data = IScounts_assembly_cluster, estimator = \"mean\", errorbar = \"se\",\n",
    "                 x = \"Norm. no. ISes\", y = \"cluster\", palette = custom_palette,\n",
    "                 width = 0.9, orient = \"h\")\n",
    "plt.xlabel('Avg. norm. no. ISes')\n",
    "plt.ylabel('rRNA cluster')\n",
    "plt.title('IS elements')\n",
    "plt.savefig(results_folder + \"/\" + \"av_counts_cluster_bar.svg\")\n",
    "plt.show()"
   ]
  },
  {
   "cell_type": "markdown",
   "id": "511b5a7f-1db6-4b83-832e-89ca59f942f8",
   "metadata": {},
   "source": [
    "#### Violinplot"
   ]
  },
  {
   "cell_type": "code",
   "execution_count": null,
   "id": "c0e37c2f-b116-4edb-bee9-5f45d62f5573",
   "metadata": {},
   "outputs": [],
   "source": [
    "fig, ax = plt.subplots(figsize = (5,3))\n",
    "ax = sns.violinplot(ax = ax, data = IScounts_assembly_cluster, x = 'Norm. no. ISes', y = 'cluster',\n",
    "                    palette = custom_palette, orient = 'h', cut = 0)\n",
    "plt.xlabel('Norm. no. ISes')\n",
    "plt.ylabel('rRNA cluster')\n",
    "plt.title('IS elements')\n",
    "\n",
    "# Add statistical significance markers\n",
    "pairs = list(it.combinations(IScounts_assembly_cluster['cluster'].unique(), 2))\n",
    "annotator = Annotator(ax = ax, pairs = pairs, data = IScounts_assembly_cluster, x = 'Norm. no. ISes', y = 'cluster', orient = 'h', cut = 0)\n",
    "annotator.configure(test = 'Mann-Whitney', text_format = 'star', loc = 'inside')\n",
    "annotator.apply_and_annotate()\n",
    "\n",
    "plt.savefig(results_folder + \"/\" + 'counts_cluster_violin.svg')\n",
    "plt.show()"
   ]
  },
  {
   "cell_type": "markdown",
   "id": "499a3afb-0904-4f97-9cd5-e01117ec9210",
   "metadata": {},
   "source": [
    "#### Exact stats"
   ]
  },
  {
   "cell_type": "code",
   "execution_count": null,
   "id": "0a373a93-8298-4858-9942-98eeb996af45",
   "metadata": {
    "scrolled": true
   },
   "outputs": [],
   "source": [
    "IScounts_assembly_cluster_grouped = pd.Series(IScounts_assembly_cluster.groupby('cluster')['Norm. no. ISes'])\n",
    "IScounts_assembly_cluster_grouped = {IScounts_assembly_cluster_grouped[i][0]:\n",
    "                                     IScounts_assembly_cluster_grouped[i][1].to_list()\n",
    "                                     for i in range(len(IScounts_assembly_cluster_grouped))}\n",
    "IScounts_assembly_cluster_grouped"
   ]
  },
  {
   "cell_type": "code",
   "execution_count": null,
   "id": "b104bc1c-3575-4202-80fe-d3a5f4a3a6a5",
   "metadata": {},
   "outputs": [],
   "source": [
    "tests = it.combinations(IScounts_assembly_cluster_grouped.keys(), 2)\n",
    "for comb in tests:\n",
    "    print(str(comb) + ': ' + \n",
    "          str(sts.mannwhitneyu(IScounts_assembly_cluster_grouped[comb[0]], \n",
    "                           IScounts_assembly_cluster_grouped[comb[1]])\n",
    "              [1])\n",
    "         )"
   ]
  },
  {
   "cell_type": "markdown",
   "id": "89fefb5b-5e95-4390-b792-770b65d30f90",
   "metadata": {},
   "source": [
    "## ISE families per cluster"
   ]
  },
  {
   "cell_type": "code",
   "execution_count": null,
   "id": "574922e3-9bfe-47b7-aa2f-c525d70dbbde",
   "metadata": {},
   "outputs": [],
   "source": [
    "IScounts_family_av = out.groupby(['assemblyID', 'family']).count()['seqID'].reset_index().rename(columns = {'seqID': 'No. ISes'})\n",
    "IScounts_family_av"
   ]
  },
  {
   "cell_type": "code",
   "execution_count": null,
   "id": "34155e75-0a50-4a4c-95f5-243e57b53020",
   "metadata": {},
   "outputs": [],
   "source": [
    "IScounts_family_av_pivot = IScounts_family_av.pivot(columns = \"family\", index = \"assemblyID\", values = \"No. ISes\").fillna(0).astype(int)\n",
    "IScounts_family_av_pivot['cluster'] = IScounts_family_av_pivot.index.to_series().apply(lambda x: cluster_annotations[x])\n",
    "IScounts_family_av_pivot = IScounts_family_av_pivot.melt(id_vars = 'cluster').rename(columns = {'value': 'No. ISes'})\n",
    "IScounts_family_av_pivot"
   ]
  },
  {
   "cell_type": "code",
   "execution_count": null,
   "id": "c731e9b8-ea58-431c-9085-4136a765be69",
   "metadata": {},
   "outputs": [],
   "source": [
    "fig, ax = plt.subplots(figsize = (8,10))\n",
    "ax = sns.barplot(ax = ax, data = IScounts_family_av_pivot, estimator = \"mean\", errorbar = \"se\",\n",
    "                 x = \"No. ISes\", y = \"family\", hue = \"cluster\", order = sorted(IScounts_family_av['family'].unique()),\n",
    "                 palette = custom_palette, width = 0.9, orient = \"h\")\n",
    "plt.xlabel(\"Avg. no. ISes\")\n",
    "plt.ylabel(\"IS family\")\n",
    "plt.savefig(results_folder + \"/\" + \"av_counts_IStype.svg\")\n",
    "plt.show()"
   ]
  },
  {
   "cell_type": "markdown",
   "id": "f95db7cd-f6d4-4799-962a-9c912ca47bc8",
   "metadata": {},
   "source": [
    "**IS families with known passenger activity:**\n",
    "- **IS1595**: originally identified in *Xanthomonas* species. Can transport passenger genes: transcription regulators or ncDNA.\n",
    "- **IS481**: evidence it has played a fundamental role in IS amplification and genome decay in *Bordetella pertussis*. Can carry passenger genes (antibiotic resistance, transcriptional regulators).\n",
    "- **IS6**: Can carry passenger genes (nylon degradation in *Arthrobacter*, ARGs in *S. aureus*. No specific insertion target.\n",
    "- **IS66**: Common among *Firmicutes*. May carry passenger genes.\n",
    "- **ISL3**: One-orf IS. Passenger IS has been observed in *Enterococcus faecium*, transporting Hg resistance.\n",
    "\n",
    "**other IS families with a substantially different count level:**\n",
    "- **IS200/IS605**: *tnpA* is the essential transposase. An additional protein *tnpB* has an unknown function, maybe regulatory. No prominent passenger genes known, so no selection target.\n",
    "- **IS110**: a diverse group of single Tpase IS. A diverse array of target sequences and no prominent passenger genes. No selection target.\n",
    "- **IS1182**: diverse set of specificities, no passenger genes.\n",
    "- **IS607**: the only IS to be found in eukaryotic genomes (protists that graze on bacteria) and large DNA viruses that infect those protists.\n",
    "- **IS630**: A one-orf IS related to *mariner*. Specific insertion target (TA dinucleotide)\n",
    "- **IS91**: Single-orf IS"
   ]
  },
  {
   "cell_type": "code",
   "execution_count": null,
   "id": "26f05aa0-eeb4-4914-9d9d-68ef6da5cec7",
   "metadata": {},
   "outputs": [],
   "source": []
  }
 ],
 "metadata": {
  "kernelspec": {
   "display_name": "Python 3 (ipykernel)",
   "language": "python",
   "name": "python3"
  },
  "language_info": {
   "codemirror_mode": {
    "name": "ipython",
    "version": 3
   },
   "file_extension": ".py",
   "mimetype": "text/x-python",
   "name": "python",
   "nbconvert_exporter": "python",
   "pygments_lexer": "ipython3",
   "version": "3.10.12"
  }
 },
 "nbformat": 4,
 "nbformat_minor": 5
}
