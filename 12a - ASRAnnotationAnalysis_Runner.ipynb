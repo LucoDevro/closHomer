{
 "cells": [
  {
   "cell_type": "markdown",
   "id": "f06e024f-c72d-4f90-9dbf-1ccbfd969638",
   "metadata": {},
   "source": [
    "This part of the pipeline makes a Wagner parsimony Ancestral State Reconstruction of the entire *Clostridia* set for the core genome tree using the Count tool."
   ]
  },
  {
   "cell_type": "markdown",
   "id": "38ca32a7-2d19-4815-a8f9-e67b80927d08",
   "metadata": {},
   "source": [
    "### Paths and parameters"
   ]
  },
  {
   "cell_type": "markdown",
   "id": "e685962a-d291-4d0c-a773-b00c0d471a71",
   "metadata": {},
   "source": [
    "#### Pipeline input folders"
   ]
  },
  {
   "cell_type": "code",
   "execution_count": null,
   "id": "bad2a31f-a75c-4eac-b060-d5af1e0d6cb5",
   "metadata": {},
   "outputs": [],
   "source": [
    "pa=\"05-pangenomes/merge/matrix.csv\"\n",
    "ann=\"07-PangenomeAnnotation/COG/mapper/all_protein_families_merge.emapper.annotations\"\n",
    "tree=\"08-core-phylogeny/subtrees/merge.contree\""
   ]
  },
  {
   "cell_type": "markdown",
   "id": "284fbc4e-f457-40c3-afa2-fdf2d3258308",
   "metadata": {},
   "source": [
    "#### Pipeline output folders"
   ]
  },
  {
   "cell_type": "code",
   "execution_count": null,
   "id": "b986c311-b93f-4e71-aa78-8aa6fff7f710",
   "metadata": {},
   "outputs": [],
   "source": [
    "task_root=\"12-ASR-analysis\"\n",
    "\n",
    "mkdir -p $task_root"
   ]
  },
  {
   "cell_type": "markdown",
   "id": "6537f9ac-776d-47b6-bbfe-4df9f84f350c",
   "metadata": {},
   "source": [
    "#### Tool pointers and parameters"
   ]
  },
  {
   "cell_type": "code",
   "execution_count": null,
   "id": "a8eaed43-bf0b-465d-994f-90c214a3cb5a",
   "metadata": {},
   "outputs": [],
   "source": [
    "convert_inputs=\"utils/convert_ASR_inputs.R\"\n",
    "Count=\"utils/Count.jar\""
   ]
  },
  {
   "cell_type": "markdown",
   "id": "f99bfbb9-c44d-4c76-a4f8-8440f7b54f73",
   "metadata": {},
   "source": [
    "### Convert the inputs for use in Count"
   ]
  },
  {
   "cell_type": "markdown",
   "id": "ccfdaba1-a45b-42d3-9671-667444d8b81c",
   "metadata": {},
   "source": [
    "`Count` expects the input files to be in a certain format for easy import into the tool.\n",
    "\n",
    "Leaf labels have to be made consistent so that we can derive which leaf is which assembly. The pangenome P/A matrix has to be converted into a plain count matrix instead of a dataframe of genomic coordinates. Finally, the COG annotation for each assembly has to be tabulated in a tsv file."
   ]
  },
  {
   "cell_type": "code",
   "execution_count": null,
   "id": "c4625679-31cb-48bb-8388-76174e2bbaf2",
   "metadata": {},
   "outputs": [],
   "source": [
    "root=$(pwd)\n",
    "cd $task_root"
   ]
  },
  {
   "cell_type": "code",
   "execution_count": null,
   "id": "d1d36c6b-2154-496b-b5aa-e7f2f5dfc333",
   "metadata": {},
   "outputs": [],
   "source": [
    "Rscript $root/$convert_inputs $root/$tree $root/$pa $root/$ann ."
   ]
  },
  {
   "cell_type": "markdown",
   "id": "ecd2941f-c6b7-4f07-8f24-22423c9babe3",
   "metadata": {},
   "source": [
    "### Run Count in CLI mode"
   ]
  },
  {
   "cell_type": "code",
   "execution_count": null,
   "id": "1fe7d951-7509-47d7-9309-12aca7f67f3d",
   "metadata": {},
   "outputs": [],
   "source": [
    "java -Xmx50G -cp $root/$Count ca.umontreal.iro.evolution.genecontent.AsymmetricWagner \\\n",
    "-gain 1 input_ready.tree matrix_counts.tsv > analysis_export.tsv"
   ]
  },
  {
   "cell_type": "markdown",
   "id": "30fdf397-b96f-4117-a448-ac0eb2f9bb75",
   "metadata": {},
   "source": [
    "### Split the output file"
   ]
  },
  {
   "cell_type": "code",
   "execution_count": null,
   "id": "808fba38-5cc3-49e6-8d48-4e7be227e963",
   "metadata": {},
   "outputs": [],
   "source": [
    "grep '# FAMILY' analysis_export.tsv | cut -f 2- > families.tsv\n",
    "grep '# PRESENCE' analysis_export.tsv | cut -f 2- > presences.tsv\n",
    "grep '# CHANGE' analysis_export.tsv | cut -f 2- > changes.tsv\n",
    "rm -f analysis_export.tsv"
   ]
  },
  {
   "cell_type": "code",
   "execution_count": null,
   "id": "1d4d2376-7914-486e-8667-e69ac3486583",
   "metadata": {},
   "outputs": [],
   "source": [
    "cd $root"
   ]
  },
  {
   "cell_type": "markdown",
   "id": "83d0a586-600f-4592-b242-0229869255f6",
   "metadata": {
    "jp-MarkdownHeadingCollapsed": true
   },
   "source": [
    "### Do a gain/loss penalty sensitivity analysis"
   ]
  },
  {
   "cell_type": "code",
   "execution_count": null,
   "id": "8cd9b9a1-14b3-4636-b7a0-8189795fdd43",
   "metadata": {},
   "outputs": [],
   "source": [
    "cd $task_root"
   ]
  },
  {
   "cell_type": "code",
   "execution_count": null,
   "id": "00282c20-bc0a-4569-8180-3235822b0747",
   "metadata": {},
   "outputs": [],
   "source": [
    "mkdir -p ratio_sensitivity"
   ]
  },
  {
   "cell_type": "code",
   "execution_count": null,
   "id": "a553c979-938a-4007-98cc-2e910fba6da7",
   "metadata": {},
   "outputs": [],
   "source": [
    "range=( 0.5 0.6 0.7 0.8 0.9 1 1.1 1.2 1.3 1.4 1.5 )\n",
    "for i in \"${range[@]}\"\n",
    "do\n",
    "    java -Xmx50G -cp $root/$Count ca.umontreal.iro.evolution.genecontent.AsymmetricWagner \\\n",
    "    -gain $i input_ready.tree matrix_counts.tsv > analysis_export.tsv\n",
    "    \n",
    "    grep '# FAMILY' analysis_export.tsv | cut -f 2- > ratio_sensitity/families_$1.tsv\n",
    "    grep '# PRESENCE' analysis_export.tsv | cut -f 2- > ratio_sensitity/presences_$1.tsv\n",
    "    grep '# CHANGE' analysis_export.tsv | cut -f 2- > ratio_sensitity/changes_$1.tsv\n",
    "    rm -f analysis_export.tsv\n",
    "done"
   ]
  },
  {
   "cell_type": "code",
   "execution_count": null,
   "id": "204237e9-978f-4e2e-a0c9-58ad8235e130",
   "metadata": {},
   "outputs": [],
   "source": [
    "cd $root"
   ]
  },
  {
   "cell_type": "code",
   "execution_count": null,
   "id": "b3010e92-e0cf-4d90-8692-e88adf88aabd",
   "metadata": {},
   "outputs": [],
   "source": []
  }
 ],
 "metadata": {
  "kernelspec": {
   "display_name": "Bash",
   "language": "bash",
   "name": "bash"
  },
  "language_info": {
   "codemirror_mode": "shell",
   "file_extension": ".sh",
   "mimetype": "text/x-sh",
   "name": "bash"
  }
 },
 "nbformat": 4,
 "nbformat_minor": 5
}
