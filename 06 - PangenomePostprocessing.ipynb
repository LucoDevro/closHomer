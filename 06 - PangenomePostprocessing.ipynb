{
 "cells": [
  {
   "cell_type": "markdown",
   "id": "4cde66f8-9140-4c7c-a748-4aea26028cdb",
   "metadata": {},
   "source": [
    "This part of the pipeline produces the UMAP plots as well as the accumulation curves of all pangenomes."
   ]
  },
  {
   "cell_type": "markdown",
   "id": "a2ea7070-a1e9-484e-a839-88d44d6a161a",
   "metadata": {},
   "source": [
    "### Paths and parameters"
   ]
  },
  {
   "cell_type": "markdown",
   "id": "ab1b80c2-0670-45dd-b7bb-d6e95179b47f",
   "metadata": {},
   "source": [
    "#### Pipeline input folders"
   ]
  },
  {
   "cell_type": "code",
   "execution_count": null,
   "id": "01d8e3e3-59eb-4c9b-8283-fda6f5975c70",
   "metadata": {},
   "outputs": [],
   "source": [
    "pa.1.file = \"./05-pangenomes/group1/gene_presence_absence.Rtab\"\n",
    "pa.4.file = \"./05-pangenomes/group4/gene_presence_absence.Rtab\"\n",
    "pa.14a.file = \"./05-pangenomes/group14a/gene_presence_absence.Rtab\"\n",
    "pa.14b.file = \"./05-pangenomes/group14b/gene_presence_absence.Rtab\"\n",
    "pa.m.file = \"./05-pangenomes/merge/gene_presence_absence.Rtab\"\n",
    "\n",
    "metadata = \"./genomes_metadata\"\n",
    "\n",
    "plot_umap = \"./utils/plot_umap.R\""
   ]
  },
  {
   "cell_type": "markdown",
   "id": "0450cfcb-6f77-4b06-b88e-89f9292c75b7",
   "metadata": {},
   "source": [
    "#### Pipeline output folders"
   ]
  },
  {
   "cell_type": "code",
   "execution_count": null,
   "id": "07d56e8e-9d60-418e-aa10-e0100c031214",
   "metadata": {},
   "outputs": [],
   "source": [
    "task_root = \"./06-pangenome-postprocessing\"\n",
    "system(paste0('mkdir -p ', task_root), intern = TRUE)"
   ]
  },
  {
   "cell_type": "markdown",
   "id": "bd019ad5-6f7a-4273-959d-72269c632caf",
   "metadata": {},
   "source": [
    "#### Tool pointers and parameters"
   ]
  },
  {
   "cell_type": "markdown",
   "id": "2b552d4a-94f9-4593-9a0e-ec11989942fc",
   "metadata": {},
   "source": [
    "Importing the `plot_umap` function as it's not officially released yet."
   ]
  },
  {
   "cell_type": "code",
   "execution_count": null,
   "id": "c569b60c-9888-49de-bf42-e7a9447f0503",
   "metadata": {},
   "outputs": [],
   "source": [
    "source(plot_umap)\n",
    "environment(plot_umap) = asNamespace('panstripe')"
   ]
  },
  {
   "cell_type": "code",
   "execution_count": null,
   "id": "1735367a-203e-40d3-86a3-32783f72d7ec",
   "metadata": {},
   "outputs": [],
   "source": [
    "set.seed(127)"
   ]
  },
  {
   "cell_type": "code",
   "execution_count": null,
   "id": "a63de090-6256-4e74-8e48-12c007d98791",
   "metadata": {},
   "outputs": [],
   "source": [
    "library(panstripe)\n",
    "library(ape)\n",
    "library(ggplot2)\n",
    "library(umap)"
   ]
  },
  {
   "cell_type": "markdown",
   "id": "943edef9-58f0-4c0c-8054-2bc34515f9f5",
   "metadata": {},
   "source": [
    "### Load files and metadata"
   ]
  },
  {
   "cell_type": "markdown",
   "id": "4559d165-e8f5-443a-88db-ab377e445acf",
   "metadata": {},
   "source": [
    "#### Cluster annotation"
   ]
  },
  {
   "cell_type": "code",
   "execution_count": null,
   "id": "f9337985-ebee-4b83-95d6-1a6e37dfca42",
   "metadata": {},
   "outputs": [],
   "source": [
    "clusters = read.table(metadata, sep=\"\\t\", header=TRUE)\n",
    "clusters = subset(clusters, select = c('Genome_accession', 'Taxonomic_cluster'))\n",
    "clusters"
   ]
  },
  {
   "cell_type": "markdown",
   "id": "0dc815b9-cb60-4e06-9202-e94774370a8d",
   "metadata": {},
   "source": [
    "#### Presence/absence files"
   ]
  },
  {
   "cell_type": "code",
   "execution_count": null,
   "id": "e5d795b8-5c6d-4748-b550-232bbb5186a1",
   "metadata": {},
   "outputs": [],
   "source": [
    "pa.1 = read_rtab(pa.1.file)\n",
    "pa.4 = read_rtab(pa.4.file)\n",
    "pa.14a = read_rtab(pa.14a.file)\n",
    "pa.14b = read_rtab(pa.14b.file)\n",
    "pa.m = read_rtab(pa.m.file)"
   ]
  },
  {
   "cell_type": "code",
   "execution_count": null,
   "id": "81ad44be-b0c8-439f-b587-a36cfbd737de",
   "metadata": {},
   "outputs": [],
   "source": [
    "nrow(pa.1)\n",
    "nrow(pa.4)\n",
    "nrow(pa.14a)\n",
    "nrow(pa.14b)\n",
    "nrow(pa.m)"
   ]
  },
  {
   "cell_type": "markdown",
   "id": "70dfa638-6ea5-401a-816c-17d0007d5aea",
   "metadata": {},
   "source": [
    "#### Cluster annotation for rRNA clusters"
   ]
  },
  {
   "cell_type": "code",
   "execution_count": null,
   "id": "21c86e60-8ef4-4063-acc6-425111c0aaca",
   "metadata": {},
   "outputs": [],
   "source": [
    "clusters_fac = as.factor(clusters[match(rownames(pa.m), clusters$Genome_accession),]$Taxonomic_cluster)\n",
    "clusters_fac"
   ]
  },
  {
   "cell_type": "markdown",
   "id": "21bcea52-f2b0-4b3e-8c57-70cb0f5cd39c",
   "metadata": {},
   "source": [
    "### Plotting pangenome curves"
   ]
  },
  {
   "cell_type": "markdown",
   "id": "606f6644-98a7-45ab-85a8-c28cdfeddec3",
   "metadata": {},
   "source": [
    "#### Accumulation curve"
   ]
  },
  {
   "cell_type": "code",
   "execution_count": null,
   "id": "8e1c2fd4-29b6-4443-9943-5f8987dfdeb2",
   "metadata": {},
   "outputs": [],
   "source": [
    "svg(paste(task_root, \"panstripe_accumulation_curve.svg\", sep = \"/\"))\n",
    "plot_acc(list(cluster_I = pa.1, cluster_IV = pa.4, cluster_XIVa = pa.14a, cluster_XIVb = pa.14b, merged = pa.m))\n",
    "dev.off()"
   ]
  },
  {
   "cell_type": "markdown",
   "id": "6b314d29-e51f-4070-91b4-dd215861b118",
   "metadata": {},
   "source": [
    "#### UMAP plots"
   ]
  },
  {
   "cell_type": "code",
   "execution_count": null,
   "id": "72d980eb-8c15-4233-92a3-f2cdc2868213",
   "metadata": {},
   "outputs": [],
   "source": [
    "svg(paste(task_root, 'panstripe_umap_clust1.svg', sep = \"/\"))\n",
    "plot_umap(pa.1)\n",
    "dev.off()"
   ]
  },
  {
   "cell_type": "code",
   "execution_count": null,
   "id": "5f9e0aba-40e6-4f0d-9a2f-5af974d93acf",
   "metadata": {},
   "outputs": [],
   "source": [
    "svg(paste(task_root, 'panstripe_umap_clust4.svg', sep = \"/\"))\n",
    "plot_umap(pa.4)\n",
    "dev.off()"
   ]
  },
  {
   "cell_type": "code",
   "execution_count": null,
   "id": "a8fd1828-b063-4131-bdbd-5b0e0dac00bb",
   "metadata": {},
   "outputs": [],
   "source": [
    "svg(paste(task_root, 'panstripe_umap_clust14a.svg', sep = \"/\"))\n",
    "plot_umap(pa.14a)\n",
    "dev.off()"
   ]
  },
  {
   "cell_type": "code",
   "execution_count": null,
   "id": "1a28c206-fa93-4c73-ac2b-0a130981a794",
   "metadata": {},
   "outputs": [],
   "source": [
    "svg(paste(task_root, 'panstripe_umap_clust14b.svg', sep = \"/\"))\n",
    "plot_umap(pa.14b)\n",
    "dev.off()"
   ]
  },
  {
   "cell_type": "code",
   "execution_count": null,
   "id": "6ea56f9e-3d32-481f-833e-ffd63658cfca",
   "metadata": {},
   "outputs": [],
   "source": [
    "svg(paste(task_root, 'panstripe_umap_merged.svg', sep = \"/\"))\n",
    "plot_umap(pa.m, category = clusters_fac)\n",
    "dev.off()"
   ]
  },
  {
   "cell_type": "code",
   "execution_count": 4,
   "id": "db9d966e-21e6-4653-959d-fa6932d93b8f",
   "metadata": {},
   "outputs": [
    {
     "data": {
      "text/plain": [
       "R version 4.1.2 (2021-11-01)\n",
       "Platform: x86_64-pc-linux-gnu (64-bit)\n",
       "Running under: Linux Mint 21.2\n",
       "\n",
       "Matrix products: default\n",
       "BLAS:   /usr/lib/x86_64-linux-gnu/openblas-pthread/libblas.so.3\n",
       "LAPACK: /usr/lib/x86_64-linux-gnu/openblas-pthread/libopenblasp-r0.3.20.so\n",
       "\n",
       "locale:\n",
       " [1] LC_CTYPE=en_US.UTF-8       LC_NUMERIC=C              \n",
       " [3] LC_TIME=en_US.UTF-8        LC_COLLATE=en_US.UTF-8    \n",
       " [5] LC_MONETARY=nl_BE.UTF-8    LC_MESSAGES=en_US.UTF-8   \n",
       " [7] LC_PAPER=nl_BE.UTF-8       LC_NAME=C                 \n",
       " [9] LC_ADDRESS=C               LC_TELEPHONE=C            \n",
       "[11] LC_MEASUREMENT=nl_BE.UTF-8 LC_IDENTIFICATION=C       \n",
       "\n",
       "attached base packages:\n",
       "[1] stats     graphics  grDevices utils     datasets  methods   base     \n",
       "\n",
       "other attached packages:\n",
       "[1] umap_0.2.10.0   ggplot2_3.5.1   ape_5.8         panstripe_0.2.0\n",
       "\n",
       "loaded via a namespace (and not attached):\n",
       " [1] Rcpp_1.0.12       RSpectra_0.16-1   pillar_1.9.0      compiler_4.1.2   \n",
       " [5] base64enc_0.1-3   tools_4.1.2       digest_0.6.35     uuid_1.2-0       \n",
       " [9] jsonlite_1.8.8    evaluate_0.23     lifecycle_1.0.4   tibble_3.2.1     \n",
       "[13] nlme_3.1-155      gtable_0.3.4      lattice_0.22-5    png_0.1-8        \n",
       "[17] pkgconfig_2.0.3   rlang_1.1.3       Matrix_1.6-5      IRdisplay_1.1    \n",
       "[21] cli_3.6.2         IRkernel_1.3.2    parallel_4.1.2    fastmap_1.1.1    \n",
       "[25] withr_3.0.0       dplyr_1.1.4       repr_1.1.7        askpass_1.2.0    \n",
       "[29] generics_0.1.3    vctrs_0.6.5       tidyselect_1.2.0  grid_4.1.2       \n",
       "[33] reticulate_1.36.1 glue_1.7.0        R6_2.5.1          fansi_1.0.6      \n",
       "[37] pbdZMQ_0.3-11     magrittr_2.0.3    scales_1.3.0      htmltools_0.5.8.1\n",
       "[41] colorspace_2.1-0  utf8_1.2.4        openssl_2.0.6     munsell_0.5.0    \n",
       "[45] crayon_1.5.2     "
      ]
     },
     "metadata": {},
     "output_type": "display_data"
    }
   ],
   "source": [
    "sessionInfo()"
   ]
  },
  {
   "cell_type": "code",
   "execution_count": null,
   "id": "f53c2f93-0018-4ac8-aed1-8cd60de06858",
   "metadata": {},
   "outputs": [],
   "source": []
  }
 ],
 "metadata": {
  "kernelspec": {
   "display_name": "R",
   "language": "R",
   "name": "ir"
  },
  "language_info": {
   "codemirror_mode": "r",
   "file_extension": ".r",
   "mimetype": "text/x-r-source",
   "name": "R",
   "pygments_lexer": "r",
   "version": "4.1.2"
  }
 },
 "nbformat": 4,
 "nbformat_minor": 5
}
