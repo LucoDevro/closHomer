{
 "cells": [
  {
   "cell_type": "markdown",
   "id": "95082ada-9c4c-4028-8196-939f0ff3b035",
   "metadata": {},
   "source": [
    "This part of the pipeline annotates all pangenome protein families using the COG system via eggNOG-mapper. This specific notebook runs `eggNOG-mapper`."
   ]
  },
  {
   "cell_type": "markdown",
   "id": "9c4a86c7-e116-4e35-bf73-80c4eb1793c6",
   "metadata": {},
   "source": [
    "### Checking dependencies"
   ]
  },
  {
   "cell_type": "code",
   "execution_count": null,
   "id": "7035e755-d57b-47e3-a8fc-8863b9897a39",
   "metadata": {},
   "outputs": [],
   "source": [
    "conda activate eggnog_mapper\n",
    "emapper.py --version\n",
    "conda deactivate"
   ]
  },
  {
   "cell_type": "markdown",
   "id": "eccc2bcd-acee-4c07-8d6b-4bcf086c646b",
   "metadata": {},
   "source": [
    "### Paths and parameters"
   ]
  },
  {
   "cell_type": "markdown",
   "id": "48458cab-2dc2-4fce-aa7b-702f4a787372",
   "metadata": {},
   "source": [
    "#### Pipeline input folders"
   ]
  },
  {
   "cell_type": "code",
   "execution_count": null,
   "id": "f0978f5a-4332-4b1a-9852-cf07a372df03",
   "metadata": {},
   "outputs": [],
   "source": [
    "pangenomes=\"./05-pangenomes\""
   ]
  },
  {
   "cell_type": "markdown",
   "id": "10d6a74b-8f7a-49ee-89d3-af08aba424b3",
   "metadata": {},
   "source": [
    "#### Pipeline output folders"
   ]
  },
  {
   "cell_type": "code",
   "execution_count": null,
   "id": "08042c8d-e0ab-407b-9fce-528e0bf8a7fc",
   "metadata": {},
   "outputs": [],
   "source": [
    "task_root=\"./07-PangenomeAnnotation\"\n",
    "COG=\"$task_root/COG\"\n",
    "COG_mapper=\"$COG/mapper\"\n",
    "\n",
    "mkdir -p $task_root $COG $COG_mapper"
   ]
  },
  {
   "cell_type": "markdown",
   "id": "77ed6e45-b7d1-414d-b9d2-10f7c71db95f",
   "metadata": {},
   "source": [
    "#### Tool pointers and parameters"
   ]
  },
  {
   "cell_type": "code",
   "execution_count": null,
   "id": "3dee5633-da18-4a19-bd91-20e7d2faa679",
   "metadata": {},
   "outputs": [],
   "source": [
    "n_cpus=22\n",
    "eggnog_db=\"/mnt/STORAGE/databases/eggnog_mapper\""
   ]
  },
  {
   "cell_type": "markdown",
   "id": "a969ea4c-c3de-4e77-87eb-ac546d24ada8",
   "metadata": {},
   "source": [
    "### Gathering inputs"
   ]
  },
  {
   "cell_type": "markdown",
   "id": "2727fdd7-38c8-44de-ac2d-ec922de52ed6",
   "metadata": {},
   "source": [
    "Copy the pangenome protein families to the mapper's input folder"
   ]
  },
  {
   "cell_type": "code",
   "execution_count": null,
   "id": "343acc08-4cbe-465f-bec5-64224c6e350d",
   "metadata": {},
   "outputs": [],
   "source": [
    "mkdir -p $COG/input\n",
    "dir -1 $pangenomes | xargs -I % cp $pangenomes/%/all_protein_families.faa $COG/input/all_protein_families_%.faa"
   ]
  },
  {
   "cell_type": "markdown",
   "id": "50d15c63-29b5-498c-933d-f0b17a6ef0d6",
   "metadata": {},
   "source": [
    "### Running the mapper"
   ]
  },
  {
   "cell_type": "code",
   "execution_count": null,
   "id": "5e00c1cb-9702-4543-9c6f-40bb8050dd7c",
   "metadata": {},
   "outputs": [],
   "source": [
    "root=$(pwd)"
   ]
  },
  {
   "cell_type": "code",
   "execution_count": null,
   "id": "8cceea61-61c8-4446-ab0e-af53023f9e96",
   "metadata": {},
   "outputs": [],
   "source": [
    "cd $COG/input"
   ]
  },
  {
   "cell_type": "code",
   "execution_count": null,
   "id": "1a84498c-dc1c-4b46-a8d3-9aac0d1d43cb",
   "metadata": {},
   "outputs": [],
   "source": [
    "conda activate eggnog_mapper"
   ]
  },
  {
   "cell_type": "markdown",
   "id": "65cb327e-cb45-4219-b5a2-6739329f7020",
   "metadata": {},
   "source": [
    "settings mirroring the webserver's defaults"
   ]
  },
  {
   "cell_type": "code",
   "execution_count": null,
   "id": "3ac18391-62ae-47b8-8ff2-effbc6e58c5f",
   "metadata": {
    "scrolled": true
   },
   "outputs": [],
   "source": [
    "dir -1 | xargs basename -s .faa | xargs -I % emapper.py --cpu $n_cpus --mp_start_method forkserver \\\n",
    "--data_dir $eggnog_db -o % --output_dir ../mapper --override -m diamond --dmnd_ignore_warnings -i %.faa \\\n",
    "--evalue 0.001 --score 60 --pident 40 --query_cover 20 --subject_cover 20 --itype proteins"
   ]
  },
  {
   "cell_type": "code",
   "execution_count": null,
   "id": "46689e8a-d0ee-4bf6-8cb1-2e4f1789f273",
   "metadata": {},
   "outputs": [],
   "source": [
    "conda deactivate"
   ]
  },
  {
   "cell_type": "code",
   "execution_count": null,
   "id": "b673ce21-1300-412e-a9c1-dd19f0c0ab0d",
   "metadata": {},
   "outputs": [],
   "source": [
    "cd $root"
   ]
  },
  {
   "cell_type": "code",
   "execution_count": null,
   "id": "eaab4951-ac15-46bd-ace5-d001f5b9df42",
   "metadata": {},
   "outputs": [],
   "source": []
  }
 ],
 "metadata": {
  "kernelspec": {
   "display_name": "Bash",
   "language": "bash",
   "name": "bash"
  },
  "language_info": {
   "codemirror_mode": "shell",
   "file_extension": ".sh",
   "mimetype": "text/x-sh",
   "name": "bash"
  }
 },
 "nbformat": 4,
 "nbformat_minor": 5
}
