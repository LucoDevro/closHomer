{
 "cells": [
  {
   "cell_type": "markdown",
   "id": "323e7b7b-a247-4bf5-bdc4-057879d944c0",
   "metadata": {},
   "source": [
    "This part of the pipeline plots the COG count and frequency tables using ggplot."
   ]
  },
  {
   "cell_type": "markdown",
   "id": "11f35f8e-b7bf-4a82-ac7d-b5bc6157eab7",
   "metadata": {},
   "source": [
    "### Paths and parameters"
   ]
  },
  {
   "cell_type": "markdown",
   "id": "6b4757ba-3fbe-4862-a646-deba8de6b4e3",
   "metadata": {},
   "source": [
    "#### Pipeline input folders"
   ]
  },
  {
   "cell_type": "code",
   "execution_count": null,
   "id": "d1481597-c2d6-4c06-a8e0-63a09e2c65a4",
   "metadata": {},
   "outputs": [],
   "source": [
    "partition_sizes = \"./07-PangenomeAnnotation/pangenome_partition_sizes.tsv\"\n",
    "cog_cats = \"./utils/COG_cats.tsv\"\n",
    "cog_fractions = \"./07-PangenomeAnnotation/COG/processed_output/COG_fractions.tsv\""
   ]
  },
  {
   "cell_type": "markdown",
   "id": "18aeedfb-f3de-40ab-a143-03a94b615a9c",
   "metadata": {},
   "source": [
    "#### Pipeline output folders"
   ]
  },
  {
   "cell_type": "code",
   "execution_count": null,
   "id": "c94c240a-b653-4415-9c75-839ca5274054",
   "metadata": {},
   "outputs": [],
   "source": [
    "task_root = \"./07-PangenomeAnnotation/COG\"\n",
    "plots = paste(task_root, \"plots\", sep = \"/\")\n",
    "\n",
    "system(paste('mkdir -p', plots), intern = TRUE)"
   ]
  },
  {
   "cell_type": "markdown",
   "id": "71d93d69-428e-44fb-8235-9a5f26e7d9ec",
   "metadata": {},
   "source": [
    "#### Tool pointers and parameters"
   ]
  },
  {
   "cell_type": "code",
   "execution_count": null,
   "id": "87def85f-22b6-4e6e-9ad7-e5356a6e9bca",
   "metadata": {},
   "outputs": [],
   "source": []
  },
  {
   "cell_type": "markdown",
   "id": "dac9c5bb-2adb-462b-84bc-97b1626dfd9b",
   "metadata": {},
   "source": [
    "#### Libraries and other setup"
   ]
  },
  {
   "cell_type": "code",
   "execution_count": null,
   "id": "4420b9e9-8e84-4604-a258-c67f93c59920",
   "metadata": {},
   "outputs": [],
   "source": [
    "library(ggplot2)\n",
    "library(RColorBrewer)\n",
    "library(pals)\n",
    "library(IRdisplay)"
   ]
  },
  {
   "cell_type": "code",
   "execution_count": null,
   "id": "54255fd2-218a-42a0-b530-6e3543e3624e",
   "metadata": {},
   "outputs": [],
   "source": [
    "# Base color palette: 'Stepped' (n=24) from the pals package in reversed order\n",
    "getPalette = colorRampPalette(rev(stepped()))"
   ]
  },
  {
   "cell_type": "markdown",
   "id": "7a75f4d8-2960-4375-af26-dc1252ab2f61",
   "metadata": {},
   "source": [
    "### Reading metadata"
   ]
  },
  {
   "cell_type": "code",
   "execution_count": null,
   "id": "b9ee7ef0-a328-4995-a6bf-6c6bd3391f92",
   "metadata": {},
   "outputs": [],
   "source": [
    "## Pangenome partition sizes\n",
    "pangenome.sizes = read.table(partition_sizes, sep = \"\\t\", header = TRUE, row.names = 1)\n",
    "pangenome.sizes$Partition = factor(pangenome.sizes$Partition, levels = c('core','accessory','unique'))\n",
    "pangenome.sizes$Cluster = factor(pangenome.sizes$Cluster, levels = c('Merged', 'I', 'IV', 'XIVa','XIVb'))\n",
    "levels(pangenome.sizes$Cluster)[levels(pangenome.sizes$Cluster)=='Merged'] = 'Full'\n",
    "pangenome.sizes"
   ]
  },
  {
   "cell_type": "markdown",
   "id": "7c388c30-d976-4514-b40e-5e02bdbe0f42",
   "metadata": {},
   "source": [
    "### COGs plotting"
   ]
  },
  {
   "cell_type": "code",
   "execution_count": null,
   "id": "388e6360-65d4-4e43-89d8-668438b423fb",
   "metadata": {},
   "outputs": [],
   "source": [
    "## COG categories\n",
    "cog.cats = read.table(cog_cats, sep = \"\\t\", row.names = 1)"
   ]
  },
  {
   "cell_type": "code",
   "execution_count": null,
   "id": "6d91b6b3-aa9d-4231-bd8d-e0da2bd753f9",
   "metadata": {},
   "outputs": [],
   "source": [
    "## Data\n",
    "cog = read.table(cog_fractions, sep = \"\\t\", header = TRUE)\n",
    "# Reorder factor levelling for plotting later on\n",
    "cog$Partition = factor(cog$Partition, levels = c('core','accessory','unique'))\n",
    "cog$Cluster = factor(cog$Cluster, levels = c('Merged', 'I', 'IV', 'XIVa', 'XIVb'))\n",
    "levels(cog$Cluster)[levels(cog$Cluster)=='Merged'] = 'Full'\n",
    "cog"
   ]
  },
  {
   "cell_type": "code",
   "execution_count": null,
   "id": "9f568c5c-dad6-4ef5-97b6-ef376eb6d2c9",
   "metadata": {},
   "outputs": [],
   "source": [
    "n.colors = length(unique(cog$Annotation))\n",
    "\n",
    "present.cogs = intersect(unique(cog$Annotation), rownames(cog.cats))\n",
    "\n",
    "svg(paste(plots, 'COG_Annotation_Fractions.svg', sep = \"/\"), height = 5, width = 10)\n",
    "ggplot(cog, aes(x = Cluster, y = Fraction, fill = Annotation)) +\n",
    "  geom_bar(stat = \"identity\", position=\"stack\") +\n",
    "  facet_grid(~ Partition) +\n",
    "  scale_fill_manual(values = getPalette(n.colors), \n",
    "                    guide = guide_legend(ncol = 1, keyheight = 0.8, keywidth = 0.4),\n",
    "                    labels = factor(paste0(\"(\", present.cogs, \") \", cog.cats[present.cogs,]))) +\n",
    "  scale_y_continuous(expand = c(0,0)) +\n",
    "  scale_x_discrete(expand = c(0,0)) +\n",
    "  labs(x = \"rRNA cluster\", y = \"% COGs\", fill = \"COG category\") +\n",
    "  theme(panel.spacing = unit(1, \"lines\"))\n",
    "dev.off()"
   ]
  },
  {
   "cell_type": "code",
   "execution_count": null,
   "id": "bae0b859-0c65-4d9e-aa60-f4b8ddbab672",
   "metadata": {},
   "outputs": [],
   "source": [
    "display_svg(file=paste(plots, 'COG_Annotation_Fractions.svg', sep = \"/\"))"
   ]
  },
  {
   "cell_type": "code",
   "execution_count": null,
   "id": "8f33cd5f-5181-48b5-a9d6-099995c4c2f6",
   "metadata": {},
   "outputs": [],
   "source": []
  },
  {
   "cell_type": "code",
   "execution_count": 2,
   "id": "fcb6ca87-cbad-40f2-9fb1-5f75c545a246",
   "metadata": {},
   "outputs": [
    {
     "data": {
      "text/plain": [
       "R version 4.1.2 (2021-11-01)\n",
       "Platform: x86_64-pc-linux-gnu (64-bit)\n",
       "Running under: Linux Mint 21.2\n",
       "\n",
       "Matrix products: default\n",
       "BLAS:   /usr/lib/x86_64-linux-gnu/openblas-pthread/libblas.so.3\n",
       "LAPACK: /usr/lib/x86_64-linux-gnu/openblas-pthread/libopenblasp-r0.3.20.so\n",
       "\n",
       "locale:\n",
       " [1] LC_CTYPE=en_US.UTF-8       LC_NUMERIC=C              \n",
       " [3] LC_TIME=en_US.UTF-8        LC_COLLATE=en_US.UTF-8    \n",
       " [5] LC_MONETARY=nl_BE.UTF-8    LC_MESSAGES=en_US.UTF-8   \n",
       " [7] LC_PAPER=nl_BE.UTF-8       LC_NAME=C                 \n",
       " [9] LC_ADDRESS=C               LC_TELEPHONE=C            \n",
       "[11] LC_MEASUREMENT=nl_BE.UTF-8 LC_IDENTIFICATION=C       \n",
       "\n",
       "attached base packages:\n",
       "[1] stats     graphics  grDevices utils     datasets  methods   base     \n",
       "\n",
       "other attached packages:\n",
       "[1] IRdisplay_1.1      pals_1.8           RColorBrewer_1.1-3 ggplot2_3.5.1     \n",
       "\n",
       "loaded via a namespace (and not attached):\n",
       " [1] pillar_1.9.0      compiler_4.1.2    base64enc_0.1-3   tools_4.1.2      \n",
       " [5] digest_0.6.35     uuid_1.2-0        jsonlite_1.8.8    evaluate_0.23    \n",
       " [9] lifecycle_1.0.4   tibble_3.2.1      gtable_0.3.4      pkgconfig_2.0.3  \n",
       "[13] rlang_1.1.3       cli_3.6.2         mapproj_1.2.11    IRkernel_1.3.2   \n",
       "[17] fastmap_1.1.1     repr_1.1.7        withr_3.0.0       dplyr_1.1.4      \n",
       "[21] maps_3.4.2        generics_0.1.3    vctrs_0.6.5       grid_4.1.2       \n",
       "[25] tidyselect_1.2.0  glue_1.7.0        R6_2.5.1          fansi_1.0.6      \n",
       "[29] pbdZMQ_0.3-11     magrittr_2.0.3    scales_1.3.0      htmltools_0.5.8.1\n",
       "[33] dichromat_2.0-0.1 colorspace_2.1-0  utf8_1.2.4        munsell_0.5.0    \n",
       "[37] crayon_1.5.2     "
      ]
     },
     "metadata": {},
     "output_type": "display_data"
    }
   ],
   "source": [
    "sessionInfo()"
   ]
  },
  {
   "cell_type": "code",
   "execution_count": null,
   "id": "8f065632-e18f-48c1-b67b-45817f45314e",
   "metadata": {},
   "outputs": [],
   "source": []
  }
 ],
 "metadata": {
  "kernelspec": {
   "display_name": "R",
   "language": "R",
   "name": "ir"
  },
  "language_info": {
   "codemirror_mode": "r",
   "file_extension": ".r",
   "mimetype": "text/x-r-source",
   "name": "R",
   "pygments_lexer": "r",
   "version": "4.1.2"
  }
 },
 "nbformat": 4,
 "nbformat_minor": 5
}
