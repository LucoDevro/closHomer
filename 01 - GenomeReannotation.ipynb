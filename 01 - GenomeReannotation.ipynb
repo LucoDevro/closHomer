{
 "cells": [
  {
   "cell_type": "markdown",
   "id": "3bcecf7c-3b24-4bf3-872a-33fa964eb8f9",
   "metadata": {},
   "source": [
    "This part of the pipeline reannotates all genomes that did not fail the checkM QC using Bakta at default settings."
   ]
  },
  {
   "cell_type": "markdown",
   "id": "4c3daefc-d8f8-4b0a-aee3-fcfa663e4d47",
   "metadata": {},
   "source": [
    "### Checking dependencies"
   ]
  },
  {
   "cell_type": "code",
   "execution_count": null,
   "id": "d2db15bf-a25e-4668-98eb-831c02f0cbf8",
   "metadata": {},
   "outputs": [],
   "source": [
    "conda activate bakta\n",
    "bakta --version\n",
    "conda deactivate"
   ]
  },
  {
   "cell_type": "markdown",
   "id": "6668a871-3ed7-4908-bc6f-7b25d8d91a68",
   "metadata": {},
   "source": [
    "### Paths and parameters"
   ]
  },
  {
   "cell_type": "markdown",
   "id": "c3371694-1c1f-4344-8046-671d53fba619",
   "metadata": {},
   "source": [
    "#### Pipeline input folders"
   ]
  },
  {
   "cell_type": "code",
   "execution_count": null,
   "id": "abc015d8-4427-4311-9458-ae9cb6547b76",
   "metadata": {},
   "outputs": [],
   "source": [
    "refseq_genomes=\"./00-refseq/data\"\n",
    "failed_checkm=\"./00-refseq/failed_checkm\""
   ]
  },
  {
   "cell_type": "markdown",
   "id": "75fee4e6-7ec6-431e-8fe6-c8553643d55e",
   "metadata": {},
   "source": [
    "#### Pipeline output folders"
   ]
  },
  {
   "cell_type": "code",
   "execution_count": null,
   "id": "294f11ab-fbd7-4f3e-893c-cbdc7792481e",
   "metadata": {},
   "outputs": [],
   "source": [
    "task_root=\"./01-bakta\"\n",
    "bakta_wdir=\"$task_root/workdir\"\n",
    "bakta_genomes=\"$task_root/genomes\"\n",
    "bakta_gffs=\"$task_root/gffs\"\n",
    "bakta_proteomes=\"$task_root/proteomes\"\n",
    "bakta_proteomes_gbk=\"$task_root/proteomes_gbk\"\n",
    "\n",
    "mkdir -p $task_root $bakta_wdir $bakta_genomes $bakta_gffs $bakta_proteomes $bakta_proteomes_gbk"
   ]
  },
  {
   "cell_type": "markdown",
   "id": "3e971458-ddd3-4dbc-b94d-0ec10eca82f4",
   "metadata": {},
   "source": [
    "#### Tool pointers and parameters"
   ]
  },
  {
   "cell_type": "code",
   "execution_count": null,
   "id": "08a2e603-60dc-4cf2-8d3f-9233809a2a82",
   "metadata": {},
   "outputs": [],
   "source": [
    "bakta_db=\"$HOME/bin/bakta\"\n",
    "\n",
    "n_pipes=3\n",
    "n_cores=22\n",
    "n_cores_per_pipe=$(( n_cores / n_pipes ))"
   ]
  },
  {
   "cell_type": "markdown",
   "id": "8fde7ce8-b577-4687-9d69-633855d40888",
   "metadata": {},
   "source": [
    "### Genome reannotation with Bakta"
   ]
  },
  {
   "cell_type": "code",
   "execution_count": null,
   "id": "49008de8-5069-4556-88c9-2789bc3ae2b8",
   "metadata": {},
   "outputs": [],
   "source": [
    "conda activate bakta"
   ]
  },
  {
   "cell_type": "markdown",
   "id": "dc22a744-f032-4ec3-9fbf-3dd6b7519479",
   "metadata": {},
   "source": [
    "Only reannotate the ones that did not fail the checkM QC."
   ]
  },
  {
   "cell_type": "code",
   "execution_count": null,
   "id": "4c33ce60-6a0d-4c0b-a35a-24029b92c10e",
   "metadata": {},
   "outputs": [],
   "source": [
    "comm -23 <(dir -1 $refseq_genomes | xargs basename -s .fna | sort) <(cat $failed_checkm | sort) | \\\n",
    "parallel --eta -j $n_pipes -I % \\\n",
    "bakta -t $n_cores_per_pipe -o $bakta_wdir/% -d $bakta_db --prefix % --locus-tag % --translation-table 11 \\\n",
    "$refseq_genomes/%.fna"
   ]
  },
  {
   "cell_type": "code",
   "execution_count": null,
   "id": "9e7dadaf-029a-4c1a-9f50-a4ff08f0854e",
   "metadata": {},
   "outputs": [],
   "source": [
    "conda deactivate"
   ]
  },
  {
   "cell_type": "markdown",
   "id": "27df6376-d2be-43c5-b650-0109cd04d4d0",
   "metadata": {},
   "source": [
    "Removing all non-ASCII characters to avoid errors downstream the pipeline"
   ]
  },
  {
   "cell_type": "code",
   "execution_count": null,
   "id": "a164143e-8d9d-4d57-866c-10a4d68e68df",
   "metadata": {},
   "outputs": [],
   "source": [
    "dir -1 */* | grep -v .png | xargs -I % bash -c 'strings -w -s \"\" -1 % > %+clean'\n",
    "dir -1 */* | grep -v .png | grep clean | cut -d '+' -f 1 | xargs -I % mv %+clean %"
   ]
  },
  {
   "cell_type": "markdown",
   "id": "06639bc3-0b40-46b9-86e1-7b660600d740",
   "metadata": {},
   "source": [
    "The command below should then return empty."
   ]
  },
  {
   "cell_type": "code",
   "execution_count": null,
   "id": "d65925c3-76f9-4c28-90df-9345a47c9cf3",
   "metadata": {},
   "outputs": [],
   "source": [
    "LC_ALL=C grep -n -P [$'\\x80'-$'\\xFF'] */*"
   ]
  },
  {
   "cell_type": "markdown",
   "id": "5519b85c-1c79-4697-a2e4-0cddbcc5db12",
   "metadata": {},
   "source": [
    "Move the nucleotide and amino acid fastas, the GFF annotation table and the annotated Genbank file to the results folders."
   ]
  },
  {
   "cell_type": "code",
   "execution_count": null,
   "id": "e0ed2d64-fadd-4322-acfb-4e7d7bb3b135",
   "metadata": {},
   "outputs": [],
   "source": [
    "dir -1 $bakta_wdir | xargs -I % cp -u $bakta_wdir/%/%.faa $bakta_proteomes/%.faa\n",
    "dir -1 $bakta_wdir | xargs -I % cp -u $bakta_wdir/%/%.gbff $bakta_proteomes_gbk/%.gbff\n",
    "dir -1 $bakta_wdir | xargs -I % cp -u $bakta_wdir/%/%.gff3 $bakta_gffs/%.gff\n",
    "dir -1 $bakta_wdir | xargs -I % cp -u $bakta_wdir/%/%.fna $bakta_genomes/%.fna"
   ]
  },
  {
   "cell_type": "code",
   "execution_count": null,
   "id": "b1173e40-6df2-432d-9a79-63725d3cd95a",
   "metadata": {},
   "outputs": [],
   "source": [
    "dir -1 $refseq_genomes | wc -l\n",
    "wc -l $failed_checkm\n",
    "dir -1 $bakta_wdir | wc -l"
   ]
  },
  {
   "cell_type": "code",
   "execution_count": null,
   "id": "e0b37ca0-6875-4456-ab5b-2d64198abdfd",
   "metadata": {},
   "outputs": [],
   "source": []
  }
 ],
 "metadata": {
  "kernelspec": {
   "display_name": "Bash",
   "language": "bash",
   "name": "bash"
  },
  "language_info": {
   "codemirror_mode": "shell",
   "file_extension": ".sh",
   "mimetype": "text/x-sh",
   "name": "bash"
  }
 },
 "nbformat": 4,
 "nbformat_minor": 5
}
