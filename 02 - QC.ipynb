{
 "cells": [
  {
   "cell_type": "markdown",
   "id": "305d2918-6d93-4c7e-9ec0-185993601cd8",
   "metadata": {},
   "source": [
    "This part of the pipeline executes the Mash-based QC analysis wrapped within the Panaroo tool.\n",
    "\n",
    "**WARNING: very heavy memory load! I let my system (32 GB mem + 32 GB swap) handle only 4 threads at once.**"
   ]
  },
  {
   "cell_type": "markdown",
   "id": "7b4f3d15-b30f-4550-a5c5-401ff02c3136",
   "metadata": {},
   "source": [
    "### Checking dependencies"
   ]
  },
  {
   "cell_type": "code",
   "execution_count": null,
   "id": "b3ca1f73-2a03-47d8-8e31-7a1a0fcf2f9b",
   "metadata": {},
   "outputs": [],
   "source": [
    "conda activate panaroo\n",
    "panaroo-qc --version\n",
    "conda deactivate"
   ]
  },
  {
   "cell_type": "markdown",
   "id": "6ffdaaab-1e7d-49da-bf2c-efa4ca8b3136",
   "metadata": {},
   "source": [
    "### Paths and parameters"
   ]
  },
  {
   "cell_type": "markdown",
   "id": "fc11c0a8-1e4f-4bcc-b377-4c5b042faa80",
   "metadata": {},
   "source": [
    "#### Pipeline input folders"
   ]
  },
  {
   "cell_type": "code",
   "execution_count": null,
   "id": "8bdf1b80-9421-4dd2-97fd-086f7eb24e59",
   "metadata": {},
   "outputs": [],
   "source": [
    "bakta_folder=\"./01-bakta\"\n",
    "bakta_genomes=\"$bakta_folder/genomes\"\n",
    "bakta_gffs=\"$bakta_folder/gffs\"\n",
    "bakta_proteomes=\"$bakta_folder/proteomes\"\n",
    "bakta_proteomes_gbk=\"$bakta_folder/proteomes_gbk\"\n",
    "\n",
    "failed_checkm=\"./00-refseq/failed_checkm\"\n",
    "\n",
    "metadata='./genomes_metadata'"
   ]
  },
  {
   "cell_type": "markdown",
   "id": "4faf2b77-2781-4239-8b2c-58aeafaf4885",
   "metadata": {},
   "source": [
    "#### Pipeline output folders"
   ]
  },
  {
   "cell_type": "code",
   "execution_count": null,
   "id": "227bf771-298f-4bb7-b5d1-fff766adfdc4",
   "metadata": {},
   "outputs": [],
   "source": [
    "task_root=\"./02-QC\"\n",
    "indices=\"$task_root/indices\"\n",
    "\n",
    "data=\"$task_root/data\"\n",
    "QCed_gffs=\"$data/gffs\"\n",
    "QCed_genomes=\"$data/genomes\"\n",
    "QCed_proteomes=\"$data/proteomes\"\n",
    "QCed_proteomes_gbk=\"$data/proteomes_gbk\"\n",
    "\n",
    "mkdir -p $task_root $indices $data $QCed_gffs $QCed_genomes $QCed_proteomes $QCed_proteomes_gbk"
   ]
  },
  {
   "cell_type": "markdown",
   "id": "7c280481-5342-4750-bf34-da082eb85ab7",
   "metadata": {},
   "source": [
    "#### Tool pointers and parameters"
   ]
  },
  {
   "cell_type": "code",
   "execution_count": null,
   "id": "99ae8169-1d23-43cd-a5e2-9bc8d5f38490",
   "metadata": {},
   "outputs": [],
   "source": [
    "threads=4\n",
    "\n",
    "ref_db=\"./utils/refseq.genomes.k21s1000.msh\"\n",
    "\n",
    "mash_plotter=\"./utils/plot_mash_grouped.R\""
   ]
  },
  {
   "cell_type": "markdown",
   "id": "7bed9b93-2c61-4ecf-937e-d73382c101ab",
   "metadata": {},
   "source": [
    "### Mash QC"
   ]
  },
  {
   "cell_type": "code",
   "execution_count": null,
   "id": "2de9e10f-ef95-4ed8-81f1-7d45eb9dca73",
   "metadata": {},
   "outputs": [],
   "source": [
    "conda activate panaroo"
   ]
  },
  {
   "cell_type": "code",
   "execution_count": null,
   "id": "d886751b-897b-4dec-9491-0949fe361814",
   "metadata": {
    "scrolled": true
   },
   "outputs": [],
   "source": [
    "panaroo-qc -i $bakta_gffs/*.gff -o $task_root -t $threads --graph_type all --ref_db $ref_db"
   ]
  },
  {
   "cell_type": "code",
   "execution_count": null,
   "id": "caa35bae-d647-4f70-b662-1f6fb0734135",
   "metadata": {},
   "outputs": [],
   "source": [
    "conda deactivate"
   ]
  },
  {
   "cell_type": "code",
   "execution_count": null,
   "id": "26329446-9db7-46c1-8ce0-0c3c0225a5f5",
   "metadata": {},
   "outputs": [],
   "source": [
    "rm -f $task_root/tmp*"
   ]
  },
  {
   "cell_type": "markdown",
   "id": "2246ce29-8891-4149-a1b1-d19e6840c3da",
   "metadata": {},
   "source": [
    "### MDS contamination plot by rRNA cluster colour scale"
   ]
  },
  {
   "cell_type": "code",
   "execution_count": null,
   "id": "7b62f094-a3fb-4d7d-b4f4-540143191c86",
   "metadata": {},
   "outputs": [],
   "source": [
    "root=$(pwd)"
   ]
  },
  {
   "cell_type": "code",
   "execution_count": null,
   "id": "171f6a6f-5716-42bb-8a29-a4b5fa0a999f",
   "metadata": {},
   "outputs": [],
   "source": [
    "Rscript $mash_plotter $task_root/mds_coords.txt $metadata $task_root"
   ]
  },
  {
   "cell_type": "code",
   "execution_count": null,
   "id": "1deff141-baad-4e2e-a095-f63555de4ba3",
   "metadata": {},
   "outputs": [],
   "source": [
    "cd $task_root"
   ]
  },
  {
   "cell_type": "code",
   "execution_count": null,
   "id": "0b87c861-e551-4742-ad8c-6608d95264ce",
   "metadata": {},
   "outputs": [],
   "source": [
    "join -t $'\\t' -2 1 -1 2 \\\n",
    "<(tail -n +2 ../names_by_ids | sort -t $'\\t' -k 2) \\\n",
    "mash_contamination_hits.tab \\\n",
    "> mash_contamination_hits_with_name.tab\n",
    "\n",
    "head mash_contamination_hits_with_name.tab"
   ]
  },
  {
   "cell_type": "code",
   "execution_count": null,
   "id": "faf95fc0-1d20-4a56-b84b-a7409d99e84a",
   "metadata": {},
   "outputs": [],
   "source": [
    "cd $root"
   ]
  },
  {
   "cell_type": "markdown",
   "id": "e7c46ff6-8760-4862-adc6-351a2404dac8",
   "metadata": {},
   "source": [
    "**--> Manually inspect the Mash QC output <--**. Carefully go through `mash_contamination_hits_with_name.tab` to pinpoint any contaminated genomes (look for a high similarity with a RefSeq assembly that is certainly not your species). Also screen the boxplots and the MDS Mash distance plot for outliers. Mark these in your metadata spreadsheet as failed in the `Failed_Mash` column and re-export it to `genomes_metadata`."
   ]
  },
  {
   "cell_type": "markdown",
   "id": "21254a26-d055-4b2c-a030-335a62355bc6",
   "metadata": {},
   "source": [
    "### Filter genome dataset for QC-succeeded genomes"
   ]
  },
  {
   "cell_type": "markdown",
   "id": "ba85695b-2e52-4b41-a747-8336700a2aa3",
   "metadata": {},
   "source": [
    "**--> Have you marked all QC-failed genomes in the `genomes_metadata` file? <--**"
   ]
  },
  {
   "cell_type": "code",
   "execution_count": null,
   "id": "b59d18aa-6ab1-4430-97de-0f030d126022",
   "metadata": {},
   "outputs": [],
   "source": [
    "cat genomes_metadata | awk -F '\\t' '{if ($11 == \"X\") {print $2}}' > $task_root/failed_mash\n",
    "cat $failed_checkm $task_root/failed_mash > failed_qc"
   ]
  },
  {
   "cell_type": "markdown",
   "id": "934be4c8-1742-4399-95bc-3ea7868f808d",
   "metadata": {},
   "source": [
    "Copy the data of the passed genomes to a separate folder"
   ]
  },
  {
   "cell_type": "code",
   "execution_count": null,
   "id": "790297af-bff6-496f-8ba9-31dc54dcd7a0",
   "metadata": {},
   "outputs": [],
   "source": [
    "comm -23 <(dir -1 $bakta_genomes | xargs basename -s .fna | sort) <(cat failed_qc | sort) | \\\n",
    "xargs -I % bash -c \"\n",
    "cp -u $bakta_genomes/%.fna $QCed_genomes/%.fna\n",
    "cp -u $bakta_gffs/%.gff $QCed_gffs/%.gff\n",
    "cp -u $bakta_proteomes/%.faa $QCed_proteomes/%.faa\n",
    "cp -u $bakta_proteomes_gbk/%.gbff $QCed_proteomes_gbk/%.gbff\""
   ]
  },
  {
   "cell_type": "code",
   "execution_count": null,
   "id": "4f29c125-8e07-4663-bbe8-e91263de1779",
   "metadata": {},
   "outputs": [],
   "source": [
    "dir -1 $QCed_genomes | wc -l"
   ]
  },
  {
   "cell_type": "markdown",
   "id": "30269694-0af6-41f3-9769-39d436781b27",
   "metadata": {},
   "source": [
    "### Make rRNA cluster indices"
   ]
  },
  {
   "cell_type": "markdown",
   "id": "6c610d20-a834-427f-b68e-6a1bce646db5",
   "metadata": {},
   "source": [
    "The index files serve assign each QC-passed genome to an rRNA cluster, so that you can easily grab a set of genomes by rRNA cluster later on, without having to make a dedicated subdirectory structure.\n",
    "\n",
    "The extensionless files are mere lists of accession numbers, while the ones with `.list` extension link an accession number to the associated Bakta Genbank file."
   ]
  },
  {
   "cell_type": "code",
   "execution_count": null,
   "id": "f0c1bdd4-d91f-4ffc-900b-cb9afd01fb81",
   "metadata": {},
   "outputs": [],
   "source": [
    "function index () {\n",
    "    # list of accession numbers\n",
    "    cat genomes_metadata | awk -v group=$1 -F '\\t' '{if ($3==group && $12==\"FALSE\") print $2}' | sort \\\n",
    "    > $indices/group$1\n",
    "\n",
    "    # list of genome file locations\n",
    "    cat $indices/group$1 | xargs -I % \\\n",
    "    echo -e \"%\\t$QCed_proteomes_gbk/%.gbff\" \\\n",
    "    >> $indices/group$1.list\n",
    "}"
   ]
  },
  {
   "cell_type": "code",
   "execution_count": null,
   "id": "fe3e9307-ab99-4fca-867e-0ccf1dfd4fd8",
   "metadata": {},
   "outputs": [],
   "source": [
    "index 1\n",
    "index 4\n",
    "index 14a\n",
    "index 14b"
   ]
  },
  {
   "cell_type": "markdown",
   "id": "74596d06-78b1-46d4-a9dd-a4905c737e43",
   "metadata": {},
   "source": [
    "An index of the full set is just the union of all the separate indices."
   ]
  },
  {
   "cell_type": "code",
   "execution_count": null,
   "id": "00b51107-232e-4360-ae14-70917f7dacd2",
   "metadata": {},
   "outputs": [],
   "source": [
    "root=$(pwd)\n",
    "cd $indices\n",
    "dir -1 | grep -v '.list' | xargs cat > merge\n",
    "dir -1 | grep '.list' | xargs cat > merge.list\n",
    "cd $root"
   ]
  },
  {
   "cell_type": "code",
   "execution_count": null,
   "id": "d39a63f8-268b-4ad0-94c1-d39fab05200a",
   "metadata": {},
   "outputs": [],
   "source": [
    "wc -l $indices/*.list"
   ]
  },
  {
   "cell_type": "code",
   "execution_count": null,
   "id": "e579b67e-f31a-41f2-bf0b-6fc6bbc60cfc",
   "metadata": {},
   "outputs": [],
   "source": []
  }
 ],
 "metadata": {
  "kernelspec": {
   "display_name": "Bash",
   "language": "bash",
   "name": "bash"
  },
  "language_info": {
   "codemirror_mode": "shell",
   "file_extension": ".sh",
   "mimetype": "text/x-sh",
   "name": "bash"
  }
 },
 "nbformat": 4,
 "nbformat_minor": 5
}
