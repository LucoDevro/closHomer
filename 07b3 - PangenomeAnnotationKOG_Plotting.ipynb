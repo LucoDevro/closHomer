{
 "cells": [
  {
   "cell_type": "markdown",
   "id": "b75b0919-bd8d-4aea-8ce6-97dce0e18b0a",
   "metadata": {},
   "source": [
    "This part of the pipeline plots the KOG count and frequency tables using ggplot."
   ]
  },
  {
   "cell_type": "markdown",
   "id": "e265d980-628a-4a92-bb6c-a94bddea8891",
   "metadata": {},
   "source": [
    "### Paths and parameters"
   ]
  },
  {
   "cell_type": "markdown",
   "id": "d53d0e98-85ef-4aee-94d5-7ac2880206a2",
   "metadata": {},
   "source": [
    "#### Pipeline input folders"
   ]
  },
  {
   "cell_type": "code",
   "execution_count": null,
   "id": "f1e03e90-445e-4e59-bb29-9f7b731abc54",
   "metadata": {},
   "outputs": [],
   "source": [
    "partition_sizes = \"./07-PangenomeAnnotation/pangenome_partition_sizes.tsv\"\n",
    "processed_output.folder = \"./07-PangenomeAnnotation/KOG/processed_output\"\n",
    "kog_A_fractions = paste(processed_output.folder, \"KOG_A_fractions.tsv\", sep = \"/\")\n",
    "kog_B_A_MET_fractions = paste(processed_output.folder, \"KOG_B_A_MET_fractions.tsv\", sep = \"/\")\n",
    "kog_B_A_EIP_fractions = paste(processed_output.folder, \"KOG_B_A_EIP_fractions.tsv\", sep = \"/\")\n",
    "kog_B_A_GIP_fractions = paste(processed_output.folder, \"KOG_B_A_GIP_fractions.tsv\", sep = \"/\")\n",
    "kog_B_A_CPS_fractions = paste(processed_output.folder, \"KOG_B_A_CPS_fractions.tsv\", sep = \"/\")\n",
    "kog_B_A_NINC_fractions = paste(processed_output.folder, \"KOG_B_A_NINC_fractions.tsv\", sep = \"/\")"
   ]
  },
  {
   "cell_type": "markdown",
   "id": "a70e19ff-d838-4a5a-a8e4-07e8d2cbb3d2",
   "metadata": {},
   "source": [
    "#### Pipeline output folders"
   ]
  },
  {
   "cell_type": "code",
   "execution_count": null,
   "id": "8bd82e46-e050-4398-bac5-6f1a2e0ab483",
   "metadata": {},
   "outputs": [],
   "source": [
    "task_root = \"./07-PangenomeAnnotation/KOG\"\n",
    "plots = paste(task_root, \"plots\", sep = \"/\")\n",
    "\n",
    "system(paste('mkdir -p', plots), intern = TRUE)"
   ]
  },
  {
   "cell_type": "markdown",
   "id": "2b839c49-0b65-4aae-b677-3317de2ad894",
   "metadata": {},
   "source": [
    "#### Tool pointers and parameters"
   ]
  },
  {
   "cell_type": "code",
   "execution_count": null,
   "id": "cbbedf6d-a27c-4375-bb5d-bac5d16e8245",
   "metadata": {},
   "outputs": [],
   "source": []
  },
  {
   "cell_type": "markdown",
   "id": "29ae1edc-4c90-4051-8074-474f519a63e2",
   "metadata": {},
   "source": [
    "#### Libraries and other setup"
   ]
  },
  {
   "cell_type": "code",
   "execution_count": null,
   "id": "73a8df20-0de0-46ea-a674-f11016dcd4ae",
   "metadata": {},
   "outputs": [],
   "source": [
    "library(ggplot2)\n",
    "library(RColorBrewer)\n",
    "library(pals)\n",
    "library(IRdisplay)\n",
    "library(dplyr)"
   ]
  },
  {
   "cell_type": "code",
   "execution_count": null,
   "id": "aa395710-787c-4ecf-811b-ec39aa0cbca9",
   "metadata": {},
   "outputs": [],
   "source": [
    "# Base color palette: 'Stepped' (n=24) from the pals package in reversed order\n",
    "getPalette = colorRampPalette(rev(stepped()))"
   ]
  },
  {
   "cell_type": "markdown",
   "id": "a973c0c5-6f3c-4524-9558-7b19be39dd9a",
   "metadata": {},
   "source": [
    "### Reading metadata"
   ]
  },
  {
   "cell_type": "code",
   "execution_count": null,
   "id": "d6a44d84-f7d3-45bc-8686-19f859ef1525",
   "metadata": {},
   "outputs": [],
   "source": [
    "## Pangenome partition sizes\n",
    "pangenome.sizes = read.table(partition_sizes, sep = \"\\t\", header = TRUE, row.names = 1)\n",
    "pangenome.sizes$Partition = factor(pangenome.sizes$Partition, levels = c('core','accessory','unique'))\n",
    "pangenome.sizes$Cluster = factor(pangenome.sizes$Cluster, levels = c('Merged', 'I', 'IV', 'XIVa','XIVb'))\n",
    "levels(pangenome.sizes$Cluster)[levels(pangenome.sizes$Cluster)=='Merged'] = 'Full'\n",
    "pangenome.sizes"
   ]
  },
  {
   "cell_type": "markdown",
   "id": "614fee7a-4495-4c11-9c91-3bd0906b3b5a",
   "metadata": {},
   "source": [
    "### KOG plotting"
   ]
  },
  {
   "cell_type": "markdown",
   "id": "746019ac-2ded-4dae-b8c1-1fe6de67404c",
   "metadata": {},
   "source": [
    "#### Level A"
   ]
  },
  {
   "cell_type": "code",
   "execution_count": null,
   "id": "573744f2-ed23-41f3-be1a-a84b47b8cd3c",
   "metadata": {},
   "outputs": [],
   "source": [
    "kog.A = read.table(kog_A_fractions, sep = \"\\t\", header = TRUE)\n",
    "kog.A$Partition = factor(kog.A$Partition, levels = c('core','accessory','unique'))\n",
    "kog.A$Cluster = factor(kog.A$Cluster, levels = c('Merged', 'I', 'IV', 'XIVa','XIVb'))\n",
    "levels(kog.A$Cluster)[levels(kog.A$Cluster)=='Merged'] = 'Full'\n",
    "kog.A"
   ]
  },
  {
   "cell_type": "code",
   "execution_count": null,
   "id": "47338eed-e2dc-4d2b-8317-68d9ce3d57fa",
   "metadata": {},
   "outputs": [],
   "source": [
    "n.colors = length(unique(kog.A$Annotation))\n",
    "\n",
    "svg(paste(plots, 'KOG_A_Annotation_Fractions.svg', sep = \"/\"), height = 3, width = 10)\n",
    "ggplot(kog.A, aes(x = Cluster, y = Fraction, fill = Annotation)) +\n",
    "  geom_bar(stat = \"identity\", position=\"stack\") +\n",
    "  facet_grid(~ Partition) +\n",
    "  scale_fill_manual(values = getPalette(n.colors), \n",
    "                    guide = guide_legend(ncol = 1, keyheight = 0.8, keywidth = 0.4)) +\n",
    "  scale_y_continuous(expand = c(0,0)) +\n",
    "  scale_x_discrete(expand = c(0,0)) +\n",
    "  labs(x = \"rRNA cluster\", y = \"% KOGs\", fill = \"BRITE-A category\") +\n",
    "  theme(panel.spacing = unit(1, \"lines\"))\n",
    "dev.off()"
   ]
  },
  {
   "cell_type": "code",
   "execution_count": null,
   "id": "65e24943-b3db-4e22-9eb6-19225c025f23",
   "metadata": {},
   "outputs": [],
   "source": [
    "display_svg(file=paste(plots, 'KOG_A_Annotation_Fractions.svg', sep = \"/\"))"
   ]
  },
  {
   "cell_type": "markdown",
   "id": "1e974cf3-d4d9-439f-8ef6-8255fc4acee1",
   "metadata": {},
   "source": [
    "#### Level B for A = Metabolism"
   ]
  },
  {
   "cell_type": "code",
   "execution_count": null,
   "id": "aff8d812-0b1f-42bb-b662-4abdd49f50b2",
   "metadata": {},
   "outputs": [],
   "source": [
    "kog.B.met = read.table(kog_B_A_MET_fractions, sep = \"\\t\", header = TRUE)\n",
    "kog.B.met$Partition = factor(kog.B.met$Partition, levels = c('core','accessory','unique'))\n",
    "kog.B.met$Cluster = factor(kog.B.met$Cluster, levels = c('Merged', 'I', 'IV', 'XIVa', 'XIVb'))\n",
    "levels(kog.B.met$Cluster)[levels(kog.B.met$Cluster)=='Merged'] = 'Full'\n",
    "kog.B.met = kog.B.met %>% group_by(Cluster, Partition) %>% mutate(normFrac = Fraction/sum(Fraction)*100)\n",
    "kog.B.met"
   ]
  },
  {
   "cell_type": "code",
   "execution_count": null,
   "id": "f8d0a69d-d715-4cc2-bf95-89212f862819",
   "metadata": {},
   "outputs": [],
   "source": [
    "n.colors = length(unique(kog.B.met$Annotation))\n",
    "\n",
    "svg(paste(plots, 'KOG_B_A_MET_Annotation_Fractions.svg', sep = \"/\"), height = 4, width = 10)\n",
    "ggplot(kog.B.met, aes(x = Cluster, y = normFrac, fill = Annotation)) +\n",
    "  geom_bar(stat = \"identity\", position=\"stack\") +\n",
    "  facet_grid(~ Partition) +\n",
    "  scale_fill_manual(values = getPalette(n.colors), \n",
    "                    guide = guide_legend(ncol = 1, keyheight = 0.8, keywidth = 0.75)) +\n",
    "  scale_y_continuous(expand = c(0,0)) +\n",
    "  scale_x_discrete(expand = c(0,0)) +\n",
    "  labs(x = \"rRNA cluster\", y = \"% KOGs\", fill = \"BRITE-B Metabolism category \\n(annotated genes only)\") +\n",
    "  theme(panel.spacing = unit(1, \"lines\"))\n",
    "dev.off()"
   ]
  },
  {
   "cell_type": "code",
   "execution_count": null,
   "id": "7c627d20-3e2b-4c8a-a099-a10f3cf7681a",
   "metadata": {},
   "outputs": [],
   "source": [
    "display_svg(file=paste(plots, 'KOG_B_A_MET_Annotation_Fractions.svg', sep = \"/\"))"
   ]
  },
  {
   "cell_type": "markdown",
   "id": "8d51fe2b-c146-4237-99df-4b60add0d9b4",
   "metadata": {},
   "source": [
    "#### Level B for A = Environmental Information Processing"
   ]
  },
  {
   "cell_type": "code",
   "execution_count": null,
   "id": "7793f279-9334-4e0a-845a-e87c360cbbf5",
   "metadata": {
    "scrolled": true
   },
   "outputs": [],
   "source": [
    "kog.B.eip = read.table(kog_B_A_EIP_fractions, sep = \"\\t\", header = TRUE)\n",
    "kog.B.eip$Partition = factor(kog.B.eip$Partition, levels = c('core','accessory','unique'))\n",
    "kog.B.eip$Cluster = factor(kog.B.eip$Cluster, levels = c('Merged', 'I', 'IV', 'XIVa','XIVb'))\n",
    "levels(kog.B.eip$Cluster)[levels(kog.B.eip$Cluster)=='Merged'] = 'Full'\n",
    "kog.B.eip = kog.B.eip %>% group_by(Cluster, Partition) %>% mutate(normFrac = Fraction/sum(Fraction)*100)\n",
    "kog.B.eip"
   ]
  },
  {
   "cell_type": "code",
   "execution_count": null,
   "id": "1faec2b1-c1de-4f42-bec6-b1f170851de3",
   "metadata": {},
   "outputs": [],
   "source": [
    "n.colors = length(unique(kog.B.eip$Annotation))\n",
    "\n",
    "svg(paste(plots, 'KOG_B_A_EIP_Annotation_Fractions.svg', sep = \"/\"), height = 6, width = 10)\n",
    "ggplot(kog.B.eip, aes(x = Cluster, y = normFrac, fill = Annotation)) +\n",
    "  geom_bar(stat = \"identity\", position=\"stack\") +\n",
    "  facet_grid(~ Partition) +\n",
    "  scale_fill_manual(values = getPalette(n.colors), \n",
    "                    guide = guide_legend(ncol = 1, keyheight = 0.8, keywidth = 0.75)) +\n",
    "  scale_y_continuous(expand = c(0,0)) +\n",
    "  scale_x_discrete(expand = c(0,0)) +\n",
    "  labs(x = \"rRNA cluster\", y = \"% KOGs\", fill = \"BRITE-B category (annotated genes only)\") +\n",
    "  theme(panel.spacing = unit(1, \"lines\"))\n",
    "dev.off()"
   ]
  },
  {
   "cell_type": "code",
   "execution_count": null,
   "id": "a4ce7640-468c-409c-8ec1-737ef999ef76",
   "metadata": {},
   "outputs": [],
   "source": [
    "display_svg(file=paste(plots, 'KOG_B_A_EIP_Annotation_Fractions.svg', sep = \"/\"))"
   ]
  },
  {
   "cell_type": "markdown",
   "id": "13c1ea41-62dd-4b41-a304-56074329aeda",
   "metadata": {},
   "source": [
    "#### Level B for A = Genetic Information Processing"
   ]
  },
  {
   "cell_type": "code",
   "execution_count": null,
   "id": "24262dc5-9e11-489f-ac9e-9cd5f4883602",
   "metadata": {},
   "outputs": [],
   "source": [
    "kog.B.gip = read.table(kog_B_A_GIP_fractions, sep = \"\\t\", header = TRUE)\n",
    "kog.B.gip$Partition = factor(kog.B.gip$Partition, levels = c('core','accessory','unique'))\n",
    "kog.B.gip$Cluster = factor(kog.B.gip$Cluster, levels = c('Merged', 'I', 'IV', 'XIVa','XIVb'))\n",
    "levels(kog.B.gip$Cluster)[levels(kog.B.gip$Cluster)=='Merged'] = 'Full'\n",
    "kog.B.gip = kog.B.gip %>% group_by(Cluster, Partition) %>% mutate(normFrac = Fraction/sum(Fraction)*100)\n",
    "kog.B.gip"
   ]
  },
  {
   "cell_type": "code",
   "execution_count": null,
   "id": "cffe9ea1-4934-4e32-8ff7-9a28253bc52c",
   "metadata": {},
   "outputs": [],
   "source": [
    "n.colors = length(unique(kog.B.gip$Annotation))\n",
    "\n",
    "svg(paste(plots, \"KOG_B_A_GIP_Annotation_Fractions.svg\", sep = \"/\"), height = 6, width = 10)\n",
    "ggplot(kog.B.gip, aes(x = Cluster, y = normFrac, fill = Annotation)) +\n",
    "  geom_bar(stat = \"identity\", position=\"stack\") +\n",
    "  facet_grid(~ Partition) +\n",
    "  scale_fill_manual(values = getPalette(n.colors), \n",
    "                    guide = guide_legend(ncol = 1, keyheight = 0.8, keywidth = 0.75)) +\n",
    "  scale_y_continuous(expand = c(0,0)) +\n",
    "  scale_x_discrete(expand = c(0,0)) +\n",
    "  labs(x = \"rRNA cluster\", y = \"% KOGs\", fill = \"BRITE-B category (annotated genes only)\") +\n",
    "  theme(panel.spacing = unit(1, \"lines\"))\n",
    "dev.off()"
   ]
  },
  {
   "cell_type": "code",
   "execution_count": null,
   "id": "7340dbdb-1517-4b55-b771-36776d8d4ca8",
   "metadata": {},
   "outputs": [],
   "source": [
    "display_svg(file=paste(plots, \"KOG_B_A_GIP_Annotation_Fractions.svg\", sep = \"/\"))"
   ]
  },
  {
   "cell_type": "markdown",
   "id": "a6b80033-72ad-4cd1-bed1-bdfd53eb7366",
   "metadata": {},
   "source": [
    "#### Level B for A = Cellular Processes"
   ]
  },
  {
   "cell_type": "code",
   "execution_count": null,
   "id": "205dc884-4ff9-4ab5-b48e-7b5bfe7ca62b",
   "metadata": {},
   "outputs": [],
   "source": [
    "kog.B.cps = read.table(kog_B_A_CPS_fractions, sep = \"\\t\", header = TRUE)\n",
    "kog.B.cps$Partition = factor(kog.B.cps$Partition, levels = c('core','accessory','unique'))\n",
    "kog.B.cps$Cluster = factor(kog.B.cps$Cluster, levels = c('Merged', 'I', 'IV', 'XIVa','XIVb'))\n",
    "levels(kog.B.cps$Cluster)[levels(kog.B.cps$Cluster)=='Merged'] = 'Full'\n",
    "kog.B.cps = kog.B.cps %>% group_by(Cluster, Partition) %>% mutate(normFrac = Fraction/sum(Fraction)*100)\n",
    "kog.B.cps"
   ]
  },
  {
   "cell_type": "code",
   "execution_count": null,
   "id": "e2235bf3-1cfe-46f0-b6b6-97f2cd826e6e",
   "metadata": {},
   "outputs": [],
   "source": [
    "n.colors = length(unique(kog.B.cps$Annotation))\n",
    "\n",
    "svg(paste(plots, 'KOG_B_A_CPS_Annotation_Fractions.svg', sep = \"/\"), height = 6, width = 10)\n",
    "ggplot(kog.B.cps, aes(x = Cluster, y = normFrac, fill = Annotation)) +\n",
    "  geom_bar(stat = \"identity\", position=\"stack\") +\n",
    "  facet_grid(~ Partition) +\n",
    "  scale_fill_manual(values = getPalette(n.colors), \n",
    "                    guide = guide_legend(ncol = 1, keyheight = 0.8, keywidth = 0.75)) +\n",
    "  scale_y_continuous(expand = c(0,0)) +\n",
    "  scale_x_discrete(expand = c(0,0)) +\n",
    "  labs(x = \"rRNA cluster\", y = \"% KOGs\", fill = \"BRITE-B category (annotated genes only)\") +\n",
    "  theme(panel.spacing = unit(1, \"lines\"))\n",
    "dev.off()"
   ]
  },
  {
   "cell_type": "code",
   "execution_count": null,
   "id": "12bf9451-beb1-4b06-b16a-d8a752bd6f3c",
   "metadata": {},
   "outputs": [],
   "source": [
    "display_svg(file=paste(plots, 'KOG_B_A_CPS_Annotation_Fractions.svg', sep = \"/\"))"
   ]
  },
  {
   "cell_type": "markdown",
   "id": "bc20424c-a59b-4412-8ea4-a1d08273e599",
   "metadata": {},
   "source": [
    "#### Level B unclassified fractions"
   ]
  },
  {
   "cell_type": "code",
   "execution_count": null,
   "id": "9ce3e904-af58-4105-aa65-82743189e87e",
   "metadata": {},
   "outputs": [],
   "source": [
    "kog.B.ninc = read.table(kog_B_A_NINC_fractions, sep = \"\\t\", header = TRUE)\n",
    "kog.B.ninc$Partition = factor(kog.B.ninc$Partition, levels = c('core','accessory','unique'))\n",
    "kog.B.ninc$Cluster = factor(kog.B.ninc$Cluster, levels = c('Merged', 'I', 'IV', 'XIVa','XIVb'))\n",
    "levels(kog.B.ninc$Cluster)[levels(kog.B.ninc$Cluster)=='Merged'] = 'Full'\n",
    "kog.B.ninc = kog.B.ninc %>% group_by(Cluster, Partition) %>% mutate(normFrac = Fraction/sum(Fraction)*100)\n",
    "kog.B.ninc"
   ]
  },
  {
   "cell_type": "code",
   "execution_count": null,
   "id": "f7fe2503-3e33-4af0-a5e5-a86c42cf4f43",
   "metadata": {},
   "outputs": [],
   "source": [
    "n.colors = length(unique(kog.B.ninc$Annotation))\n",
    "\n",
    "svg(paste(plots, 'KOG_B_A_NINC_Annotation_Fractions.svg', sep = \"/\"), height = 6, width = 10)\n",
    "ggplot(kog.B.ninc, aes(x = Cluster, y = normFrac, fill = Annotation)) +\n",
    "  geom_bar(stat = \"identity\", position=\"stack\") +\n",
    "  facet_grid(~ Partition) +\n",
    "  scale_fill_manual(values = getPalette(n.colors), \n",
    "                    guide = guide_legend(ncol = 1, keyheight = 0.8, keywidth = 0.75)) +\n",
    "  scale_y_continuous(expand = c(0,0)) +\n",
    "  scale_x_discrete(expand = c(0,0)) +\n",
    "  labs(x = \"rRNA cluster\", y = \"% KOGs\", fill = \"BRITE-B category (annotated genes only)\") +\n",
    "  theme(panel.spacing = unit(1, \"lines\"))\n",
    "dev.off()"
   ]
  },
  {
   "cell_type": "code",
   "execution_count": null,
   "id": "4df5ec02-18b0-4db5-8c93-c73083096e63",
   "metadata": {},
   "outputs": [],
   "source": [
    "display_svg(file=paste(plots, 'KOG_B_A_NINC_Annotation_Fractions.svg', sep = \"/\"))"
   ]
  },
  {
   "cell_type": "markdown",
   "id": "beca7e0f-e7d8-4769-8d81-890aaf3bf4e0",
   "metadata": {},
   "source": [
    "### Size figure"
   ]
  },
  {
   "cell_type": "code",
   "execution_count": null,
   "id": "7f3756b9-fe04-47ef-9f1c-7132a18b8b0e",
   "metadata": {},
   "outputs": [],
   "source": [
    "# Partition sizes\n",
    "svg(paste(task_root, 'partition_sizes.svg', sep = \"/\"), height = 2, width = 6)\n",
    "ggplot(pangenome.sizes, aes(x = Cluster, y = No.genes, fill = Cluster)) +\n",
    "  geom_bar(stat = \"identity\") +\n",
    "  facet_wrap(~ Partition, scales = 'free') +\n",
    "  scale_x_discrete(expand = c(0,0)) + \n",
    "  theme(legend.position = \"none\") +\n",
    "  labs(x = '', y = \"No. genes\") +\n",
    "  theme(panel.spacing = unit(.5, \"lines\"))\n",
    "dev.off()"
   ]
  },
  {
   "cell_type": "code",
   "execution_count": null,
   "id": "71e4e5a2-4012-4674-9fdc-5a60f18d1f77",
   "metadata": {},
   "outputs": [],
   "source": [
    "display_svg(file = paste(task_root, 'partition_sizes.svg', sep = \"/\"))"
   ]
  },
  {
   "cell_type": "markdown",
   "id": "9f318e92-fe48-4f5f-9e17-0bf67a57feda",
   "metadata": {},
   "source": [
    "### Generating KRONA plots"
   ]
  },
  {
   "cell_type": "code",
   "execution_count": null,
   "id": "851857cc-e169-4f47-afca-d32e763d95df",
   "metadata": {},
   "outputs": [],
   "source": [
    "system(paste0(\"cd \", processed_output.folder, \"&& dir -1 | grep KRONA | xargs basename -s .tsv | xargs -I % $HOME/bin/KronaTools/bin/ktImportText -o %.html %.tsv\"),\n",
    "       intern = TRUE)"
   ]
  },
  {
   "cell_type": "code",
   "execution_count": null,
   "id": "bb1dfba5-9ddd-4fb9-b8f0-a1eed25ef4e4",
   "metadata": {},
   "outputs": [],
   "source": []
  },
  {
   "cell_type": "code",
   "execution_count": 2,
   "id": "5d99b7db-a659-4298-9002-e8d41216c150",
   "metadata": {},
   "outputs": [
    {
     "data": {
      "text/plain": [
       "R version 4.1.2 (2021-11-01)\n",
       "Platform: x86_64-pc-linux-gnu (64-bit)\n",
       "Running under: Linux Mint 21.2\n",
       "\n",
       "Matrix products: default\n",
       "BLAS:   /usr/lib/x86_64-linux-gnu/openblas-pthread/libblas.so.3\n",
       "LAPACK: /usr/lib/x86_64-linux-gnu/openblas-pthread/libopenblasp-r0.3.20.so\n",
       "\n",
       "locale:\n",
       " [1] LC_CTYPE=en_US.UTF-8       LC_NUMERIC=C              \n",
       " [3] LC_TIME=en_US.UTF-8        LC_COLLATE=en_US.UTF-8    \n",
       " [5] LC_MONETARY=nl_BE.UTF-8    LC_MESSAGES=en_US.UTF-8   \n",
       " [7] LC_PAPER=nl_BE.UTF-8       LC_NAME=C                 \n",
       " [9] LC_ADDRESS=C               LC_TELEPHONE=C            \n",
       "[11] LC_MEASUREMENT=nl_BE.UTF-8 LC_IDENTIFICATION=C       \n",
       "\n",
       "attached base packages:\n",
       "[1] stats     graphics  grDevices utils     datasets  methods   base     \n",
       "\n",
       "other attached packages:\n",
       "[1] dplyr_1.1.4        IRdisplay_1.1      pals_1.8           RColorBrewer_1.1-3\n",
       "[5] ggplot2_3.5.1     \n",
       "\n",
       "loaded via a namespace (and not attached):\n",
       " [1] pillar_1.9.0      compiler_4.1.2    base64enc_0.1-3   tools_4.1.2      \n",
       " [5] digest_0.6.35     uuid_1.2-0        jsonlite_1.8.8    evaluate_0.23    \n",
       " [9] lifecycle_1.0.4   tibble_3.2.1      gtable_0.3.4      pkgconfig_2.0.3  \n",
       "[13] rlang_1.1.3       cli_3.6.2         mapproj_1.2.11    IRkernel_1.3.2   \n",
       "[17] fastmap_1.1.1     repr_1.1.7        withr_3.0.0       maps_3.4.2       \n",
       "[21] generics_0.1.3    vctrs_0.6.5       grid_4.1.2        tidyselect_1.2.0 \n",
       "[25] glue_1.7.0        R6_2.5.1          fansi_1.0.6       pbdZMQ_0.3-11    \n",
       "[29] magrittr_2.0.3    scales_1.3.0      htmltools_0.5.8.1 dichromat_2.0-0.1\n",
       "[33] colorspace_2.1-0  utf8_1.2.4        munsell_0.5.0     crayon_1.5.2     "
      ]
     },
     "metadata": {},
     "output_type": "display_data"
    }
   ],
   "source": [
    "sessionInfo()"
   ]
  },
  {
   "cell_type": "code",
   "execution_count": null,
   "id": "a4e0406a-5ab1-423c-b000-e5b3d5080af8",
   "metadata": {},
   "outputs": [],
   "source": []
  }
 ],
 "metadata": {
  "kernelspec": {
   "display_name": "R",
   "language": "R",
   "name": "ir"
  },
  "language_info": {
   "codemirror_mode": "r",
   "file_extension": ".r",
   "mimetype": "text/x-r-source",
   "name": "R",
   "pygments_lexer": "r",
   "version": "4.1.2"
  }
 },
 "nbformat": 4,
 "nbformat_minor": 5
}
