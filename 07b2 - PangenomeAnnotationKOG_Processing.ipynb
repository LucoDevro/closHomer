{
 "cells": [
  {
   "cell_type": "markdown",
   "id": "7ce2233d-7e68-447d-b338-a7f8e5d10a07",
   "metadata": {},
   "source": [
    "This part of the pipeline parses the raw KOG annotation files from KAAS and produces count and frequency tables of the KOG annotations."
   ]
  },
  {
   "cell_type": "markdown",
   "id": "adb44bd3-2ca3-41e8-bca4-5a785c187e15",
   "metadata": {},
   "source": [
    "### Importing the packages"
   ]
  },
  {
   "cell_type": "code",
   "execution_count": null,
   "id": "c7168486-3915-4e55-99be-87d2efc74ea0",
   "metadata": {},
   "outputs": [],
   "source": [
    "import pandas as pd\n",
    "import matplotlib.pyplot as plt\n",
    "import seaborn as sns\n",
    "import json\n",
    "from collections import Counter\n",
    "import os"
   ]
  },
  {
   "cell_type": "markdown",
   "id": "0863e76e-3009-46b4-a2bb-5e91c196fce1",
   "metadata": {},
   "source": [
    "### Paths and parameters"
   ]
  },
  {
   "cell_type": "markdown",
   "id": "e43d2fb2-e60e-435d-94dd-1c020a0cba20",
   "metadata": {},
   "source": [
    "#### Pipeline input folders"
   ]
  },
  {
   "cell_type": "code",
   "execution_count": null,
   "id": "3b3c5be6-810c-49d0-83e2-a400db31e8f5",
   "metadata": {},
   "outputs": [],
   "source": [
    "pangenomes = \"./05-pangenomes\"\n",
    "kaas_mapper = \"./07-PangenomeAnnotation/KOG/mapper\"\n",
    "indices = \"02-QC/indices\""
   ]
  },
  {
   "cell_type": "markdown",
   "id": "d65251b2-b0f5-4fc0-bf06-b80cbe3826a3",
   "metadata": {},
   "source": [
    "#### Pipeline output folders"
   ]
  },
  {
   "cell_type": "code",
   "execution_count": null,
   "id": "6786af32-e633-4d99-a36b-bbbd62c1ae57",
   "metadata": {},
   "outputs": [],
   "source": [
    "task_root = \"./07-PangenomeAnnotation/KOG\"\n",
    "processed_output = task_root+\"/processed_output\"\n",
    "\n",
    "!mkdir -p $task_root $processed_output"
   ]
  },
  {
   "cell_type": "markdown",
   "id": "65ec31d8-215a-478a-bfa6-d7bcfaa5e854",
   "metadata": {},
   "source": [
    "#### Tool pointers and parameters"
   ]
  },
  {
   "cell_type": "code",
   "execution_count": null,
   "id": "e01445d2-e920-411c-87bf-c45512e7d974",
   "metadata": {},
   "outputs": [],
   "source": [
    "core_acc_threshold = 99\n",
    "acc_unique_threshold = 15\n",
    "\n",
    "# Determine which KAAS outputs there are\n",
    "files = list(filter(lambda x: '.list' in x, os.listdir(indices)))\n",
    "set_sizes = {file.split('.')[0]: pd.read_table(indices + \"/\" + file, usecols = [0], header = None).shape[0] for file in files}\n",
    "sets = list(set_sizes.keys())\n",
    "\n",
    "# Collect their paths and index by genome set\n",
    "pangenome_matrices = {set: \"./05-pangenomes/\" + set + \"/matrix.csv\" for set in sets}\n",
    "mapper_tables = {set: kaas_mapper + \"/\" + set + \"_KAAS.json\" for set in sets}\n",
    "\n",
    "# Determine number of strains\n",
    "# There are 14 columns with metrics preceding the P/A matrix\n",
    "ns_strains = {set: pd.read_table(path, sep = \",\", nrows = 1).shape[1] - 14 for set,path in pangenome_matrices.items()}"
   ]
  },
  {
   "cell_type": "code",
   "execution_count": null,
   "id": "b72c8425-622d-4088-ba03-5c9c091925ba",
   "metadata": {},
   "outputs": [],
   "source": [
    "# Setting the naming conventions for both taxonomic clusters and pangenome partitions\n",
    "cluster_labels = ['Merged', 'I', 'IV', 'XIVa', 'XIVb']\n",
    "n_clusters = len(cluster_labels)\n",
    "\n",
    "pangenome_partition_labels = [\"core\", \"accessory\", \"unique\"]\n",
    "n_partitions = len(pangenome_partition_labels)"
   ]
  },
  {
   "cell_type": "markdown",
   "id": "5f37c2cb-23d5-487b-b3a6-9cf0231988b1",
   "metadata": {},
   "source": [
    "### Defining the pangenome partitions"
   ]
  },
  {
   "cell_type": "markdown",
   "id": "f69ba6ca-4c08-47d9-b2b2-04b7d69ccbef",
   "metadata": {},
   "source": [
    "#### Auxiliary functions"
   ]
  },
  {
   "cell_type": "code",
   "execution_count": null,
   "id": "a4e8449f-6018-4cc5-ab3f-d1e4fbeae6ae",
   "metadata": {},
   "outputs": [],
   "source": [
    "## Reads the presence/absence matrix and splits it out into pangenome partitions\n",
    "##\n",
    "## PARAMS\n",
    "## path           file path to the presence/absence matrix\n",
    "## ca_threshold   core-accessory threshold (default: 99%)\n",
    "## au_threshold   accessory-unique threshold (default: 15%)\n",
    "## print_size     flag to print the size of the genome partitions (default: false)\n",
    "##\n",
    "## OUTPUT\n",
    "## a list of dataframe slices by partition containing the gene family ID, the absolute and relative presence of that family in the pangenome\n",
    "##\n",
    "def split_pangenome(path, n_strains, ca_threshold = 99, au_threshold = 15, print_size = False):\n",
    "    clusters = pd.read_table(path, sep = \",\", usecols=[0,3])\n",
    "    \n",
    "    # Define the presence ratio as the percentage in which this gene family is present\n",
    "    clusters[\"Presence_ratio\"] = clusters[\"No. isolates\"].apply(lambda x: int(x) / n_strains * 100)\n",
    "\n",
    "    # Thresholding to define the pangenome partitions\n",
    "    core = clusters[clusters[\"Presence_ratio\"] >= ca_threshold].rename(columns = {'Gene': 'ID'})\n",
    "    acc = clusters[(clusters[\"Presence_ratio\"] >= au_threshold) & (clusters[\"Presence_ratio\"] < ca_threshold)].rename(columns = {'Gene': 'ID'})\n",
    "    unique = clusters[clusters[\"Presence_ratio\"] < au_threshold].rename(columns = {'Gene': 'ID'})\n",
    "\n",
    "    if print_size:\n",
    "        print(\"Core:\\t\" + str(core.shape))\n",
    "        print(\"Accessory:\\t\" + str(acc.shape))\n",
    "        print(\"Unique:\\t\" + str(unique.shape))\n",
    "\n",
    "    return [core, acc, unique]"
   ]
  },
  {
   "cell_type": "code",
   "execution_count": null,
   "id": "a7da3e02-917b-496b-a0a4-a48c6e5f5fc2",
   "metadata": {},
   "outputs": [],
   "source": [
    "## Reads and parses the raw KAAS webserver output file and returns an annotation table in the format \n",
    "## 'cluster ID; KOG-A; KOG-B; KOG-C; KOG-D', as well as a loosely coupled dictionary-like hierarchy of the included KEGG annotation terms\n",
    "##\n",
    "## You can find the json file at the KAAS HTML output > BRITE hierarchies > KEGG Orthology (KO) > download json\n",
    "##\n",
    "## PARAMS\n",
    "## path      file path to the raw KAAS json file\n",
    "##\n",
    "## OUTPUT\n",
    "## a tuple containing a dataframe with the hierarchical KOG annotations of each gene family,\n",
    "## and a dictionary of dictionaries reproducing the present fraction of the BRITE hierarchy\n",
    "##\n",
    "def read_kaas_annotations(path):\n",
    "    with open(path,\"r\") as handle:\n",
    "        cont = json.load(handle)\n",
    "    \n",
    "    kaas_annots=[] # will contain the hierarchical annotation of each gene family\n",
    "    abs = {} # will contain the children terms (B-terms) for each A-level term\n",
    "    bcs = {} # will contain the children terms (C-terms) for each B-level term\n",
    "    cds = {} # will contain the children terms (D-terms) for each C-level term\n",
    "    for a in cont[\"children\"]:\n",
    "        an = ' '.join(a[\"name\"].split(' ')[1:]).split(' [')[0]\n",
    "        abs[an] = set() # initialise children set\n",
    "        try:\n",
    "            for b in a[\"children\"]:\n",
    "                bn = ' '.join(b[\"name\"].split(' ')[1:]).split(' [')[0] # parse name\n",
    "                abs[an].add(bn) # each one of the terms in this loop has the same parent term, i.e. the current one in the outer loop\n",
    "                bcs[bn] = set() # initialise the set for the children terms of this term\n",
    "                try:\n",
    "                    for c in b[\"children\"]:\n",
    "                        cn = ' '.join(c[\"name\"].split(' ')[1:]).split(' [')[0]\n",
    "                        bcs[bn].add(cn)\n",
    "                        cds[cn] = set()\n",
    "                        try:\n",
    "                            for d in c[\"children\"]:\n",
    "                                dn = d[\"name\"].split('; ')[2].split(' [')[0]\n",
    "                                cds[cn].add(dn)\n",
    "                                record = {'ID': d[\"name\"].split(';')[0],\n",
    "                                          \"A\": an, \n",
    "                                          \"B\": bn, \n",
    "                                          \"C\": cn, \n",
    "                                          \"D\": dn}\n",
    "                                kaas_annots.append(record) # A full 4-level KEGG annotation record for this gene family\n",
    "                        except KeyError: # Stop drilling down if there is no deeper annotation level (i.e. when there is no 'children' key)\n",
    "                            continue\n",
    "                except KeyError:\n",
    "                    continue\n",
    "        except KeyError:\n",
    "            continue\n",
    "\n",
    "    # Convert list of dictionary-like records to a dataframe\n",
    "    kaas_annots = pd.DataFrame(kaas_annots)\n",
    "    # Filter at the A level\n",
    "    A_levels = pd.Series(['Metabolism',\n",
    "                          'Genetic Information Processing',\n",
    "                          'Environmental Information Processing',\n",
    "                          'Not Included in Pathway or Brite',\n",
    "                          'Cellular Processes']\n",
    "                        )\n",
    "    kaas_annots = kaas_annots[kaas_annots['A'].isin(A_levels)]\n",
    "    kaas_annots = kaas_annots.reset_index(drop=True)\n",
    "\n",
    "    # Convert each entry at each level of the KEGG hierarchy into a human-readable dictionary of lists\n",
    "    # in the form 'parent annotation: list of children annotations' for each annotation level\n",
    "    hierarchies = {level: {k: list(v) for k,v in cats.items()} for level,cats in list(zip(['A','B','C'],[abs, bcs, cds]))}\n",
    "    \n",
    "    return (kaas_annots, hierarchies)"
   ]
  },
  {
   "cell_type": "code",
   "execution_count": null,
   "id": "e328917d-b0ac-4e22-9db7-fe367918470d",
   "metadata": {},
   "outputs": [],
   "source": [
    "## Splits by pangenome partitioning and returns KOG category count tables for each partition\n",
    "##\n",
    "## PARAMS\n",
    "## annots        the full KAAS annotation table for this genome set\n",
    "## distr         the set of gene family IDs split out by pangenome partition using split_pangenome()\n",
    "##\n",
    "## OUTPUT\n",
    "## a list of KOG category count tables by pangenome partition\n",
    "##\n",
    "def split_kaas_counts(annots, distr):\n",
    "    distr_annots = list(map(lambda x: pd.merge(x, annots, how = 'left', on = 'ID').drop(['No. isolates', 'Presence_ratio'], axis=1)\n",
    "                            .fillna('-'), distr))\n",
    "    distr_counts = list(map(count_kaas_annotations, distr_annots))\n",
    "    return distr_counts"
   ]
  },
  {
   "cell_type": "code",
   "execution_count": null,
   "id": "da7a371b-f02f-4ee4-9c2a-1bd7cf64395b",
   "metadata": {},
   "outputs": [],
   "source": [
    "## Counts the frequencies of KOG categories of a certain hierarchical level in the supplied annotation set,\n",
    "## and returns a count table per hierarchical level\n",
    "##\n",
    "## PARAMS\n",
    "## full_annots     dataframe of family IDs and KOG annotations for a full genome set\n",
    "## level           limit the KOG annotation to these levels (list of 'A','B','C' and/or 'D'; or None for no filter) (default: None)\n",
    "## relative        flag to scale the category counts to a percentage scale (default: true)\n",
    "##\n",
    "## OUTPUT\n",
    "## a dataframe with columns a KOG category and its frequency\n",
    "##\n",
    "def count_kaas_annotations(full_annots, level = None, relative = True):\n",
    "    if level == None:\n",
    "        levels = full_annots.columns.drop(\"ID\")\n",
    "    else:\n",
    "        levels = pd.Series(level)\n",
    "        \n",
    "    annots_per_level = {}  \n",
    "    for l in levels:\n",
    "        # Annotations that have a different annotation at lower KOG levels, but not at higher levels, are deduplicated.\n",
    "        # This may result in annotation counts at different KOG levels not adding up.\n",
    "        # Example:\n",
    "        # group_5022\tMetabolism\tAmino acid metabolism\tValine, leucine and isoleucine degradation\tdihydrolipoyl dehydrogenase\n",
    "        # group_5022\tMetabolism\tAmino acid metabolism\tLysine degradation\tdihydrolipoyl dehydrogenase\n",
    "        # => will yield a single KOG-B annotation, but a double KOG-C annotation:\n",
    "        # group_5022\tAmino acid metabolism    (B-level)\n",
    "        # group_5022\tMetabolism\tAmino acid metabolism\tValine, leucine and isoleucine degradation    (C-level #1)\n",
    "        # group_5022\tMetabolism\tAmino acid metabolism\tLysine degradation    (C-level #2)\n",
    "        \n",
    "        annots_per_level[l] = dict(Counter(full_annots[['ID', l]].drop_duplicates()[l].to_list()))\n",
    "        \n",
    "    annots = pd.DataFrame(annots_per_level).fillna(0).astype(int)\n",
    "    \n",
    "    if relative:\n",
    "        annots = annots.apply(lambda x: x / sum(x))\n",
    "        \n",
    "    return annots"
   ]
  },
  {
   "cell_type": "code",
   "execution_count": null,
   "id": "57f2e372-ed04-4673-aef2-b06c1a27c710",
   "metadata": {},
   "outputs": [],
   "source": [
    "## Saves each annotation table at a certain KOG hierarchical level contained within the partitioned pangenome array\n",
    "##\n",
    "## PARAMS\n",
    "## path       path to which the annotation tables should be saved\n",
    "## distr      list of KOG category frequency tables, one for each pangenome partition\n",
    "## prefix     prefix to distinguish the counted annotation tables (e.g. clusterI)\n",
    "##\n",
    "def save_kaas_counts(path, distr, prefix = \"\"):\n",
    "    out_path_template = '/'.join(path.split('/')[:-1]) + \"/\"\n",
    "    if len(prefix) > 0:\n",
    "        out_path_template = out_path_template + prefix + \"_\"\n",
    "    distr[0].to_csv(out_path_template + \"core_annot\", sep = '\\t', index_label = \"Annotation\")\n",
    "    distr[1].to_csv(out_path_template + \"acc_annot\", sep = '\\t', index_label = \"Annotation\")\n",
    "    distr[2].to_csv(out_path_template + \"unique_annot\", sep = '\\t', index_label = \"Annotation\")"
   ]
  },
  {
   "cell_type": "code",
   "execution_count": null,
   "id": "2c2aa2a5-03a4-4dfb-91b4-7cc3bc1e333c",
   "metadata": {},
   "outputs": [],
   "source": [
    "## Concatenates the KOG category count tables that were separated by pangenome partition\n",
    "##\n",
    "## PARAMS\n",
    "## distr_counts    list of dataframes of KOG category and frequency, one for each pangenome partition\n",
    "##\n",
    "## OUTPUT\n",
    "## a dataframe of KOG category frequencies, indexed by pangenome partition\n",
    "##\n",
    "def concat_counts(distr_counts, labels):\n",
    "    concat_data = pd.concat(distr_counts, axis = 1).fillna(0).T\n",
    "    concat_data = concat_data[sorted(concat_data.columns)]\n",
    "    concat_data.index = labels\n",
    "    return concat_data"
   ]
  },
  {
   "cell_type": "code",
   "execution_count": null,
   "id": "37fb0ae7-2ad2-4203-b085-58f10b96ab13",
   "metadata": {},
   "outputs": [],
   "source": [
    "## Returns the KOG category frequencies by genome set, pangenome partition of that genome set and KOG category\n",
    "## by concatenating count tables for different genome sets on a \"stitching column\" (e.g. the species cluster tied to a genome set)\n",
    "##\n",
    "## PARAMS\n",
    "## data_array       list of to be stitched concatenated count tables produced for different genome sets by concat_counts()\n",
    "## group_index      name of the stitching column\n",
    "## group_values     list of possible group labels to be used as value for the stitching column (e.g. name of genome sets),\n",
    "##                  in the same order as @data_array\n",
    "##\n",
    "## OUTPUT\n",
    "## a dataframe of KOG category frequencies by genome set, pangenome partition in that genome set and KOG category\n",
    "##\n",
    "def stitch_data(data_array, group_index, group_values):\n",
    "    # Add the stitching column\n",
    "    for i,val in enumerate(group_values):\n",
    "        data_array[i][group_index] = val\n",
    "    # Melt all count tables in the data array and concatenate them on the stitching column\n",
    "    concat_data = pd.concat([pd.melt(i.reset_index(names = \"Partition\"), \n",
    "                                     id_vars=[group_index, \"Partition\"], \n",
    "                                     var_name = \"Annotation\", \n",
    "                                     value_name = \"Fraction\")\n",
    "                             for i in data_array], ignore_index=True)\n",
    "    return concat_data"
   ]
  },
  {
   "cell_type": "markdown",
   "id": "83d9c471-17c1-41c2-829e-8bc2dc121c1c",
   "metadata": {},
   "source": [
    "#### Partitioning the genomes"
   ]
  },
  {
   "cell_type": "code",
   "execution_count": null,
   "id": "0823f1be-b2c8-4fa2-98fb-6cfd65b4f891",
   "metadata": {},
   "outputs": [],
   "source": [
    "distr_m = split_pangenome(pangenome_matrices['merge'], set_sizes['merge'], core_acc_threshold, acc_unique_threshold, True)\n",
    "panm_core = distr_m[0]\n",
    "panm_acc = distr_m[1]\n",
    "panm_unique = distr_m[2]"
   ]
  },
  {
   "cell_type": "code",
   "execution_count": null,
   "id": "0767e8f8-cc34-4321-ad53-090231f3ad2c",
   "metadata": {},
   "outputs": [],
   "source": [
    "distr_1 = split_pangenome(pangenome_matrices['group1'], set_sizes['group1'], core_acc_threshold, acc_unique_threshold, True)\n",
    "pan1_core = distr_1[0]\n",
    "pan1_acc = distr_1[1]\n",
    "pan1_unique = distr_1[2]"
   ]
  },
  {
   "cell_type": "code",
   "execution_count": null,
   "id": "eff9b47d-15c4-413f-bcc0-c9e0880d39e5",
   "metadata": {},
   "outputs": [],
   "source": [
    "distr_4 = split_pangenome(pangenome_matrices['group4'], set_sizes['group4'], core_acc_threshold, acc_unique_threshold, True)\n",
    "pan4_core = distr_4[0]\n",
    "pan4_acc = distr_4[1]\n",
    "pan4_unique = distr_4[2]"
   ]
  },
  {
   "cell_type": "code",
   "execution_count": null,
   "id": "57124aa2-9893-4146-8d16-212db9a6d7de",
   "metadata": {},
   "outputs": [],
   "source": [
    "distr_14a = split_pangenome(pangenome_matrices['group14a'], set_sizes['group14a'], core_acc_threshold, acc_unique_threshold, True)\n",
    "pan14a_core = distr_14a[0]\n",
    "pan14a_acc = distr_14a[1]\n",
    "pan14a_unique = distr_14a[2]"
   ]
  },
  {
   "cell_type": "code",
   "execution_count": null,
   "id": "d59d7771-9fb5-4b54-80b2-03ce73e5e760",
   "metadata": {},
   "outputs": [],
   "source": [
    "distr_14b = split_pangenome(pangenome_matrices['group14b'], set_sizes['group14b'], core_acc_threshold, acc_unique_threshold, True)\n",
    "pan14b_core = distr_14b[0]\n",
    "pan14b_acc = distr_14b[1]\n",
    "pan14b_unique = distr_14b[2]"
   ]
  },
  {
   "cell_type": "markdown",
   "id": "7f8ea111-eea5-47d4-8067-da7395d7dd4b",
   "metadata": {},
   "source": [
    "#### Number of clusters split by taxonomic cluster and pangenome partition"
   ]
  },
  {
   "cell_type": "code",
   "execution_count": null,
   "id": "fbd842da-3253-41b3-b7ca-b215bd105ae3",
   "metadata": {},
   "outputs": [],
   "source": [
    "cluster_counts = pd.DataFrame({cluster_labels[i]: \n",
    "                               list(map(lambda x: x.shape[0], p)) \n",
    "                               for i,p in enumerate([distr_m, distr_1, distr_4, distr_14a, distr_14b])\n",
    "                              })\n",
    "cluster_counts.index = pangenome_partition_labels\n",
    "cluster_counts"
   ]
  },
  {
   "cell_type": "code",
   "execution_count": null,
   "id": "342d3989-d95c-4abb-9bbd-83da97991184",
   "metadata": {},
   "outputs": [],
   "source": [
    "cluster_counts_relative = cluster_counts.apply(lambda x: x/x.sum())\n",
    "cluster_counts_relative"
   ]
  },
  {
   "cell_type": "markdown",
   "id": "711d8f7e-e244-4b6b-b1fb-5ac2b09c37c4",
   "metadata": {},
   "source": [
    "#### Processing the KOG counts"
   ]
  },
  {
   "cell_type": "markdown",
   "id": "6a8a27db-1215-45ac-b644-c4c427af1bd3",
   "metadata": {},
   "source": [
    "**Full set**"
   ]
  },
  {
   "cell_type": "code",
   "execution_count": null,
   "id": "c356d832-56f6-48c8-8a43-fe52f8b4da74",
   "metadata": {},
   "outputs": [],
   "source": [
    "kaas_annots_m, cats_kaas_m = read_kaas_annotations(mapper_tables['merge'])"
   ]
  },
  {
   "cell_type": "code",
   "execution_count": null,
   "id": "080400f5-cb1c-4650-9df2-828e60c033bb",
   "metadata": {},
   "outputs": [],
   "source": [
    "kaas_annots_m"
   ]
  },
  {
   "cell_type": "code",
   "execution_count": null,
   "id": "278bf841-5eb1-40c9-8686-a4690f25c959",
   "metadata": {},
   "outputs": [],
   "source": [
    "kaas_annots_m.to_csv(processed_output + \"/merged_full_annot\", sep = \"\\t\", index = False)"
   ]
  },
  {
   "cell_type": "code",
   "execution_count": null,
   "id": "4a1dc401-ed70-49a0-9eba-68f3e5dc0cce",
   "metadata": {},
   "outputs": [],
   "source": [
    "panm_distr_kaas_annots_counts = split_kaas_counts(kaas_annots_m, distr_m)\n",
    "panm_core_kaas_annots_counts = panm_distr_kaas_annots_counts[0]\n",
    "panm_acc_kaas_annots_counts = panm_distr_kaas_annots_counts[1]\n",
    "panm_unique_kaas_annots_counts = panm_distr_kaas_annots_counts[2]"
   ]
  },
  {
   "cell_type": "code",
   "execution_count": null,
   "id": "9bba5232-a350-4b2b-bd95-78ce7a757a39",
   "metadata": {},
   "outputs": [],
   "source": [
    "save_kaas_counts(mapper_tables['merge'], panm_distr_kaas_annots_counts, prefix = \"merge\")"
   ]
  },
  {
   "cell_type": "code",
   "execution_count": null,
   "id": "a6f58bc1-3223-4c6b-bd32-29c912ac9011",
   "metadata": {},
   "outputs": [],
   "source": [
    "panm_core_kaas_annots_counts"
   ]
  },
  {
   "cell_type": "code",
   "execution_count": null,
   "id": "eb1097c4-e347-4e8e-8bab-26a282279731",
   "metadata": {},
   "outputs": [],
   "source": [
    "panm_acc_kaas_annots_counts"
   ]
  },
  {
   "cell_type": "code",
   "execution_count": null,
   "id": "9c05fcb8-7c4c-470b-98ba-6536769e3d82",
   "metadata": {},
   "outputs": [],
   "source": [
    "panm_unique_kaas_annots_counts"
   ]
  },
  {
   "cell_type": "markdown",
   "id": "04e7f17f-d634-4887-9d8d-99e707537b18",
   "metadata": {},
   "source": [
    "**Cluster 1**"
   ]
  },
  {
   "cell_type": "code",
   "execution_count": null,
   "id": "aeee0c57-2f45-4cf7-8b60-4a57d6c20f3e",
   "metadata": {},
   "outputs": [],
   "source": [
    "kaas_annots_1, cats_kaas_1 = read_kaas_annotations(mapper_tables['group1'])"
   ]
  },
  {
   "cell_type": "code",
   "execution_count": null,
   "id": "17056233-81be-4523-a8a9-0bf93a47afcd",
   "metadata": {},
   "outputs": [],
   "source": [
    "kaas_annots_1"
   ]
  },
  {
   "cell_type": "code",
   "execution_count": null,
   "id": "47d736c7-0f99-44a6-9aa6-1f520dcddddb",
   "metadata": {},
   "outputs": [],
   "source": [
    "kaas_annots_1.to_csv(processed_output + \"/group1_full_annot\", sep = \"\\t\", index = False)"
   ]
  },
  {
   "cell_type": "code",
   "execution_count": null,
   "id": "c8e9ba2b-4223-474b-b8bc-1c26cb6fa4a9",
   "metadata": {},
   "outputs": [],
   "source": [
    "pan1_distr_kaas_annots_counts = split_kaas_counts(kaas_annots_1, distr_1)\n",
    "pan1_core_kaas_annots_counts = pan1_distr_kaas_annots_counts[0]\n",
    "pan1_acc_kaas_annots_counts = pan1_distr_kaas_annots_counts[1]\n",
    "pan1_unique_kaas_annots_counts = pan1_distr_kaas_annots_counts[2]"
   ]
  },
  {
   "cell_type": "code",
   "execution_count": null,
   "id": "be7a668e-f06e-4945-a92f-55a424c0f366",
   "metadata": {},
   "outputs": [],
   "source": [
    "save_kaas_counts(mapper_tables['group1'], pan1_distr_kaas_annots_counts, prefix = \"group1\")"
   ]
  },
  {
   "cell_type": "code",
   "execution_count": null,
   "id": "fcd086c7-14cc-4569-abac-3440d6c5fb8b",
   "metadata": {},
   "outputs": [],
   "source": [
    "pan1_core_kaas_annots_counts"
   ]
  },
  {
   "cell_type": "code",
   "execution_count": null,
   "id": "d5ef69df-3fb1-4264-bebe-5b2b5ae59d37",
   "metadata": {},
   "outputs": [],
   "source": [
    "pan1_acc_kaas_annots_counts"
   ]
  },
  {
   "cell_type": "code",
   "execution_count": null,
   "id": "75cdc77e-6c77-41ea-95b3-b98c163a4161",
   "metadata": {},
   "outputs": [],
   "source": [
    "pan1_unique_kaas_annots_counts"
   ]
  },
  {
   "cell_type": "markdown",
   "id": "ac736080-4069-4f93-a851-c1a5c5745c31",
   "metadata": {},
   "source": [
    "**Cluster 4**"
   ]
  },
  {
   "cell_type": "code",
   "execution_count": null,
   "id": "9e7c5556-1ea2-4c86-80b5-00e209bd52d8",
   "metadata": {},
   "outputs": [],
   "source": [
    "kaas_annots_4, cats_kaas_4 = read_kaas_annotations(mapper_tables['group4'])"
   ]
  },
  {
   "cell_type": "code",
   "execution_count": null,
   "id": "18ce6f9d-0383-431e-89a7-e2ba610be388",
   "metadata": {},
   "outputs": [],
   "source": [
    "kaas_annots_4"
   ]
  },
  {
   "cell_type": "code",
   "execution_count": null,
   "id": "167f7d24-c2d1-4c9c-a723-5c0e817dfa66",
   "metadata": {},
   "outputs": [],
   "source": [
    "kaas_annots_4.to_csv(processed_output + \"/group4_full_annot\", sep = \"\\t\", index = False)"
   ]
  },
  {
   "cell_type": "code",
   "execution_count": null,
   "id": "683c147e-783b-4662-bcbe-d2732ac9b748",
   "metadata": {},
   "outputs": [],
   "source": [
    "pan4_distr_kaas_annots_counts = split_kaas_counts(kaas_annots_4, distr_4)\n",
    "pan4_core_kaas_annots_counts = pan4_distr_kaas_annots_counts[0]\n",
    "pan4_acc_kaas_annots_counts = pan4_distr_kaas_annots_counts[1]\n",
    "pan4_unique_kaas_annots_counts = pan4_distr_kaas_annots_counts[2]"
   ]
  },
  {
   "cell_type": "code",
   "execution_count": null,
   "id": "85a753b1-9264-487f-b4c9-ca058e20405e",
   "metadata": {},
   "outputs": [],
   "source": [
    "save_kaas_counts(mapper_tables['group4'], pan4_distr_kaas_annots_counts, prefix = \"group4\")"
   ]
  },
  {
   "cell_type": "code",
   "execution_count": null,
   "id": "43329e6a-c8cb-4f33-b57b-806224c5d942",
   "metadata": {},
   "outputs": [],
   "source": [
    "pan4_core_kaas_annots_counts"
   ]
  },
  {
   "cell_type": "code",
   "execution_count": null,
   "id": "3ef05f54-dc6c-4808-894c-97cee10cf3e2",
   "metadata": {},
   "outputs": [],
   "source": [
    "pan4_acc_kaas_annots_counts"
   ]
  },
  {
   "cell_type": "code",
   "execution_count": null,
   "id": "d04666f6-7028-4719-bf8d-e130ce009163",
   "metadata": {},
   "outputs": [],
   "source": [
    "pan4_unique_kaas_annots_counts"
   ]
  },
  {
   "cell_type": "markdown",
   "id": "23860d52-3898-43b7-adf2-17a10c8e829f",
   "metadata": {},
   "source": [
    "**Cluster 14a**"
   ]
  },
  {
   "cell_type": "code",
   "execution_count": null,
   "id": "4c04303b-2d08-404e-bcdc-ce2edabb8339",
   "metadata": {},
   "outputs": [],
   "source": [
    "kaas_annots_14a, cats_kaas_14a = read_kaas_annotations(mapper_tables['group14a'])"
   ]
  },
  {
   "cell_type": "code",
   "execution_count": null,
   "id": "fbbceb35-5942-4ae9-99f9-edee501902f0",
   "metadata": {},
   "outputs": [],
   "source": [
    "kaas_annots_14a"
   ]
  },
  {
   "cell_type": "code",
   "execution_count": null,
   "id": "c093873e-702a-4a52-b083-83d8f5bdeab6",
   "metadata": {},
   "outputs": [],
   "source": [
    "kaas_annots_14a.to_csv(processed_output + \"/group14a_full_annot\", sep = \"\\t\", index = False)"
   ]
  },
  {
   "cell_type": "code",
   "execution_count": null,
   "id": "9a7d0f9d-91c2-4d76-acba-617920339008",
   "metadata": {},
   "outputs": [],
   "source": [
    "pan14a_distr_kaas_annots_counts = split_kaas_counts(kaas_annots_14a, distr_14a)\n",
    "pan14a_core_kaas_annots_counts = pan14a_distr_kaas_annots_counts[0]\n",
    "pan14a_acc_kaas_annots_counts = pan14a_distr_kaas_annots_counts[1]\n",
    "pan14a_unique_kaas_annots_counts = pan14a_distr_kaas_annots_counts[2]"
   ]
  },
  {
   "cell_type": "code",
   "execution_count": null,
   "id": "ac520e07-4291-495d-b35a-427d6890c3e1",
   "metadata": {},
   "outputs": [],
   "source": [
    "save_kaas_counts(mapper_tables['group14a'], pan14a_distr_kaas_annots_counts, prefix = \"group14a\")"
   ]
  },
  {
   "cell_type": "code",
   "execution_count": null,
   "id": "11404163-4960-4f19-ab86-288f85c75d4e",
   "metadata": {},
   "outputs": [],
   "source": [
    "pan14a_core_kaas_annots_counts"
   ]
  },
  {
   "cell_type": "code",
   "execution_count": null,
   "id": "d530c7f1-d1b2-4b14-9657-9ca17e8edb91",
   "metadata": {},
   "outputs": [],
   "source": [
    "pan14a_acc_kaas_annots_counts"
   ]
  },
  {
   "cell_type": "code",
   "execution_count": null,
   "id": "04922bdf-fa42-46d1-9449-12c685cc10fe",
   "metadata": {},
   "outputs": [],
   "source": [
    "pan14a_unique_kaas_annots_counts"
   ]
  },
  {
   "cell_type": "markdown",
   "id": "4501d685-688c-4ee6-9142-e563d8efe763",
   "metadata": {},
   "source": [
    "**Cluster 14b**"
   ]
  },
  {
   "cell_type": "code",
   "execution_count": null,
   "id": "01a02ea8-020a-4f45-8897-e24e67ad7257",
   "metadata": {},
   "outputs": [],
   "source": [
    "kaas_annots_14b, cats_kaas_14b = read_kaas_annotations(mapper_tables['group14b'])"
   ]
  },
  {
   "cell_type": "code",
   "execution_count": null,
   "id": "8f0bdbe3-7401-46f9-8253-f87f677d2a2e",
   "metadata": {},
   "outputs": [],
   "source": [
    "kaas_annots_14b"
   ]
  },
  {
   "cell_type": "code",
   "execution_count": null,
   "id": "7139e2d0-594b-45ec-8734-2d1de3852daf",
   "metadata": {},
   "outputs": [],
   "source": [
    "kaas_annots_14b.to_csv(processed_output + \"/group14b_full_annot\", sep = \"\\t\", index = False)"
   ]
  },
  {
   "cell_type": "code",
   "execution_count": null,
   "id": "837996a3-e0d4-4db0-a3cf-dfc29f9cd14c",
   "metadata": {},
   "outputs": [],
   "source": [
    "pan14b_distr_kaas_annots_counts = split_kaas_counts(kaas_annots_14b, distr_14b)\n",
    "pan14b_core_kaas_annots_counts = pan14b_distr_kaas_annots_counts[0]\n",
    "pan14b_acc_kaas_annots_counts = pan14b_distr_kaas_annots_counts[1]\n",
    "pan14b_unique_kaas_annots_counts = pan14b_distr_kaas_annots_counts[2]"
   ]
  },
  {
   "cell_type": "code",
   "execution_count": null,
   "id": "0b74c94d-702e-4912-8c32-8446064fbd3b",
   "metadata": {},
   "outputs": [],
   "source": [
    "save_kaas_counts(mapper_tables['group14b'], pan14b_distr_kaas_annots_counts, prefix = \"group14b\")"
   ]
  },
  {
   "cell_type": "code",
   "execution_count": null,
   "id": "ee1383ab-75a2-4e62-ab6d-559b4e4557c8",
   "metadata": {},
   "outputs": [],
   "source": [
    "pan14b_core_kaas_annots_counts"
   ]
  },
  {
   "cell_type": "code",
   "execution_count": null,
   "id": "72d883f9-2c49-45f3-9b4e-05a226da0177",
   "metadata": {},
   "outputs": [],
   "source": [
    "pan14b_acc_kaas_annots_counts"
   ]
  },
  {
   "cell_type": "code",
   "execution_count": null,
   "id": "a907aa41-b2dd-435d-8f31-cc986ca5a371",
   "metadata": {},
   "outputs": [],
   "source": [
    "pan14b_unique_kaas_annots_counts"
   ]
  },
  {
   "cell_type": "markdown",
   "id": "1258bb3d-484c-46e8-8f99-80d8958acf44",
   "metadata": {},
   "source": [
    "#### Data export"
   ]
  },
  {
   "cell_type": "markdown",
   "id": "487ace8e-caf0-4d65-a24b-66b47933a66f",
   "metadata": {},
   "source": [
    "**Auxiliary functions**"
   ]
  },
  {
   "cell_type": "code",
   "execution_count": null,
   "id": "17fe316c-a110-430d-84bc-cb48e0bb484f",
   "metadata": {},
   "outputs": [],
   "source": [
    "## Extracts the KOG annotation counts of one hierarchical BRITE level, filtering for a certain category at another BRITE level, \n",
    "## using the local KEGG hierarchy as obtained through the read_kaas_annotations() function.\n",
    "##\n",
    "## PARAMS\n",
    "## full_counts         the full KOG annotation table for a genome set\n",
    "## level               the level from which counts should be extracted ('A','B','C' or 'D')\n",
    "## filter_level        the level at which an additional filter is applied, should be one up from @level,\n",
    "##                     yet this is not enforced ('A','B', or 'C'). Set at None for no filter. (default: None)\n",
    "## filter_criterion    the criterion of any filter to be applied; ignored if @filter_level is None. (default: None)\n",
    "## full_cats           the full present BRITE hierarchy as obtained from read_kaas_annotations();\n",
    "##                     ignored if @filter_level is None. (default: None)\n",
    "## OUTPUT\n",
    "## a dataframe of counts for the requested BRITE level, after potential filtering\n",
    "##\n",
    "def extract_level_counts(full_counts, level, filter_level = None, filter_criterion = None, full_cats = None):\n",
    "    extracted_counts = full_counts[full_counts[level] != 0]\n",
    "    if filter_level != None:\n",
    "        cats = pd.Index(full_cats[filter_level][filter_criterion])\n",
    "        extracted_counts = extracted_counts.loc[cats.intersection(extracted_counts.index)]\n",
    "    return extracted_counts[level]"
   ]
  },
  {
   "cell_type": "code",
   "execution_count": null,
   "id": "2c9dedbf-ad12-41dd-a08f-520d7b0bfd52",
   "metadata": {},
   "outputs": [],
   "source": [
    "## Exports a tsv file from which a KRONA plot can be directly generated\n",
    "##\n",
    "## PARAMS\n",
    "## kaas_annots       the full KOG annotation table for a genome set\n",
    "## distr             the distribution of gene families by pangenome partition as obtained from split_pangenome()\n",
    "## distr_label       the label to identify this partition in the name of the exported file\n",
    "## partition_labels  the labels of the pangenome partitions to identify the files for the different partitions\n",
    "## path              the location at which these tsv files will be saved\n",
    "##\n",
    "def export_krona(kaas_annots, distr, distr_label, partition_labels, path):\n",
    "    for label,partition in dict(zip(partition_labels, distr)).items():\n",
    "        ids = partition['ID'].to_list()\n",
    "        \n",
    "        # KRONA expects an absolute frequency per category\n",
    "        krona_out = pd.DataFrame(kaas_annots[kaas_annots['ID'].isin(ids)].groupby(['A','B','C','D']).count())\n",
    "        \n",
    "        krona_out = krona_out.reset_index().rename(columns = {'ID': 'counts'})\n",
    "        krona_out = krona_out[['counts','A','B','C','D']]\n",
    "        krona_out.to_csv(path + '/' + distr_label + '_' + label + '_KRONA' + '.tsv', sep = '\\t', index = False, header = False)"
   ]
  },
  {
   "cell_type": "markdown",
   "id": "0dc05097-b97d-4c6e-8c47-000a37926951",
   "metadata": {},
   "source": [
    "**KRONA**"
   ]
  },
  {
   "cell_type": "code",
   "execution_count": null,
   "id": "419b015f-95b6-4876-8e67-fcea204e019f",
   "metadata": {},
   "outputs": [],
   "source": [
    "export_krona(kaas_annots_m, distr_m, 'merge', pangenome_partition_labels, processed_output)\n",
    "export_krona(kaas_annots_1, distr_1, 'group1', pangenome_partition_labels, processed_output)\n",
    "export_krona(kaas_annots_4, distr_4, 'group4', pangenome_partition_labels, processed_output)\n",
    "export_krona(kaas_annots_14a, distr_14a, 'group14a', pangenome_partition_labels, processed_output)\n",
    "export_krona(kaas_annots_14b, distr_14b, 'group14b', pangenome_partition_labels, processed_output)"
   ]
  },
  {
   "cell_type": "markdown",
   "id": "5b884129-3cca-46ea-b52d-ef449d7c1764",
   "metadata": {},
   "source": [
    "**Level A**"
   ]
  },
  {
   "cell_type": "code",
   "execution_count": null,
   "id": "b18c082d-c9ce-4769-867c-ac6aa3b1c5b7",
   "metadata": {},
   "outputs": [],
   "source": [
    "# converting to percentages\n",
    "concat_data_kog_A_m = concat_counts(list(map(lambda x: extract_level_counts(x, 'A'), panm_distr_kaas_annots_counts)),\n",
    "                                    pangenome_partition_labels)*100\n",
    "concat_data_kog_A_1 = concat_counts(list(map(lambda x: extract_level_counts(x, 'A'), pan1_distr_kaas_annots_counts)),\n",
    "                                    pangenome_partition_labels)*100\n",
    "concat_data_kog_A_4 = concat_counts(list(map(lambda x: extract_level_counts(x, 'A'), pan4_distr_kaas_annots_counts)),\n",
    "                                    pangenome_partition_labels)*100\n",
    "concat_data_kog_A_14a = concat_counts(list(map(lambda x: extract_level_counts(x, 'A'), pan14a_distr_kaas_annots_counts)),\n",
    "                                      pangenome_partition_labels)*100\n",
    "concat_data_kog_A_14b = concat_counts(list(map(lambda x: extract_level_counts(x, 'A'), pan14b_distr_kaas_annots_counts)),\n",
    "                                      pangenome_partition_labels)*100"
   ]
  },
  {
   "cell_type": "code",
   "execution_count": null,
   "id": "e1e51615-eec4-4c9d-bef0-077de087e5ec",
   "metadata": {},
   "outputs": [],
   "source": [
    "concat_data_kog_A_m.T"
   ]
  },
  {
   "cell_type": "code",
   "execution_count": null,
   "id": "25a92869-e407-4b5b-bf1a-e7684af8ddb2",
   "metadata": {},
   "outputs": [],
   "source": [
    "concat_data_kog_A_1.T"
   ]
  },
  {
   "cell_type": "code",
   "execution_count": null,
   "id": "fc4306f8-165b-4405-b75f-38457e0894e2",
   "metadata": {},
   "outputs": [],
   "source": [
    "concat_data_kog_A_4.T"
   ]
  },
  {
   "cell_type": "code",
   "execution_count": null,
   "id": "e234310d-8991-4935-b6e2-83c50b998649",
   "metadata": {},
   "outputs": [],
   "source": [
    "concat_data_kog_A_14a.T"
   ]
  },
  {
   "cell_type": "code",
   "execution_count": null,
   "id": "5da0e769-4f53-4ae2-9322-04f19b7db544",
   "metadata": {},
   "outputs": [],
   "source": [
    "concat_data_kog_A_14b.T"
   ]
  },
  {
   "cell_type": "code",
   "execution_count": null,
   "id": "13c7f35e-261e-4162-ab07-9885e300ee94",
   "metadata": {},
   "outputs": [],
   "source": [
    "concat_data_kog_A = stitch_data([concat_data_kog_A_m, concat_data_kog_A_1, \n",
    "                                 concat_data_kog_A_4, concat_data_kog_A_14a,\n",
    "                                 concat_data_kog_A_14b],\n",
    "                                \"Cluster\", cluster_labels)"
   ]
  },
  {
   "cell_type": "code",
   "execution_count": null,
   "id": "d249816c-ea35-4ec2-809f-94a3c8bc1db4",
   "metadata": {},
   "outputs": [],
   "source": [
    "concat_data_kog_A.to_csv(processed_output + \"/KOG_A_fractions.tsv\", sep = '\\t', index = False)"
   ]
  },
  {
   "cell_type": "code",
   "execution_count": null,
   "id": "26e40f86-a39e-41cb-982b-253291ae4aa9",
   "metadata": {},
   "outputs": [],
   "source": [
    "concat_data_kog_A"
   ]
  },
  {
   "cell_type": "markdown",
   "id": "efca93bb-80d4-46f9-9dec-97df4f683f45",
   "metadata": {},
   "source": [
    "**Level B**"
   ]
  },
  {
   "cell_type": "code",
   "execution_count": null,
   "id": "1933f31c-670c-4335-b704-bba9f7de57ac",
   "metadata": {},
   "outputs": [],
   "source": [
    "concat_data_kog_B_m = concat_counts(list(map(lambda x: extract_level_counts(x, 'B'), \n",
    "                                             panm_distr_kaas_annots_counts)),\n",
    "                                    pangenome_partition_labels)*100 # converting to percentages\n",
    "concat_data_kog_B_1 = concat_counts(list(map(lambda x: extract_level_counts(x, 'B'), \n",
    "                                             pan1_distr_kaas_annots_counts)),\n",
    "                                    pangenome_partition_labels)*100\n",
    "concat_data_kog_B_4 = concat_counts(list(map(lambda x: extract_level_counts(x, 'B'), \n",
    "                                             pan4_distr_kaas_annots_counts)),\n",
    "                                    pangenome_partition_labels)*100\n",
    "concat_data_kog_B_14a = concat_counts(list(map(lambda x: extract_level_counts(x, 'B'), \n",
    "                                             pan14a_distr_kaas_annots_counts)),\n",
    "                                      pangenome_partition_labels)*100\n",
    "concat_data_kog_B_14b = concat_counts(list(map(lambda x: extract_level_counts(x, 'B'), \n",
    "                                             pan14b_distr_kaas_annots_counts)),\n",
    "                                      pangenome_partition_labels)*100"
   ]
  },
  {
   "cell_type": "code",
   "execution_count": null,
   "id": "a33c0073-e733-4f7c-9d13-8fe737f00b88",
   "metadata": {},
   "outputs": [],
   "source": [
    "concat_data_kog_B_m.T"
   ]
  },
  {
   "cell_type": "code",
   "execution_count": null,
   "id": "33149841-ed74-4453-b46f-24abfd47bc28",
   "metadata": {},
   "outputs": [],
   "source": [
    "concat_data_kog_B_1.T"
   ]
  },
  {
   "cell_type": "code",
   "execution_count": null,
   "id": "42a9a5f1-cbd9-4c30-8cd8-7fe3e6e0284c",
   "metadata": {},
   "outputs": [],
   "source": [
    "concat_data_kog_B_4.T"
   ]
  },
  {
   "cell_type": "code",
   "execution_count": null,
   "id": "15e73701-16da-41c3-a1c1-1f714002f2ee",
   "metadata": {},
   "outputs": [],
   "source": [
    "concat_data_kog_B_14a.T"
   ]
  },
  {
   "cell_type": "code",
   "execution_count": null,
   "id": "3996daee-1281-439c-9266-cc70d80f4dbf",
   "metadata": {},
   "outputs": [],
   "source": [
    "concat_data_kog_B_14b.T"
   ]
  },
  {
   "cell_type": "code",
   "execution_count": null,
   "id": "c3002d79-873b-4072-a272-42f8988702e8",
   "metadata": {},
   "outputs": [],
   "source": [
    "concat_data_kog_B = stitch_data([concat_data_kog_B_m, concat_data_kog_B_1, \n",
    "                                 concat_data_kog_B_4, concat_data_kog_B_14a,\n",
    "                                 concat_data_kog_B_14b],\n",
    "                                \"Cluster\", cluster_labels)"
   ]
  },
  {
   "cell_type": "code",
   "execution_count": null,
   "id": "1060dcee-7e3e-4e0d-810b-e0e787e8cce5",
   "metadata": {},
   "outputs": [],
   "source": [
    "concat_data_kog_B.to_csv(processed_output + \"/KOG_B_fractions.tsv\", sep = '\\t', index=False)"
   ]
  },
  {
   "cell_type": "code",
   "execution_count": null,
   "id": "c00b256c-ab9d-488c-9295-0197230db554",
   "metadata": {},
   "outputs": [],
   "source": [
    "concat_data_kog_B"
   ]
  },
  {
   "cell_type": "markdown",
   "id": "953506fc-a461-4551-8e0f-eefedb4b2b81",
   "metadata": {},
   "source": [
    "**Level B filtered for A = Not included in Pathway or BRITE**"
   ]
  },
  {
   "cell_type": "code",
   "execution_count": null,
   "id": "0fd814ab-6dda-4996-9a95-6692ffbb094d",
   "metadata": {},
   "outputs": [],
   "source": [
    "concat_data_kog_B_ninc_m = concat_counts(list(map(lambda x: extract_level_counts(x, 'B', filter_level = 'A', \n",
    "                                                                                filter_criterion = \"Not Included in Pathway or Brite\", \n",
    "                                                                                full_cats = cats_kaas_m), \n",
    "                                             panm_distr_kaas_annots_counts)),\n",
    "                                         pangenome_partition_labels)*100 # converting to percentages\n",
    "concat_data_kog_B_ninc_1 = concat_counts(list(map(lambda x: extract_level_counts(x, 'B', filter_level = 'A', \n",
    "                                                                                filter_criterion = \"Not Included in Pathway or Brite\",\n",
    "                                                                                full_cats = cats_kaas_1),\n",
    "                                             pan1_distr_kaas_annots_counts)),\n",
    "                                         pangenome_partition_labels)*100\n",
    "concat_data_kog_B_ninc_4 = concat_counts(list(map(lambda x: extract_level_counts(x, 'B', filter_level = 'A', \n",
    "                                                                                filter_criterion = \"Not Included in Pathway or Brite\",\n",
    "                                                                                full_cats = cats_kaas_4), \n",
    "                                             pan4_distr_kaas_annots_counts)),\n",
    "                                         pangenome_partition_labels)*100\n",
    "concat_data_kog_B_ninc_14a = concat_counts(list(map(lambda x: extract_level_counts(x, 'B', filter_level = 'A', \n",
    "                                                                                 filter_criterion = \"Not Included in Pathway or Brite\",\n",
    "                                                                                 full_cats = cats_kaas_14a), \n",
    "                                              pan14a_distr_kaas_annots_counts)),\n",
    "                                           pangenome_partition_labels)*100\n",
    "concat_data_kog_B_ninc_14b = concat_counts(list(map(lambda x: extract_level_counts(x, 'B', filter_level = 'A', \n",
    "                                                                                 filter_criterion = \"Not Included in Pathway or Brite\",\n",
    "                                                                                 full_cats = cats_kaas_14b), \n",
    "                                              pan14b_distr_kaas_annots_counts)),\n",
    "                                           pangenome_partition_labels)*100"
   ]
  },
  {
   "cell_type": "code",
   "execution_count": null,
   "id": "f400aec4-cf62-4630-ab8b-f463821a1a87",
   "metadata": {},
   "outputs": [],
   "source": [
    "concat_data_kog_B_ninc_m.T"
   ]
  },
  {
   "cell_type": "code",
   "execution_count": null,
   "id": "7eeb1455-4a07-4b62-a5a0-0dca10917b27",
   "metadata": {},
   "outputs": [],
   "source": [
    "concat_data_kog_B_ninc_1.T"
   ]
  },
  {
   "cell_type": "code",
   "execution_count": null,
   "id": "ac133c9d-e80f-4fde-bfd1-8441ace4c3f9",
   "metadata": {},
   "outputs": [],
   "source": [
    "concat_data_kog_B_ninc_4.T"
   ]
  },
  {
   "cell_type": "code",
   "execution_count": null,
   "id": "9f3446f6-8213-4dd0-b0de-b8f9562f2f82",
   "metadata": {},
   "outputs": [],
   "source": [
    "concat_data_kog_B_ninc_14a.T"
   ]
  },
  {
   "cell_type": "code",
   "execution_count": null,
   "id": "cebc753b-2218-4c47-ade0-1eb1975237b4",
   "metadata": {},
   "outputs": [],
   "source": [
    "concat_data_kog_B_ninc_14b.T"
   ]
  },
  {
   "cell_type": "code",
   "execution_count": null,
   "id": "4232e0b1-b145-4f69-b782-7cbf44fd77c1",
   "metadata": {},
   "outputs": [],
   "source": [
    "concat_data_kog_B_ninc = stitch_data([concat_data_kog_B_ninc_m, concat_data_kog_B_ninc_1,\n",
    "                                      concat_data_kog_B_ninc_4, concat_data_kog_B_ninc_14a,\n",
    "                                      concat_data_kog_B_ninc_14b],\n",
    "                                \"Cluster\", cluster_labels)"
   ]
  },
  {
   "cell_type": "code",
   "execution_count": null,
   "id": "7be35003-8a9c-4dc7-8cd5-02b973f8d299",
   "metadata": {},
   "outputs": [],
   "source": [
    "concat_data_kog_B_ninc.to_csv(processed_output + \"/KOG_B_A_NINC_fractions.tsv\", sep = '\\t', index=False)"
   ]
  },
  {
   "cell_type": "code",
   "execution_count": null,
   "id": "17422821-2266-4cb9-a942-d1d471c64e69",
   "metadata": {},
   "outputs": [],
   "source": [
    "concat_data_kog_B_ninc"
   ]
  },
  {
   "cell_type": "markdown",
   "id": "2ae09b5d-54a4-4ff0-8d02-19c985b43018",
   "metadata": {},
   "source": [
    "**Level B filtered for A = Metabolism**"
   ]
  },
  {
   "cell_type": "code",
   "execution_count": null,
   "id": "f1131ab5-ae00-44ed-a5c0-2253b1abb6c2",
   "metadata": {},
   "outputs": [],
   "source": [
    "concat_data_kog_B_met_m = concat_counts(list(map(lambda x: extract_level_counts(x, 'B', filter_level = 'A', \n",
    "                                                                                filter_criterion = \"Metabolism\", \n",
    "                                                                                full_cats = cats_kaas_m), \n",
    "                                             panm_distr_kaas_annots_counts)),\n",
    "                                        pangenome_partition_labels)*100 # converting to percentages\n",
    "concat_data_kog_B_met_1 = concat_counts(list(map(lambda x: extract_level_counts(x, 'B', filter_level = 'A', \n",
    "                                                                                filter_criterion = \"Metabolism\",\n",
    "                                                                                full_cats = cats_kaas_1),\n",
    "                                             pan1_distr_kaas_annots_counts)),\n",
    "                                        pangenome_partition_labels)*100\n",
    "concat_data_kog_B_met_4 = concat_counts(list(map(lambda x: extract_level_counts(x, 'B', filter_level = 'A', \n",
    "                                                                                filter_criterion = \"Metabolism\",\n",
    "                                                                                full_cats = cats_kaas_4), \n",
    "                                             pan4_distr_kaas_annots_counts)),\n",
    "                                        pangenome_partition_labels)*100\n",
    "concat_data_kog_B_met_14a = concat_counts(list(map(lambda x: extract_level_counts(x, 'B', filter_level = 'A', \n",
    "                                                                                 filter_criterion = \"Metabolism\",\n",
    "                                                                                 full_cats = cats_kaas_14a), \n",
    "                                              pan14a_distr_kaas_annots_counts)),\n",
    "                                          pangenome_partition_labels)*100\n",
    "concat_data_kog_B_met_14b = concat_counts(list(map(lambda x: extract_level_counts(x, 'B', filter_level = 'A', \n",
    "                                                                                 filter_criterion = \"Metabolism\",\n",
    "                                                                                 full_cats = cats_kaas_14b), \n",
    "                                              pan14b_distr_kaas_annots_counts)),\n",
    "                                          pangenome_partition_labels)*100"
   ]
  },
  {
   "cell_type": "code",
   "execution_count": null,
   "id": "453c229e-6829-4337-98fe-b6c767783a39",
   "metadata": {},
   "outputs": [],
   "source": [
    "# Including the unclassified fraction\n",
    "def add_unclassified(met, ninc):\n",
    "    try:\n",
    "        return pd.concat([met, ninc['Unclassified: metabolism']], axis = 1)\n",
    "    except KeyError:\n",
    "        return met\n",
    "\n",
    "concat_data_kog_B_met_m = add_unclassified(concat_data_kog_B_met_m, concat_data_kog_B_ninc_m)\n",
    "concat_data_kog_B_met_1 = add_unclassified(concat_data_kog_B_met_1, concat_data_kog_B_ninc_1)\n",
    "concat_data_kog_B_met_4 = add_unclassified(concat_data_kog_B_met_4, concat_data_kog_B_ninc_4)\n",
    "concat_data_kog_B_met_14a = add_unclassified(concat_data_kog_B_met_14a, concat_data_kog_B_ninc_14a)\n",
    "concat_data_kog_B_met_14b = add_unclassified(concat_data_kog_B_met_14b, concat_data_kog_B_ninc_14b)"
   ]
  },
  {
   "cell_type": "code",
   "execution_count": null,
   "id": "85cafc92-a78f-49c1-b12e-454e387567b8",
   "metadata": {},
   "outputs": [],
   "source": [
    "concat_data_kog_B_met_m.T"
   ]
  },
  {
   "cell_type": "code",
   "execution_count": null,
   "id": "8622285a-4141-480f-ab69-22ef9bdc3f3b",
   "metadata": {},
   "outputs": [],
   "source": [
    "concat_data_kog_B_met_1.T"
   ]
  },
  {
   "cell_type": "code",
   "execution_count": null,
   "id": "ce4dd287-f334-4324-ba05-4de9b2770ea9",
   "metadata": {},
   "outputs": [],
   "source": [
    "concat_data_kog_B_met_4.T"
   ]
  },
  {
   "cell_type": "code",
   "execution_count": null,
   "id": "ca128dc6-bdaa-43d9-8263-91c68274701e",
   "metadata": {},
   "outputs": [],
   "source": [
    "concat_data_kog_B_met_14a.T"
   ]
  },
  {
   "cell_type": "code",
   "execution_count": null,
   "id": "e06f543f-6dcf-43cf-98cb-f44f64e26103",
   "metadata": {},
   "outputs": [],
   "source": [
    "concat_data_kog_B_met_14b.T"
   ]
  },
  {
   "cell_type": "code",
   "execution_count": null,
   "id": "e8b7f106-f186-4804-885e-3b626546fc06",
   "metadata": {},
   "outputs": [],
   "source": [
    "concat_data_kog_B_met = stitch_data([concat_data_kog_B_met_m, concat_data_kog_B_met_1, \n",
    "                                     concat_data_kog_B_met_4, concat_data_kog_B_met_14a,\n",
    "                                     concat_data_kog_B_met_14b],\n",
    "                                \"Cluster\", cluster_labels)"
   ]
  },
  {
   "cell_type": "code",
   "execution_count": null,
   "id": "8886ad4a-bafd-42c6-8315-ddf35e536190",
   "metadata": {},
   "outputs": [],
   "source": [
    "concat_data_kog_B_met.to_csv(processed_output + \"/KOG_B_A_MET_fractions.tsv\", sep = '\\t', index=False)"
   ]
  },
  {
   "cell_type": "code",
   "execution_count": null,
   "id": "be0705fc-a7af-40cf-a187-80d8699be087",
   "metadata": {},
   "outputs": [],
   "source": [
    "concat_data_kog_B_met"
   ]
  },
  {
   "cell_type": "markdown",
   "id": "b9df5746-d8eb-41f8-984d-f3194d26490b",
   "metadata": {},
   "source": [
    "**Level B filtered for A = Environmental Information Processing**"
   ]
  },
  {
   "cell_type": "code",
   "execution_count": null,
   "id": "3426315f-6836-4ecc-8aae-e8383dc1c52d",
   "metadata": {},
   "outputs": [],
   "source": [
    "concat_data_kog_B_eip_m = concat_counts(list(map(lambda x: extract_level_counts(x, 'B', filter_level = 'A', \n",
    "                                                                                filter_criterion = \"Environmental Information Processing\", \n",
    "                                                                                full_cats = cats_kaas_m), \n",
    "                                             panm_distr_kaas_annots_counts)),\n",
    "                                        pangenome_partition_labels)*100 # converting to percentages\n",
    "concat_data_kog_B_eip_1 = concat_counts(list(map(lambda x: extract_level_counts(x, 'B', filter_level = 'A', \n",
    "                                                                                filter_criterion = \"Environmental Information Processing\",\n",
    "                                                                                full_cats = cats_kaas_1),\n",
    "                                             pan1_distr_kaas_annots_counts)),\n",
    "                                        pangenome_partition_labels)*100\n",
    "concat_data_kog_B_eip_4 = concat_counts(list(map(lambda x: extract_level_counts(x, 'B', filter_level = 'A', \n",
    "                                                                                filter_criterion = \"Environmental Information Processing\",\n",
    "                                                                                full_cats = cats_kaas_4), \n",
    "                                             pan4_distr_kaas_annots_counts)),\n",
    "                                        pangenome_partition_labels)*100\n",
    "concat_data_kog_B_eip_14a = concat_counts(list(map(lambda x: extract_level_counts(x, 'B', filter_level = 'A', \n",
    "                                                                                 filter_criterion = \"Environmental Information Processing\",\n",
    "                                                                                 full_cats = cats_kaas_14a), \n",
    "                                              pan14a_distr_kaas_annots_counts)),\n",
    "                                          pangenome_partition_labels)*100\n",
    "concat_data_kog_B_eip_14b = concat_counts(list(map(lambda x: extract_level_counts(x, 'B', filter_level = 'A', \n",
    "                                                                                 filter_criterion = \"Environmental Information Processing\",\n",
    "                                                                                 full_cats = cats_kaas_14b), \n",
    "                                              pan14b_distr_kaas_annots_counts)),\n",
    "                                          pangenome_partition_labels)*100"
   ]
  },
  {
   "cell_type": "code",
   "execution_count": null,
   "id": "fe4e7caa-2cc0-4a14-b716-2cd13b061155",
   "metadata": {},
   "outputs": [],
   "source": [
    "concat_data_kog_B_eip_m.T"
   ]
  },
  {
   "cell_type": "code",
   "execution_count": null,
   "id": "eef77f8c-6375-467b-83ad-b92d7225a897",
   "metadata": {},
   "outputs": [],
   "source": [
    "concat_data_kog_B_eip_1.T"
   ]
  },
  {
   "cell_type": "code",
   "execution_count": null,
   "id": "524d250e-a121-4902-b1e3-215f655470c0",
   "metadata": {},
   "outputs": [],
   "source": [
    "concat_data_kog_B_eip_4.T"
   ]
  },
  {
   "cell_type": "code",
   "execution_count": null,
   "id": "3d8f5de2-c6dd-4bca-9494-cb800e762d08",
   "metadata": {},
   "outputs": [],
   "source": [
    "concat_data_kog_B_eip_14a.T"
   ]
  },
  {
   "cell_type": "code",
   "execution_count": null,
   "id": "34106808-6aa0-4c38-a361-a8579c2a7b7c",
   "metadata": {},
   "outputs": [],
   "source": [
    "concat_data_kog_B_eip_14b.T"
   ]
  },
  {
   "cell_type": "code",
   "execution_count": null,
   "id": "039a7d5a-f04a-40a5-9e03-11f5f534549d",
   "metadata": {},
   "outputs": [],
   "source": [
    "concat_data_kog_B_eip = stitch_data([concat_data_kog_B_eip_m, concat_data_kog_B_eip_1, \n",
    "                                     concat_data_kog_B_eip_4, concat_data_kog_B_eip_14a,\n",
    "                                     concat_data_kog_B_eip_14b],\n",
    "                                \"Cluster\", cluster_labels)"
   ]
  },
  {
   "cell_type": "code",
   "execution_count": null,
   "id": "281c40ef-996e-42df-83f9-5864952aa37c",
   "metadata": {},
   "outputs": [],
   "source": [
    "concat_data_kog_B_eip.to_csv(processed_output + \"/KOG_B_A_EIP_fractions.tsv\", sep = '\\t', index=False)"
   ]
  },
  {
   "cell_type": "code",
   "execution_count": null,
   "id": "0434650e-0bc2-4692-97d5-ab78e6ee9558",
   "metadata": {},
   "outputs": [],
   "source": [
    "concat_data_kog_B_eip"
   ]
  },
  {
   "cell_type": "markdown",
   "id": "0df5b759-865e-4127-b9d3-edc80b2c054e",
   "metadata": {},
   "source": [
    "**Level B filtered for A = Genetic Information Processing**"
   ]
  },
  {
   "cell_type": "code",
   "execution_count": null,
   "id": "e33cd8f2-76d7-4067-90e5-ab36f6731389",
   "metadata": {},
   "outputs": [],
   "source": [
    "concat_data_kog_B_gip_m = concat_counts(list(map(lambda x: extract_level_counts(x, 'B', filter_level = 'A', \n",
    "                                                                                filter_criterion = \"Genetic Information Processing\", \n",
    "                                                                                full_cats = cats_kaas_m), \n",
    "                                             panm_distr_kaas_annots_counts)),\n",
    "                                        pangenome_partition_labels)*100 # converting to percentages\n",
    "concat_data_kog_B_gip_1 = concat_counts(list(map(lambda x: extract_level_counts(x, 'B', filter_level = 'A', \n",
    "                                                                                filter_criterion = \"Genetic Information Processing\",\n",
    "                                                                                full_cats = cats_kaas_1),\n",
    "                                             pan1_distr_kaas_annots_counts)),\n",
    "                                        pangenome_partition_labels)*100\n",
    "concat_data_kog_B_gip_4 = concat_counts(list(map(lambda x: extract_level_counts(x, 'B', filter_level = 'A', \n",
    "                                                                                filter_criterion = \"Genetic Information Processing\",\n",
    "                                                                                full_cats = cats_kaas_4), \n",
    "                                             pan4_distr_kaas_annots_counts)),\n",
    "                                        pangenome_partition_labels)*100\n",
    "concat_data_kog_B_gip_14a = concat_counts(list(map(lambda x: extract_level_counts(x, 'B', filter_level = 'A', \n",
    "                                                                                 filter_criterion = \"Genetic Information Processing\",\n",
    "                                                                                 full_cats = cats_kaas_14a), \n",
    "                                              pan14a_distr_kaas_annots_counts)),\n",
    "                                          pangenome_partition_labels)*100\n",
    "concat_data_kog_B_gip_14b = concat_counts(list(map(lambda x: extract_level_counts(x, 'B', filter_level = 'A', \n",
    "                                                                                 filter_criterion = \"Genetic Information Processing\",\n",
    "                                                                                 full_cats = cats_kaas_14b), \n",
    "                                              pan14b_distr_kaas_annots_counts)),\n",
    "                                          pangenome_partition_labels)*100"
   ]
  },
  {
   "cell_type": "code",
   "execution_count": null,
   "id": "97ff80be-88da-4c67-b649-25f2b3d0777b",
   "metadata": {},
   "outputs": [],
   "source": [
    "# Including the unclassified fraction\n",
    "def add_unclassified(gip, ninc):\n",
    "    try:\n",
    "        return pd.concat([gip, ninc['Unclassified: genetic information processing']], axis = 1)\n",
    "    except KeyError:\n",
    "        return gip\n",
    "\n",
    "concat_data_kog_B_gip_m = add_unclassified(concat_data_kog_B_gip_m, concat_data_kog_B_ninc_m)\n",
    "concat_data_kog_B_gip_1 = add_unclassified(concat_data_kog_B_gip_1, concat_data_kog_B_ninc_1)\n",
    "concat_data_kog_B_gip_4 = add_unclassified(concat_data_kog_B_gip_4, concat_data_kog_B_ninc_4)\n",
    "concat_data_kog_B_gip_14a = add_unclassified(concat_data_kog_B_gip_14a, concat_data_kog_B_ninc_14a)\n",
    "concat_data_kog_B_gip_14b = add_unclassified(concat_data_kog_B_gip_14b, concat_data_kog_B_ninc_14b)"
   ]
  },
  {
   "cell_type": "code",
   "execution_count": null,
   "id": "4e39076d-5a16-402e-a244-f439eaa292b0",
   "metadata": {},
   "outputs": [],
   "source": [
    "concat_data_kog_B_gip_m.T"
   ]
  },
  {
   "cell_type": "code",
   "execution_count": null,
   "id": "5d1432e1-a3da-492e-93ce-727898e4b012",
   "metadata": {},
   "outputs": [],
   "source": [
    "concat_data_kog_B_gip_1.T"
   ]
  },
  {
   "cell_type": "code",
   "execution_count": null,
   "id": "be341c37-90c8-466e-b646-5779a38205f6",
   "metadata": {},
   "outputs": [],
   "source": [
    "concat_data_kog_B_gip_4.T"
   ]
  },
  {
   "cell_type": "code",
   "execution_count": null,
   "id": "aca01771-cdcf-4f9f-a041-741ace4436b2",
   "metadata": {},
   "outputs": [],
   "source": [
    "concat_data_kog_B_gip_14a.T"
   ]
  },
  {
   "cell_type": "code",
   "execution_count": null,
   "id": "eb828ea4-df55-468f-83c2-ed2ccc991f16",
   "metadata": {},
   "outputs": [],
   "source": [
    "concat_data_kog_B_gip_14b.T"
   ]
  },
  {
   "cell_type": "code",
   "execution_count": null,
   "id": "74cbddcd-c700-4063-a725-b09c5dfdef45",
   "metadata": {},
   "outputs": [],
   "source": [
    "concat_data_kog_B_gip = stitch_data([concat_data_kog_B_gip_m, concat_data_kog_B_gip_1, \n",
    "                                     concat_data_kog_B_gip_4, concat_data_kog_B_gip_14a,\n",
    "                                     concat_data_kog_B_gip_14b],\n",
    "                                \"Cluster\", cluster_labels)"
   ]
  },
  {
   "cell_type": "code",
   "execution_count": null,
   "id": "51c593e3-4389-4069-829f-928ace01b29b",
   "metadata": {},
   "outputs": [],
   "source": [
    "concat_data_kog_B_gip.to_csv(processed_output + \"/KOG_B_A_GIP_fractions.tsv\", sep = '\\t', index=False)"
   ]
  },
  {
   "cell_type": "code",
   "execution_count": null,
   "id": "aebf5066-96a8-4937-8dbe-42fbe66edd8d",
   "metadata": {},
   "outputs": [],
   "source": [
    "concat_data_kog_B_gip"
   ]
  },
  {
   "cell_type": "markdown",
   "id": "4a50fad3-4380-41bf-95bb-af1a0e4d1c30",
   "metadata": {},
   "source": [
    "**Level B filtered for A = Cellular Processes**"
   ]
  },
  {
   "cell_type": "code",
   "execution_count": null,
   "id": "9c336feb-3e4f-425c-bef7-22aff20e8bcf",
   "metadata": {},
   "outputs": [],
   "source": [
    "concat_data_kog_B_cps_m = concat_counts(list(map(lambda x: extract_level_counts(x, 'B', filter_level = 'A', \n",
    "                                                                                filter_criterion = \"Cellular Processes\", \n",
    "                                                                                full_cats = cats_kaas_m), \n",
    "                                             panm_distr_kaas_annots_counts)),\n",
    "                                        pangenome_partition_labels)*100 # converting to percentages\n",
    "concat_data_kog_B_cps_1 = concat_counts(list(map(lambda x: extract_level_counts(x, 'B', filter_level = 'A', \n",
    "                                                                                filter_criterion = \"Cellular Processes\",\n",
    "                                                                                full_cats = cats_kaas_1),\n",
    "                                             pan1_distr_kaas_annots_counts)),\n",
    "                                        pangenome_partition_labels)*100\n",
    "concat_data_kog_B_cps_4 = concat_counts(list(map(lambda x: extract_level_counts(x, 'B', filter_level = 'A', \n",
    "                                                                                filter_criterion = \"Cellular Processes\",\n",
    "                                                                                full_cats = cats_kaas_4), \n",
    "                                             pan4_distr_kaas_annots_counts)),\n",
    "                                        pangenome_partition_labels)*100\n",
    "concat_data_kog_B_cps_14a = concat_counts(list(map(lambda x: extract_level_counts(x, 'B', filter_level = 'A', \n",
    "                                                                                 filter_criterion = \"Cellular Processes\",\n",
    "                                                                                 full_cats = cats_kaas_14a), \n",
    "                                              pan14a_distr_kaas_annots_counts)),\n",
    "                                          pangenome_partition_labels)*100\n",
    "concat_data_kog_B_cps_14b = concat_counts(list(map(lambda x: extract_level_counts(x, 'B', filter_level = 'A', \n",
    "                                                                                 filter_criterion = \"Cellular Processes\",\n",
    "                                                                                 full_cats = cats_kaas_14b), \n",
    "                                              pan14b_distr_kaas_annots_counts)),\n",
    "                                          pangenome_partition_labels)*100"
   ]
  },
  {
   "cell_type": "code",
   "execution_count": null,
   "id": "a3ca29f1-c695-46a6-80f0-0a1db22e392d",
   "metadata": {},
   "outputs": [],
   "source": [
    "# Including the unclassified fraction\n",
    "def add_unclassified(cps, ninc):\n",
    "    try:\n",
    "        return pd.concat([cps, ninc['Unclassified: signaling and cellular processes']], axis = 1)\n",
    "    except KeyError:\n",
    "        return cps\n",
    "\n",
    "concat_data_kog_B_cps_m = add_unclassified(concat_data_kog_B_cps_m, concat_data_kog_B_ninc_m)\n",
    "concat_data_kog_B_cps_1 = add_unclassified(concat_data_kog_B_cps_1, concat_data_kog_B_ninc_1)\n",
    "concat_data_kog_B_cps_4 = add_unclassified(concat_data_kog_B_cps_4, concat_data_kog_B_ninc_4)\n",
    "concat_data_kog_B_cps_14a = add_unclassified(concat_data_kog_B_cps_14a, concat_data_kog_B_ninc_14a)\n",
    "concat_data_kog_B_cps_14b = add_unclassified(concat_data_kog_B_cps_14b, concat_data_kog_B_ninc_14b)"
   ]
  },
  {
   "cell_type": "code",
   "execution_count": null,
   "id": "2b31a244-aba8-4a88-a9df-8feaf6dfc84b",
   "metadata": {},
   "outputs": [],
   "source": [
    "concat_data_kog_B_cps_m.T"
   ]
  },
  {
   "cell_type": "code",
   "execution_count": null,
   "id": "558a1614-d801-4340-8319-d78fef8750f2",
   "metadata": {},
   "outputs": [],
   "source": [
    "concat_data_kog_B_cps_1.T"
   ]
  },
  {
   "cell_type": "code",
   "execution_count": null,
   "id": "22960156-9e66-4663-baa9-1db2727e86b2",
   "metadata": {},
   "outputs": [],
   "source": [
    "concat_data_kog_B_cps_4.T"
   ]
  },
  {
   "cell_type": "code",
   "execution_count": null,
   "id": "731b50ef-5222-4f12-a68c-00e5dadd00ed",
   "metadata": {},
   "outputs": [],
   "source": [
    "concat_data_kog_B_cps_14a.T"
   ]
  },
  {
   "cell_type": "code",
   "execution_count": null,
   "id": "91cf9079-51cf-4a5f-85c2-69c97f0fd0ec",
   "metadata": {},
   "outputs": [],
   "source": [
    "concat_data_kog_B_cps_14b.T"
   ]
  },
  {
   "cell_type": "code",
   "execution_count": null,
   "id": "76f3f4bb-99e1-4e15-9088-0370f1f9a817",
   "metadata": {},
   "outputs": [],
   "source": [
    "concat_data_kog_B_cps = stitch_data([concat_data_kog_B_cps_m, concat_data_kog_B_cps_1,\n",
    "                                     concat_data_kog_B_cps_4, concat_data_kog_B_cps_14a,\n",
    "                                     concat_data_kog_B_cps_14b],\n",
    "                                \"Cluster\", cluster_labels)"
   ]
  },
  {
   "cell_type": "code",
   "execution_count": null,
   "id": "787c7bf9-5a40-4189-a78c-370d0f8402fe",
   "metadata": {},
   "outputs": [],
   "source": [
    "concat_data_kog_B_cps.to_csv(processed_output + \"/KOG_B_A_CPS_fractions.tsv\", sep = '\\t', index=False)"
   ]
  },
  {
   "cell_type": "code",
   "execution_count": null,
   "id": "424482f7-bc98-4140-9740-0f342f1a735a",
   "metadata": {},
   "outputs": [],
   "source": [
    "concat_data_kog_B_cps"
   ]
  },
  {
   "cell_type": "code",
   "execution_count": null,
   "id": "ea41daa3-753e-46ff-aabc-012309155e1f",
   "metadata": {},
   "outputs": [],
   "source": []
  }
 ],
 "metadata": {
  "kernelspec": {
   "display_name": "Python 3 (ipykernel)",
   "language": "python",
   "name": "python3"
  },
  "language_info": {
   "codemirror_mode": {
    "name": "ipython",
    "version": 3
   },
   "file_extension": ".py",
   "mimetype": "text/x-python",
   "name": "python",
   "nbconvert_exporter": "python",
   "pygments_lexer": "ipython3",
   "version": "3.10.12"
  }
 },
 "nbformat": 4,
 "nbformat_minor": 5
}
